{
 "cells": [
  {
   "cell_type": "code",
   "execution_count": 35,
   "id": "initial_id",
   "metadata": {
    "collapsed": true,
    "ExecuteTime": {
     "end_time": "2023-11-02T21:12:13.560175Z",
     "start_time": "2023-11-02T21:12:13.506132Z"
    }
   },
   "outputs": [
    {
     "name": "stdout",
     "output_type": "stream",
     "text": [
      "  name       date\n",
      "0  Amy 2009-08-03\n",
      "1  Bob 2010-01-16\n"
     ]
    },
    {
     "data": {
      "text/plain": "  name       date  year  month  day\n0  Amy 2009-08-03  2009      8    3\n1  Bob 2010-01-16  2010      1   16",
      "text/html": "<div>\n<style scoped>\n    .dataframe tbody tr th:only-of-type {\n        vertical-align: middle;\n    }\n\n    .dataframe tbody tr th {\n        vertical-align: top;\n    }\n\n    .dataframe thead th {\n        text-align: right;\n    }\n</style>\n<table border=\"1\" class=\"dataframe\">\n  <thead>\n    <tr style=\"text-align: right;\">\n      <th></th>\n      <th>name</th>\n      <th>date</th>\n      <th>year</th>\n      <th>month</th>\n      <th>day</th>\n    </tr>\n  </thead>\n  <tbody>\n    <tr>\n      <th>0</th>\n      <td>Amy</td>\n      <td>2009-08-03</td>\n      <td>2009</td>\n      <td>8</td>\n      <td>3</td>\n    </tr>\n    <tr>\n      <th>1</th>\n      <td>Bob</td>\n      <td>2010-01-16</td>\n      <td>2010</td>\n      <td>1</td>\n      <td>16</td>\n    </tr>\n  </tbody>\n</table>\n</div>"
     },
     "execution_count": 35,
     "metadata": {},
     "output_type": "execute_result"
    }
   ],
   "source": [
    "import pandas as pd\n",
    "import numpy as np\n",
    "from datetime import datetime\n",
    "\n",
    "# Function to create a DataFrame with random normal distributions\n",
    "def create_df(n=10):\n",
    "    return pd.DataFrame({\n",
    "        'a': np.random.normal(size=n),\n",
    "        'b': np.random.normal(size=n),\n",
    "        'c': np.random.normal(size=n),\n",
    "        'd': np.random.normal(size=n)\n",
    "    })\n",
    "\n",
    "# Summarize with medians\n",
    "df = create_df()\n",
    "summary = df.agg({\n",
    "    'a': 'median',\n",
    "    'b': 'median',\n",
    "    'c': 'median',\n",
    "    'd': 'median'\n",
    "})\n",
    "summary['n'] = len(df)\n",
    "\n",
    "# Group by and summarize\n",
    "df['grp'] = np.random.choice([1, 2], size=10)\n",
    "group_summary = df.groupby('grp').agg('median')\n",
    "\n",
    "# Function to create a DataFrame with random normal distributions and NAs\n",
    "def rnorm_na(n, n_na, mean=0, sd=1):\n",
    "    values = np.random.normal(loc=mean, scale=sd, size=n - n_na).tolist()\n",
    "    values.extend([np.nan] * n_na)\n",
    "    np.random.shuffle(values)\n",
    "    return values\n",
    "\n",
    "# Create a DataFrame with missing values\n",
    "df_miss = pd.DataFrame({\n",
    "    'a': rnorm_na(5, 1),\n",
    "    'b': rnorm_na(5, 1),\n",
    "    'c': rnorm_na(5, 2),\n",
    "    'd': np.random.normal(size=5)\n",
    "})\n",
    "\n",
    "# Summarize with medians, handling missing values\n",
    "miss_summary = df_miss.agg(lambda x: x.median(skipna=True))\n",
    "miss_summary['n'] = len(df_miss)\n",
    "\n",
    "# Summarize with medians and count missing values\n",
    "def summarize_with_missing(df):\n",
    "    summary_df = pd.DataFrame()\n",
    "    for col in df.columns:\n",
    "        summary_df[f\"{col}_median\"] = [df[col].median(skipna=True)]\n",
    "        summary_df[f\"{col}_n_miss\"] = [df[col].isna().sum()]\n",
    "    summary_df['n'] = len(df)\n",
    "    return summary_df\n",
    "\n",
    "miss_summary_with_count = summarize_with_missing(df_miss)\n",
    "\n",
    "# Replace missing values with 0\n",
    "df_miss.fillna(0, inplace=True)\n",
    "\n",
    "# Create absolute value columns\n",
    "for col in df_miss.columns:\n",
    "    df_miss[f\"{col}_abs\"] = df_miss[col].abs()\n",
    "\n",
    "# Filter rows with any and all NAs\n",
    "df_miss_any_na = df_miss[df_miss.isna().any(axis=1)]\n",
    "df_miss_all_na = df_miss[df_miss.isna().all(axis=1)]\n",
    "\n",
    "# Expand dates to year, month, day\n",
    "def expand_dates(df, date_col):\n",
    "    df['year'] = df[date_col].dt.year\n",
    "    df['month'] = df[date_col].dt.month\n",
    "    df['day'] = df[date_col].dt.day\n",
    "    return df\n",
    "\n",
    "# Example DataFrame with dates\n",
    "df_date = pd.DataFrame({\n",
    "    'name': ['Amy', 'Bob'],\n",
    "    'date': pd.to_datetime(['2009-08-03', '2010-01-16'])\n",
    "})\n",
    "print(df_date)\n",
    "\n",
    "df_date_expanded = expand_dates(df_date, 'date')\n",
    "df_date_expanded"
   ]
  },
  {
   "cell_type": "code",
   "execution_count": 36,
   "outputs": [
    {
     "name": "stderr",
     "output_type": "stream",
     "text": [
      "/var/folders/fw/m5f2ykhd1yzc0yxvp3g1vy180000gp/T/ipykernel_45602/2360115035.py:9: FutureWarning: ['color', 'clarity'] did not aggregate successfully. If any error is raised this will raise in a future version of pandas. Drop these columns/ops to avoid this warning.\n",
      "  summary = df.groupby(group_by).agg(lambda x: x.mean(skipna=True))\n"
     ]
    },
    {
     "data": {
      "text/plain": "              carat      depth      table        price         x         y  \\\ncut                                                                          \nFair       1.046137  64.041677  59.053789  4358.757764  6.246894  6.182652   \nGood       0.849185  62.365879  58.694639  3928.864452  5.838785  5.850744   \nIdeal      0.702837  61.709401  55.951668  3457.541970  5.507451  5.520080   \nPremium    0.891955  61.264673  58.746095  4584.257704  5.973887  5.944879   \nVery Good  0.806381  61.818275  57.956150  3981.759891  5.740696  5.770026   \n\n                  z      n  \ncut                         \nFair       3.982770   1610  \nGood       3.639507   4906  \nIdeal      3.401448  21551  \nPremium    3.647124  13791  \nVery Good  3.559801  12082  ",
      "text/html": "<div>\n<style scoped>\n    .dataframe tbody tr th:only-of-type {\n        vertical-align: middle;\n    }\n\n    .dataframe tbody tr th {\n        vertical-align: top;\n    }\n\n    .dataframe thead th {\n        text-align: right;\n    }\n</style>\n<table border=\"1\" class=\"dataframe\">\n  <thead>\n    <tr style=\"text-align: right;\">\n      <th></th>\n      <th>carat</th>\n      <th>depth</th>\n      <th>table</th>\n      <th>price</th>\n      <th>x</th>\n      <th>y</th>\n      <th>z</th>\n      <th>n</th>\n    </tr>\n    <tr>\n      <th>cut</th>\n      <th></th>\n      <th></th>\n      <th></th>\n      <th></th>\n      <th></th>\n      <th></th>\n      <th></th>\n      <th></th>\n    </tr>\n  </thead>\n  <tbody>\n    <tr>\n      <th>Fair</th>\n      <td>1.046137</td>\n      <td>64.041677</td>\n      <td>59.053789</td>\n      <td>4358.757764</td>\n      <td>6.246894</td>\n      <td>6.182652</td>\n      <td>3.982770</td>\n      <td>1610</td>\n    </tr>\n    <tr>\n      <th>Good</th>\n      <td>0.849185</td>\n      <td>62.365879</td>\n      <td>58.694639</td>\n      <td>3928.864452</td>\n      <td>5.838785</td>\n      <td>5.850744</td>\n      <td>3.639507</td>\n      <td>4906</td>\n    </tr>\n    <tr>\n      <th>Ideal</th>\n      <td>0.702837</td>\n      <td>61.709401</td>\n      <td>55.951668</td>\n      <td>3457.541970</td>\n      <td>5.507451</td>\n      <td>5.520080</td>\n      <td>3.401448</td>\n      <td>21551</td>\n    </tr>\n    <tr>\n      <th>Premium</th>\n      <td>0.891955</td>\n      <td>61.264673</td>\n      <td>58.746095</td>\n      <td>4584.257704</td>\n      <td>5.973887</td>\n      <td>5.944879</td>\n      <td>3.647124</td>\n      <td>13791</td>\n    </tr>\n    <tr>\n      <th>Very Good</th>\n      <td>0.806381</td>\n      <td>61.818275</td>\n      <td>57.956150</td>\n      <td>3981.759891</td>\n      <td>5.740696</td>\n      <td>5.770026</td>\n      <td>3.559801</td>\n      <td>12082</td>\n    </tr>\n  </tbody>\n</table>\n</div>"
     },
     "execution_count": 36,
     "metadata": {},
     "output_type": "execute_result"
    }
   ],
   "source": [
    "import pandas as pd\n",
    "\n",
    "# Load the CSV file into a DataFrame\n",
    "df_diamonds = pd.read_csv('data/diamonds.csv')\n",
    "\n",
    "# Define the function to summarize means for numeric columns\n",
    "def summarize_means(df, group_by):\n",
    "    # Group by the specified column and calculate mean for numeric columns, ignoring NA values\n",
    "    summary = df.groupby(group_by).agg(lambda x: x.mean(skipna=True))\n",
    "    summary['n'] = df.groupby(group_by).size()\n",
    "    return summary\n",
    "\n",
    "# Call the function and pass the 'cut' column as the group_by argument\n",
    "summarize_means(df_diamonds, 'cut')\n"
   ],
   "metadata": {
    "collapsed": false,
    "ExecuteTime": {
     "end_time": "2023-11-02T21:12:15.163637Z",
     "start_time": "2023-11-02T21:12:15.018564Z"
    }
   },
   "id": "1ec7bcd1ebcbd4cd"
  },
  {
   "cell_type": "code",
   "execution_count": 37,
   "outputs": [
    {
     "data": {
      "text/plain": "              carat         x         y         z      n\ncut                                                     \nFair       1.046137  6.246894  6.182652  3.982770   1610\nGood       0.849185  5.838785  5.850744  3.639507   4906\nIdeal      0.702837  5.507451  5.520080  3.401448  21551\nPremium    0.891955  5.973887  5.944879  3.647124  13791\nVery Good  0.806381  5.740696  5.770026  3.559801  12082",
      "text/html": "<div>\n<style scoped>\n    .dataframe tbody tr th:only-of-type {\n        vertical-align: middle;\n    }\n\n    .dataframe tbody tr th {\n        vertical-align: top;\n    }\n\n    .dataframe thead th {\n        text-align: right;\n    }\n</style>\n<table border=\"1\" class=\"dataframe\">\n  <thead>\n    <tr style=\"text-align: right;\">\n      <th></th>\n      <th>carat</th>\n      <th>x</th>\n      <th>y</th>\n      <th>z</th>\n      <th>n</th>\n    </tr>\n    <tr>\n      <th>cut</th>\n      <th></th>\n      <th></th>\n      <th></th>\n      <th></th>\n      <th></th>\n    </tr>\n  </thead>\n  <tbody>\n    <tr>\n      <th>Fair</th>\n      <td>1.046137</td>\n      <td>6.246894</td>\n      <td>6.182652</td>\n      <td>3.982770</td>\n      <td>1610</td>\n    </tr>\n    <tr>\n      <th>Good</th>\n      <td>0.849185</td>\n      <td>5.838785</td>\n      <td>5.850744</td>\n      <td>3.639507</td>\n      <td>4906</td>\n    </tr>\n    <tr>\n      <th>Ideal</th>\n      <td>0.702837</td>\n      <td>5.507451</td>\n      <td>5.520080</td>\n      <td>3.401448</td>\n      <td>21551</td>\n    </tr>\n    <tr>\n      <th>Premium</th>\n      <td>0.891955</td>\n      <td>5.973887</td>\n      <td>5.944879</td>\n      <td>3.647124</td>\n      <td>13791</td>\n    </tr>\n    <tr>\n      <th>Very Good</th>\n      <td>0.806381</td>\n      <td>5.740696</td>\n      <td>5.770026</td>\n      <td>3.559801</td>\n      <td>12082</td>\n    </tr>\n  </tbody>\n</table>\n</div>"
     },
     "execution_count": 37,
     "metadata": {},
     "output_type": "execute_result"
    }
   ],
   "source": [
    "# Define the function to summarize means for specified columns\n",
    "def summarize_means_selected(df, group_by, columns):\n",
    "    # Select only the specified columns for aggregation\n",
    "    df_selected = df[group_by + columns]\n",
    "    # Group by the specified 'group_by' column and calculate mean for the selected columns, ignoring NA values\n",
    "    summary = df_selected.groupby(group_by).agg(lambda x: x.mean(skipna=True))\n",
    "    summary['n'] = df_selected.groupby(group_by).size()\n",
    "    return summary\n",
    "\n",
    "# Call the function and pass the 'cut' column as the group_by argument and the specified columns\n",
    "selected_columns = ['carat', 'x', 'y', 'z']\n",
    "summarize_means_selected(df_diamonds, ['cut'], selected_columns)"
   ],
   "metadata": {
    "collapsed": false,
    "ExecuteTime": {
     "end_time": "2023-11-02T21:12:15.987803Z",
     "start_time": "2023-11-02T21:12:15.949497Z"
    }
   },
   "id": "7aed7545fcb48342"
  },
  {
   "cell_type": "code",
   "execution_count": 38,
   "outputs": [
    {
     "data": {
      "text/plain": "               a         b         c         d\nmedian -0.352680 -0.167668 -0.243206  0.067583\nmean   -0.433823  0.146498 -0.174421 -0.103702",
      "text/html": "<div>\n<style scoped>\n    .dataframe tbody tr th:only-of-type {\n        vertical-align: middle;\n    }\n\n    .dataframe tbody tr th {\n        vertical-align: top;\n    }\n\n    .dataframe thead th {\n        text-align: right;\n    }\n</style>\n<table border=\"1\" class=\"dataframe\">\n  <thead>\n    <tr style=\"text-align: right;\">\n      <th></th>\n      <th>a</th>\n      <th>b</th>\n      <th>c</th>\n      <th>d</th>\n    </tr>\n  </thead>\n  <tbody>\n    <tr>\n      <th>median</th>\n      <td>-0.352680</td>\n      <td>-0.167668</td>\n      <td>-0.243206</td>\n      <td>0.067583</td>\n    </tr>\n    <tr>\n      <th>mean</th>\n      <td>-0.433823</td>\n      <td>0.146498</td>\n      <td>-0.174421</td>\n      <td>-0.103702</td>\n    </tr>\n  </tbody>\n</table>\n</div>"
     },
     "execution_count": 38,
     "metadata": {},
     "output_type": "execute_result"
    }
   ],
   "source": [
    "# Function to summarize both median and mean for specified columns\n",
    "def summarize_median_mean(df, columns):\n",
    "    summary = df[columns].agg(['median', 'mean'])\n",
    "    return summary\n",
    "\n",
    "# Applying the function to the dataframe with columns a to d\n",
    "columns_to_summarize = ['a', 'b', 'c', 'd']\n",
    "summarize_median_mean(df, columns_to_summarize)"
   ],
   "metadata": {
    "collapsed": false,
    "ExecuteTime": {
     "end_time": "2023-11-02T21:12:16.825884Z",
     "start_time": "2023-11-02T21:12:16.811421Z"
    }
   },
   "id": "905e9f626f373457"
  },
  {
   "cell_type": "code",
   "execution_count": 39,
   "outputs": [
    {
     "name": "stderr",
     "output_type": "stream",
     "text": [
      "/var/folders/fw/m5f2ykhd1yzc0yxvp3g1vy180000gp/T/ipykernel_45602/4109082969.py:4: FutureWarning: The default value of numeric_only in DataFrameGroupBy.median is deprecated. In a future version, numeric_only will default to False. Either specify numeric_only or select only columns which should be valid for the function.\n",
      "  summary = df.groupby(group_by).median()\n"
     ]
    },
    {
     "data": {
      "text/plain": "           carat  depth  table   price      x     y     z\ncut                                                      \nFair        1.00   65.0   58.0  3282.0  6.175  6.10  3.97\nGood        0.82   63.4   58.0  3050.5  5.980  5.99  3.70\nIdeal       0.54   61.8   56.0  1810.0  5.250  5.26  3.23\nPremium     0.86   61.4   59.0  3185.0  6.110  6.06  3.72\nVery Good   0.71   62.1   58.0  2648.0  5.740  5.77  3.56",
      "text/html": "<div>\n<style scoped>\n    .dataframe tbody tr th:only-of-type {\n        vertical-align: middle;\n    }\n\n    .dataframe tbody tr th {\n        vertical-align: top;\n    }\n\n    .dataframe thead th {\n        text-align: right;\n    }\n</style>\n<table border=\"1\" class=\"dataframe\">\n  <thead>\n    <tr style=\"text-align: right;\">\n      <th></th>\n      <th>carat</th>\n      <th>depth</th>\n      <th>table</th>\n      <th>price</th>\n      <th>x</th>\n      <th>y</th>\n      <th>z</th>\n    </tr>\n    <tr>\n      <th>cut</th>\n      <th></th>\n      <th></th>\n      <th></th>\n      <th></th>\n      <th></th>\n      <th></th>\n      <th></th>\n    </tr>\n  </thead>\n  <tbody>\n    <tr>\n      <th>Fair</th>\n      <td>1.00</td>\n      <td>65.0</td>\n      <td>58.0</td>\n      <td>3282.0</td>\n      <td>6.175</td>\n      <td>6.10</td>\n      <td>3.97</td>\n    </tr>\n    <tr>\n      <th>Good</th>\n      <td>0.82</td>\n      <td>63.4</td>\n      <td>58.0</td>\n      <td>3050.5</td>\n      <td>5.980</td>\n      <td>5.99</td>\n      <td>3.70</td>\n    </tr>\n    <tr>\n      <th>Ideal</th>\n      <td>0.54</td>\n      <td>61.8</td>\n      <td>56.0</td>\n      <td>1810.0</td>\n      <td>5.250</td>\n      <td>5.26</td>\n      <td>3.23</td>\n    </tr>\n    <tr>\n      <th>Premium</th>\n      <td>0.86</td>\n      <td>61.4</td>\n      <td>59.0</td>\n      <td>3185.0</td>\n      <td>6.110</td>\n      <td>6.06</td>\n      <td>3.72</td>\n    </tr>\n    <tr>\n      <th>Very Good</th>\n      <td>0.71</td>\n      <td>62.1</td>\n      <td>58.0</td>\n      <td>2648.0</td>\n      <td>5.740</td>\n      <td>5.77</td>\n      <td>3.56</td>\n    </tr>\n  </tbody>\n</table>\n</div>"
     },
     "execution_count": 39,
     "metadata": {},
     "output_type": "execute_result"
    }
   ],
   "source": [
    "# Define the function to summarize median for all columns\n",
    "def summarize_median_all_columns(df, group_by):\n",
    "    # Group by the specified 'group_by' column and calculate median for all columns, ignoring NA values\n",
    "    summary = df.groupby(group_by).median()\n",
    "    return summary\n",
    "\n",
    "# Call the function and pass the 'grp' column as the group_by argument\n",
    "summarize_median_all_columns(df_diamonds, 'cut')  # Assuming 'cut' is used as an example for 'grp'\n",
    "\n"
   ],
   "metadata": {
    "collapsed": false,
    "ExecuteTime": {
     "end_time": "2023-11-02T21:12:17.502953Z",
     "start_time": "2023-11-02T21:12:17.448552Z"
    }
   },
   "id": "e972d3c92e3ffa16"
  },
  {
   "cell_type": "code",
   "execution_count": 40,
   "outputs": [
    {
     "data": {
      "text/plain": "a   -0.434442\nb    0.337332\nc    0.672295\nd    0.082710\nn    5.000000\ndtype: float64"
     },
     "execution_count": 40,
     "metadata": {},
     "output_type": "execute_result"
    }
   ],
   "source": [
    "import numpy as np\n",
    "\n",
    "# Define the function again now that numpy is imported\n",
    "def rnorm_na(n, n_na, mean=0, sd=1):\n",
    "    values = np.random.normal(loc=mean, scale=sd, size=n - n_na).tolist()\n",
    "    values.extend([np.nan] * n_na)\n",
    "    np.random.shuffle(values)\n",
    "    return values\n",
    "\n",
    "# Create the DataFrame with missing values again\n",
    "df_miss = pd.DataFrame({\n",
    "    'a': rnorm_na(5, 1),\n",
    "    'b': rnorm_na(5, 1),\n",
    "    'c': rnorm_na(5, 2),\n",
    "    'd': np.random.normal(size=5)\n",
    "})\n",
    "\n",
    "# Summarize with medians, handling missing values\n",
    "miss_summary_medians = df_miss.agg(lambda x: x.median(skipna=True))\n",
    "miss_summary_medians['n'] = len(df_miss)\n",
    "\n",
    "miss_summary_medians\n"
   ],
   "metadata": {
    "collapsed": false,
    "ExecuteTime": {
     "end_time": "2023-11-02T21:12:18.574156Z",
     "start_time": "2023-11-02T21:12:18.565120Z"
    }
   },
   "id": "570fb92bd302c390"
  },
  {
   "cell_type": "code",
   "execution_count": 41,
   "outputs": [
    {
     "data": {
      "text/plain": "a   -0.434442\nb    0.337332\nc    0.672295\nd    0.082710\nn    5.000000\ndtype: float64"
     },
     "execution_count": 41,
     "metadata": {},
     "output_type": "execute_result"
    }
   ],
   "source": [
    "import pandas as pd\n",
    "import numpy as np\n",
    "\n",
    "# Function to create random numbers with specified number of NaNs\n",
    "# def rnorm_na(n, n_na, mean=0, sd=1):\n",
    "#     values = np.random.normal(loc=mean, scale=sd, size=n - n_na).tolist()\n",
    "#     values += [np.nan] * n_na\n",
    "#     np.random.shuffle(values)\n",
    "#     return values\n",
    "# \n",
    "# # Create the DataFrame with missing values\n",
    "# df_miss = pd.DataFrame({\n",
    "#     'a': rnorm_na(5, 1),\n",
    "#     'b': rnorm_na(5, 1),\n",
    "#     'c': rnorm_na(5, 2),\n",
    "#     'd': np.random.normal(size=5)\n",
    "# })\n",
    "\n",
    "# Summarize with medians, skipping NaN values\n",
    "medians = df_miss.median(skipna=True)\n",
    "medians['n'] = len(df_miss)\n",
    "\n",
    "medians\n"
   ],
   "metadata": {
    "collapsed": false,
    "ExecuteTime": {
     "end_time": "2023-11-02T21:12:19.392885Z",
     "start_time": "2023-11-02T21:12:19.386473Z"
    }
   },
   "id": "2578a901ec4ccedd"
  },
  {
   "cell_type": "code",
   "execution_count": 42,
   "outputs": [
    {
     "data": {
      "text/plain": "(          a         b         c         d  n\n 0 -0.231731  1.540338 -0.461585  0.265786  5,\n                a         b         c         d\n median -0.231731  1.540338 -0.461585  0.265786\n count   4.000000  4.000000  3.000000  5.000000\n n_miss  1.000000  1.000000  2.000000  0.000000\n n       5.000000  5.000000  5.000000  5.000000)"
     },
     "execution_count": 42,
     "metadata": {},
     "output_type": "execute_result"
    }
   ],
   "source": [
    "import pandas as pd\n",
    "import numpy as np\n",
    "\n",
    "# Re-defining the function as it might not be retained from the previous context\n",
    "def rnorm_na(n, n_na, mean=0, sd=1):\n",
    "    values = np.random.normal(loc=mean, scale=sd, size=n - n_na).tolist()\n",
    "    values.extend([np.nan] * n_na)\n",
    "    np.random.shuffle(values)\n",
    "    return values\n",
    "\n",
    "# Create a DataFrame with missing values\n",
    "df_miss = pd.DataFrame({\n",
    "    'a': rnorm_na(5, 1),\n",
    "    'b': rnorm_na(5, 1),\n",
    "    'c': rnorm_na(5, 2),\n",
    "    'd': np.random.normal(size=5)\n",
    "})\n",
    "\n",
    "# First summary: median of each column, excluding NaN values, and total count\n",
    "summary1 = df_miss.median(skipna=True).to_frame().T\n",
    "summary1['n'] = len(df_miss)\n",
    "\n",
    "# Second summary: median of each column, excluding NaN values, count of NaNs for each column, and total count\n",
    "summary2 = df_miss.agg(['median', 'count'])\n",
    "summary2.loc['n_miss'] = df_miss.isna().sum()\n",
    "summary2.loc['n'] = [len(df_miss)] * len(df_miss.columns)\n",
    "\n",
    "(summary1, summary2)\n"
   ],
   "metadata": {
    "collapsed": false,
    "ExecuteTime": {
     "end_time": "2023-11-02T21:12:21.449097Z",
     "start_time": "2023-11-02T21:12:21.441401Z"
    }
   },
   "id": "6056076d308e2f67"
  },
  {
   "cell_type": "code",
   "execution_count": 43,
   "outputs": [
    {
     "data": {
      "text/plain": "   median_a  median_b  median_c  median_d  n_miss_a  n_miss_b  n_miss_c  \\\n0 -0.231731  1.540338 -0.461585  0.265786       1.0       1.0       2.0   \n\n   n_miss_d    n  \n0       0.0  5.0  ",
      "text/html": "<div>\n<style scoped>\n    .dataframe tbody tr th:only-of-type {\n        vertical-align: middle;\n    }\n\n    .dataframe tbody tr th {\n        vertical-align: top;\n    }\n\n    .dataframe thead th {\n        text-align: right;\n    }\n</style>\n<table border=\"1\" class=\"dataframe\">\n  <thead>\n    <tr style=\"text-align: right;\">\n      <th></th>\n      <th>median_a</th>\n      <th>median_b</th>\n      <th>median_c</th>\n      <th>median_d</th>\n      <th>n_miss_a</th>\n      <th>n_miss_b</th>\n      <th>n_miss_c</th>\n      <th>n_miss_d</th>\n      <th>n</th>\n    </tr>\n  </thead>\n  <tbody>\n    <tr>\n      <th>0</th>\n      <td>-0.231731</td>\n      <td>1.540338</td>\n      <td>-0.461585</td>\n      <td>0.265786</td>\n      <td>1.0</td>\n      <td>1.0</td>\n      <td>2.0</td>\n      <td>0.0</td>\n      <td>5.0</td>\n    </tr>\n  </tbody>\n</table>\n</div>"
     },
     "execution_count": 43,
     "metadata": {},
     "output_type": "execute_result"
    }
   ],
   "source": [
    "import pandas as pd\n",
    "\n",
    "# Assuming df_miss is already defined as shown in the previous Python code\n",
    "\n",
    "# Define the functions to calculate median and count missing values\n",
    "def median_ignore_nan(col):\n",
    "    return col.median(skipna=True)\n",
    "\n",
    "def count_nan(col):\n",
    "    return col.isna().sum()\n",
    "\n",
    "# Calculate median and missing count for each column\n",
    "medians = df_miss.apply(median_ignore_nan).rename(lambda x: f'median_{x}')\n",
    "missing_counts = df_miss.apply(count_nan).rename(lambda x: f'n_miss_{x}')\n",
    "\n",
    "# Combine the results into a single DataFrame\n",
    "summary_df = pd.concat([medians, missing_counts])\n",
    "\n",
    "# Add the total number of observations\n",
    "summary_df['n'] = len(df_miss)\n",
    "\n",
    "# Convert the Series to a DataFrame\n",
    "summary_df = summary_df.to_frame().transpose()\n",
    "\n",
    "summary_df\n"
   ],
   "metadata": {
    "collapsed": false,
    "ExecuteTime": {
     "end_time": "2023-11-02T21:12:22.490190Z",
     "start_time": "2023-11-02T21:12:22.482089Z"
    }
   },
   "id": "8ea8d759b86a7dd6"
  },
  {
   "cell_type": "code",
   "execution_count": 44,
   "outputs": [
    {
     "data": {
      "text/plain": "          a         b         c         d\n0  0.197643  1.197322  0.000000  1.713343\n1  0.413900  2.284333 -1.315907  1.041175\n2 -0.661104  0.714224 -0.068242 -0.033236\n3  0.000000  0.000000 -0.461585  0.065641\n4 -1.180191  1.883354  0.000000  0.265786",
      "text/html": "<div>\n<style scoped>\n    .dataframe tbody tr th:only-of-type {\n        vertical-align: middle;\n    }\n\n    .dataframe tbody tr th {\n        vertical-align: top;\n    }\n\n    .dataframe thead th {\n        text-align: right;\n    }\n</style>\n<table border=\"1\" class=\"dataframe\">\n  <thead>\n    <tr style=\"text-align: right;\">\n      <th></th>\n      <th>a</th>\n      <th>b</th>\n      <th>c</th>\n      <th>d</th>\n    </tr>\n  </thead>\n  <tbody>\n    <tr>\n      <th>0</th>\n      <td>0.197643</td>\n      <td>1.197322</td>\n      <td>0.000000</td>\n      <td>1.713343</td>\n    </tr>\n    <tr>\n      <th>1</th>\n      <td>0.413900</td>\n      <td>2.284333</td>\n      <td>-1.315907</td>\n      <td>1.041175</td>\n    </tr>\n    <tr>\n      <th>2</th>\n      <td>-0.661104</td>\n      <td>0.714224</td>\n      <td>-0.068242</td>\n      <td>-0.033236</td>\n    </tr>\n    <tr>\n      <th>3</th>\n      <td>0.000000</td>\n      <td>0.000000</td>\n      <td>-0.461585</td>\n      <td>0.065641</td>\n    </tr>\n    <tr>\n      <th>4</th>\n      <td>-1.180191</td>\n      <td>1.883354</td>\n      <td>0.000000</td>\n      <td>0.265786</td>\n    </tr>\n  </tbody>\n</table>\n</div>"
     },
     "execution_count": 44,
     "metadata": {},
     "output_type": "execute_result"
    }
   ],
   "source": [
    "# Replace NaN values with 0 across specified columns\n",
    "df_filled = df_miss.fillna(0)\n",
    "df_filled"
   ],
   "metadata": {
    "collapsed": false,
    "ExecuteTime": {
     "end_time": "2023-11-02T21:12:23.515223Z",
     "start_time": "2023-11-02T21:12:23.498365Z"
    }
   },
   "id": "b5cf4725e2ef193b"
  },
  {
   "cell_type": "code",
   "execution_count": 45,
   "outputs": [
    {
     "data": {
      "text/plain": "          a         b         c         d     a_abs     b_abs     c_abs  \\\n0  0.197643  1.197322       NaN  1.713343  1.713343  1.713343  1.713343   \n1  0.413900  2.284333 -1.315907  1.041175  1.041175  1.041175  1.041175   \n2 -0.661104  0.714224 -0.068242 -0.033236  0.033236  0.033236  0.033236   \n3       NaN       NaN -0.461585  0.065641  0.065641  0.065641  0.065641   \n4 -1.180191  1.883354       NaN  0.265786  0.265786  0.265786  0.265786   \n\n      d_abs  \n0  1.713343  \n1  1.041175  \n2  0.033236  \n3  0.065641  \n4  0.265786  ",
      "text/html": "<div>\n<style scoped>\n    .dataframe tbody tr th:only-of-type {\n        vertical-align: middle;\n    }\n\n    .dataframe tbody tr th {\n        vertical-align: top;\n    }\n\n    .dataframe thead th {\n        text-align: right;\n    }\n</style>\n<table border=\"1\" class=\"dataframe\">\n  <thead>\n    <tr style=\"text-align: right;\">\n      <th></th>\n      <th>a</th>\n      <th>b</th>\n      <th>c</th>\n      <th>d</th>\n      <th>a_abs</th>\n      <th>b_abs</th>\n      <th>c_abs</th>\n      <th>d_abs</th>\n    </tr>\n  </thead>\n  <tbody>\n    <tr>\n      <th>0</th>\n      <td>0.197643</td>\n      <td>1.197322</td>\n      <td>NaN</td>\n      <td>1.713343</td>\n      <td>1.713343</td>\n      <td>1.713343</td>\n      <td>1.713343</td>\n      <td>1.713343</td>\n    </tr>\n    <tr>\n      <th>1</th>\n      <td>0.413900</td>\n      <td>2.284333</td>\n      <td>-1.315907</td>\n      <td>1.041175</td>\n      <td>1.041175</td>\n      <td>1.041175</td>\n      <td>1.041175</td>\n      <td>1.041175</td>\n    </tr>\n    <tr>\n      <th>2</th>\n      <td>-0.661104</td>\n      <td>0.714224</td>\n      <td>-0.068242</td>\n      <td>-0.033236</td>\n      <td>0.033236</td>\n      <td>0.033236</td>\n      <td>0.033236</td>\n      <td>0.033236</td>\n    </tr>\n    <tr>\n      <th>3</th>\n      <td>NaN</td>\n      <td>NaN</td>\n      <td>-0.461585</td>\n      <td>0.065641</td>\n      <td>0.065641</td>\n      <td>0.065641</td>\n      <td>0.065641</td>\n      <td>0.065641</td>\n    </tr>\n    <tr>\n      <th>4</th>\n      <td>-1.180191</td>\n      <td>1.883354</td>\n      <td>NaN</td>\n      <td>0.265786</td>\n      <td>0.265786</td>\n      <td>0.265786</td>\n      <td>0.265786</td>\n      <td>0.265786</td>\n    </tr>\n  </tbody>\n</table>\n</div>"
     },
     "execution_count": 45,
     "metadata": {},
     "output_type": "execute_result"
    }
   ],
   "source": [
    "# Apply the absolute value function to each of the specified columns and create new columns\n",
    "df_abs = df_miss.assign(**{f\"{col}_abs\": lambda x: x[col].abs() for col in ['a', 'b', 'c', 'd']})\n",
    "\n",
    "df_abs"
   ],
   "metadata": {
    "collapsed": false,
    "ExecuteTime": {
     "end_time": "2023-11-02T21:12:24.257939Z",
     "start_time": "2023-11-02T21:12:24.229548Z"
    }
   },
   "id": "e6c7195a2764ceeb"
  },
  {
   "cell_type": "code",
   "execution_count": 46,
   "outputs": [
    {
     "data": {
      "text/plain": "          a         b         c         d\n0  0.197643  1.197322       NaN  1.713343\n3       NaN       NaN -0.461585  0.065641\n4 -1.180191  1.883354       NaN  0.265786",
      "text/html": "<div>\n<style scoped>\n    .dataframe tbody tr th:only-of-type {\n        vertical-align: middle;\n    }\n\n    .dataframe tbody tr th {\n        vertical-align: top;\n    }\n\n    .dataframe thead th {\n        text-align: right;\n    }\n</style>\n<table border=\"1\" class=\"dataframe\">\n  <thead>\n    <tr style=\"text-align: right;\">\n      <th></th>\n      <th>a</th>\n      <th>b</th>\n      <th>c</th>\n      <th>d</th>\n    </tr>\n  </thead>\n  <tbody>\n    <tr>\n      <th>0</th>\n      <td>0.197643</td>\n      <td>1.197322</td>\n      <td>NaN</td>\n      <td>1.713343</td>\n    </tr>\n    <tr>\n      <th>3</th>\n      <td>NaN</td>\n      <td>NaN</td>\n      <td>-0.461585</td>\n      <td>0.065641</td>\n    </tr>\n    <tr>\n      <th>4</th>\n      <td>-1.180191</td>\n      <td>1.883354</td>\n      <td>NaN</td>\n      <td>0.265786</td>\n    </tr>\n  </tbody>\n</table>\n</div>"
     },
     "execution_count": 46,
     "metadata": {},
     "output_type": "execute_result"
    }
   ],
   "source": [
    "# Filter rows where any of the specified columns 'a' to 'd' contain NaN values\n",
    "df_filtered = df_miss.loc[df_miss[['a', 'b', 'c', 'd']].isna().any(axis=1)]\n",
    "\n",
    "df_filtered"
   ],
   "metadata": {
    "collapsed": false,
    "ExecuteTime": {
     "end_time": "2023-11-02T21:12:24.892310Z",
     "start_time": "2023-11-02T21:12:24.877625Z"
    }
   },
   "id": "b24bd58d2240492b"
  },
  {
   "cell_type": "code",
   "execution_count": 47,
   "outputs": [
    {
     "data": {
      "text/plain": "Empty DataFrame\nColumns: [a, b, c, d]\nIndex: []",
      "text/html": "<div>\n<style scoped>\n    .dataframe tbody tr th:only-of-type {\n        vertical-align: middle;\n    }\n\n    .dataframe tbody tr th {\n        vertical-align: top;\n    }\n\n    .dataframe thead th {\n        text-align: right;\n    }\n</style>\n<table border=\"1\" class=\"dataframe\">\n  <thead>\n    <tr style=\"text-align: right;\">\n      <th></th>\n      <th>a</th>\n      <th>b</th>\n      <th>c</th>\n      <th>d</th>\n    </tr>\n  </thead>\n  <tbody>\n  </tbody>\n</table>\n</div>"
     },
     "execution_count": 47,
     "metadata": {},
     "output_type": "execute_result"
    }
   ],
   "source": [
    "# Filter rows where all of the specified columns 'a' to 'd' contain NaN values\n",
    "df_filtered_all_na = df_miss.loc[df_miss[['a', 'b', 'c', 'd']].isna().all(axis=1)]\n",
    "\n",
    "df_filtered_all_na"
   ],
   "metadata": {
    "collapsed": false,
    "ExecuteTime": {
     "end_time": "2023-11-02T21:12:25.547433Z",
     "start_time": "2023-11-02T21:12:25.538406Z"
    }
   },
   "id": "12887db9e3750c"
  },
  {
   "cell_type": "code",
   "execution_count": 48,
   "outputs": [
    {
     "data": {
      "text/plain": "  name       date  date_year  date_month  date_day\n0  Amy 2009-08-03       2009           8         3\n1  Bob 2010-01-16       2010           1        16",
      "text/html": "<div>\n<style scoped>\n    .dataframe tbody tr th:only-of-type {\n        vertical-align: middle;\n    }\n\n    .dataframe tbody tr th {\n        vertical-align: top;\n    }\n\n    .dataframe thead th {\n        text-align: right;\n    }\n</style>\n<table border=\"1\" class=\"dataframe\">\n  <thead>\n    <tr style=\"text-align: right;\">\n      <th></th>\n      <th>name</th>\n      <th>date</th>\n      <th>date_year</th>\n      <th>date_month</th>\n      <th>date_day</th>\n    </tr>\n  </thead>\n  <tbody>\n    <tr>\n      <th>0</th>\n      <td>Amy</td>\n      <td>2009-08-03</td>\n      <td>2009</td>\n      <td>8</td>\n      <td>3</td>\n    </tr>\n    <tr>\n      <th>1</th>\n      <td>Bob</td>\n      <td>2010-01-16</td>\n      <td>2010</td>\n      <td>1</td>\n      <td>16</td>\n    </tr>\n  </tbody>\n</table>\n</div>"
     },
     "execution_count": 48,
     "metadata": {},
     "output_type": "execute_result"
    }
   ],
   "source": [
    "import pandas as pd\n",
    "\n",
    "def expand_dates(df):\n",
    "    # Iterate over each column to check for datetime type\n",
    "    for col in df.select_dtypes(include=['datetime64']):\n",
    "        # Extract year, month, and day to new columns\n",
    "        df[f'{col}_year'] = df[col].dt.year\n",
    "        df[f'{col}_month'] = df[col].dt.month\n",
    "        df[f'{col}_day'] = df[col].dt.day\n",
    "    return df\n",
    "\n",
    "# Create the DataFrame similar to the R tibble\n",
    "df_date = pd.DataFrame({\n",
    "    'name': ['Amy', 'Bob'],\n",
    "    'date': pd.to_datetime(['2009-08-03', '2010-01-16'])  # converting string dates to datetime\n",
    "})\n",
    "\n",
    "# Apply the expand_dates function\n",
    "df_date_expanded = expand_dates(df_date)\n",
    "\n",
    "df_date_expanded"
   ],
   "metadata": {
    "collapsed": false,
    "ExecuteTime": {
     "end_time": "2023-11-02T21:12:26.620645Z",
     "start_time": "2023-11-02T21:12:26.583345Z"
    }
   },
   "id": "62685c077ed30a3c"
  },
  {
   "cell_type": "code",
   "execution_count": 49,
   "outputs": [
    {
     "data": {
      "text/plain": "         cut     carat      depth      table        price         x         y  \\\n0       Fair  1.046137  64.041677  59.053789  4358.757764  6.246894  6.182652   \n1       Good  0.849185  62.365879  58.694639  3928.864452  5.838785  5.850744   \n2      Ideal  0.702837  61.709401  55.951668  3457.541970  5.507451  5.520080   \n3    Premium  0.891955  61.264673  58.746095  4584.257704  5.973887  5.944879   \n4  Very Good  0.806381  61.818275  57.956150  3981.759891  5.740696  5.770026   \n\n          z        n  \n0  3.982770   1610.0  \n1  3.639507   4906.0  \n2  3.401448  21551.0  \n3  3.647124  13791.0  \n4  3.559801  12082.0  ",
      "text/html": "<div>\n<style scoped>\n    .dataframe tbody tr th:only-of-type {\n        vertical-align: middle;\n    }\n\n    .dataframe tbody tr th {\n        vertical-align: top;\n    }\n\n    .dataframe thead th {\n        text-align: right;\n    }\n</style>\n<table border=\"1\" class=\"dataframe\">\n  <thead>\n    <tr style=\"text-align: right;\">\n      <th></th>\n      <th>cut</th>\n      <th>carat</th>\n      <th>depth</th>\n      <th>table</th>\n      <th>price</th>\n      <th>x</th>\n      <th>y</th>\n      <th>z</th>\n      <th>n</th>\n    </tr>\n  </thead>\n  <tbody>\n    <tr>\n      <th>0</th>\n      <td>Fair</td>\n      <td>1.046137</td>\n      <td>64.041677</td>\n      <td>59.053789</td>\n      <td>4358.757764</td>\n      <td>6.246894</td>\n      <td>6.182652</td>\n      <td>3.982770</td>\n      <td>1610.0</td>\n    </tr>\n    <tr>\n      <th>1</th>\n      <td>Good</td>\n      <td>0.849185</td>\n      <td>62.365879</td>\n      <td>58.694639</td>\n      <td>3928.864452</td>\n      <td>5.838785</td>\n      <td>5.850744</td>\n      <td>3.639507</td>\n      <td>4906.0</td>\n    </tr>\n    <tr>\n      <th>2</th>\n      <td>Ideal</td>\n      <td>0.702837</td>\n      <td>61.709401</td>\n      <td>55.951668</td>\n      <td>3457.541970</td>\n      <td>5.507451</td>\n      <td>5.520080</td>\n      <td>3.401448</td>\n      <td>21551.0</td>\n    </tr>\n    <tr>\n      <th>3</th>\n      <td>Premium</td>\n      <td>0.891955</td>\n      <td>61.264673</td>\n      <td>58.746095</td>\n      <td>4584.257704</td>\n      <td>5.973887</td>\n      <td>5.944879</td>\n      <td>3.647124</td>\n      <td>13791.0</td>\n    </tr>\n    <tr>\n      <th>4</th>\n      <td>Very Good</td>\n      <td>0.806381</td>\n      <td>61.818275</td>\n      <td>57.956150</td>\n      <td>3981.759891</td>\n      <td>5.740696</td>\n      <td>5.770026</td>\n      <td>3.559801</td>\n      <td>12082.0</td>\n    </tr>\n  </tbody>\n</table>\n</div>"
     },
     "execution_count": 49,
     "metadata": {},
     "output_type": "execute_result"
    }
   ],
   "source": [
    "import pandas as pd\n",
    "\n",
    "# Load the diamonds dataset from the uploaded CSV file\n",
    "diamonds = pd.read_csv('data/diamonds.csv')\n",
    "\n",
    "# Define the summarize_means function to calculate means of numeric columns\n",
    "def summarize_means(df):\n",
    "    # Select numeric columns and calculate mean, ignoring NaN values\n",
    "    summary = df.select_dtypes(include='number').apply(lambda x: x.mean(skipna=True))\n",
    "    # Add the count of rows\n",
    "    summary['n'] = len(df)\n",
    "    return summary\n",
    "\n",
    "# Group by 'cut' column and apply the summarize_means function\n",
    "diamonds_grouped = diamonds.groupby('cut').apply(summarize_means)\n",
    "\n",
    "diamonds_grouped.reset_index()  # Reset index to make 'cut' a column again"
   ],
   "metadata": {
    "collapsed": false,
    "ExecuteTime": {
     "end_time": "2023-11-02T21:12:27.555035Z",
     "start_time": "2023-11-02T21:12:27.436380Z"
    }
   },
   "id": "fec6f6f52d0a6d95"
  },
  {
   "cell_type": "code",
   "execution_count": 50,
   "outputs": [
    {
     "ename": "TypeError",
     "evalue": "summarize_means() takes 1 positional argument but 2 were given",
     "output_type": "error",
     "traceback": [
      "\u001B[0;31m---------------------------------------------------------------------------\u001B[0m",
      "\u001B[0;31mTypeError\u001B[0m                                 Traceback (most recent call last)",
      "File \u001B[0;32m~/opt/anaconda3/lib/python3.8/site-packages/pandas/core/groupby/groupby.py:1567\u001B[0m, in \u001B[0;36mGroupBy.apply\u001B[0;34m(self, func, *args, **kwargs)\u001B[0m\n\u001B[1;32m   1564\u001B[0m     \u001B[38;5;28;01mwith\u001B[39;00m rewrite_warning(\n\u001B[1;32m   1565\u001B[0m         old_msg, \u001B[38;5;167;01mFutureWarning\u001B[39;00m, new_msg\n\u001B[1;32m   1566\u001B[0m     ) \u001B[38;5;28;01mif\u001B[39;00m is_np_func \u001B[38;5;28;01melse\u001B[39;00m nullcontext():\n\u001B[0;32m-> 1567\u001B[0m         result \u001B[38;5;241m=\u001B[39m \u001B[38;5;28;43mself\u001B[39;49m\u001B[38;5;241;43m.\u001B[39;49m\u001B[43m_python_apply_general\u001B[49m\u001B[43m(\u001B[49m\u001B[43mf\u001B[49m\u001B[43m,\u001B[49m\u001B[43m \u001B[49m\u001B[38;5;28;43mself\u001B[39;49m\u001B[38;5;241;43m.\u001B[39;49m\u001B[43m_selected_obj\u001B[49m\u001B[43m)\u001B[49m\n\u001B[1;32m   1568\u001B[0m \u001B[38;5;28;01mexcept\u001B[39;00m \u001B[38;5;167;01mTypeError\u001B[39;00m:\n\u001B[1;32m   1569\u001B[0m     \u001B[38;5;66;03m# gh-20949\u001B[39;00m\n\u001B[1;32m   1570\u001B[0m     \u001B[38;5;66;03m# try again, with .apply acting as a filtering\u001B[39;00m\n\u001B[0;32m   (...)\u001B[0m\n\u001B[1;32m   1574\u001B[0m     \u001B[38;5;66;03m# fails on *some* columns, e.g. a numeric operation\u001B[39;00m\n\u001B[1;32m   1575\u001B[0m     \u001B[38;5;66;03m# on a string grouper column\u001B[39;00m\n",
      "File \u001B[0;32m~/opt/anaconda3/lib/python3.8/site-packages/pandas/core/groupby/groupby.py:1629\u001B[0m, in \u001B[0;36mGroupBy._python_apply_general\u001B[0;34m(self, f, data, not_indexed_same, is_transform, is_agg)\u001B[0m\n\u001B[1;32m   1601\u001B[0m \u001B[38;5;250m\u001B[39m\u001B[38;5;124;03m\"\"\"\u001B[39;00m\n\u001B[1;32m   1602\u001B[0m \u001B[38;5;124;03mApply function f in python space\u001B[39;00m\n\u001B[1;32m   1603\u001B[0m \n\u001B[0;32m   (...)\u001B[0m\n\u001B[1;32m   1627\u001B[0m \u001B[38;5;124;03m    data after applying f\u001B[39;00m\n\u001B[1;32m   1628\u001B[0m \u001B[38;5;124;03m\"\"\"\u001B[39;00m\n\u001B[0;32m-> 1629\u001B[0m values, mutated \u001B[38;5;241m=\u001B[39m \u001B[38;5;28;43mself\u001B[39;49m\u001B[38;5;241;43m.\u001B[39;49m\u001B[43mgrouper\u001B[49m\u001B[38;5;241;43m.\u001B[39;49m\u001B[43mapply\u001B[49m\u001B[43m(\u001B[49m\u001B[43mf\u001B[49m\u001B[43m,\u001B[49m\u001B[43m \u001B[49m\u001B[43mdata\u001B[49m\u001B[43m,\u001B[49m\u001B[43m \u001B[49m\u001B[38;5;28;43mself\u001B[39;49m\u001B[38;5;241;43m.\u001B[39;49m\u001B[43maxis\u001B[49m\u001B[43m)\u001B[49m\n\u001B[1;32m   1630\u001B[0m \u001B[38;5;28;01mif\u001B[39;00m not_indexed_same \u001B[38;5;129;01mis\u001B[39;00m \u001B[38;5;28;01mNone\u001B[39;00m:\n",
      "File \u001B[0;32m~/opt/anaconda3/lib/python3.8/site-packages/pandas/core/groupby/ops.py:839\u001B[0m, in \u001B[0;36mBaseGrouper.apply\u001B[0;34m(self, f, data, axis)\u001B[0m\n\u001B[1;32m    838\u001B[0m group_axes \u001B[38;5;241m=\u001B[39m group\u001B[38;5;241m.\u001B[39maxes\n\u001B[0;32m--> 839\u001B[0m res \u001B[38;5;241m=\u001B[39m \u001B[43mf\u001B[49m\u001B[43m(\u001B[49m\u001B[43mgroup\u001B[49m\u001B[43m)\u001B[49m\n\u001B[1;32m    840\u001B[0m \u001B[38;5;28;01mif\u001B[39;00m \u001B[38;5;129;01mnot\u001B[39;00m mutated \u001B[38;5;129;01mand\u001B[39;00m \u001B[38;5;129;01mnot\u001B[39;00m _is_indexed_like(res, group_axes, axis):\n",
      "Input \u001B[0;32mIn [50]\u001B[0m, in \u001B[0;36m<lambda>\u001B[0;34m(df)\u001B[0m\n\u001B[1;32m      4\u001B[0m \u001B[38;5;66;03m# Group by 'cut' column and apply the summarize_means function with specified columns\u001B[39;00m\n\u001B[0;32m----> 5\u001B[0m diamonds_grouped_specific \u001B[38;5;241m=\u001B[39m diamonds\u001B[38;5;241m.\u001B[39mgroupby(\u001B[38;5;124m'\u001B[39m\u001B[38;5;124mcut\u001B[39m\u001B[38;5;124m'\u001B[39m)\u001B[38;5;241m.\u001B[39mapply(\u001B[38;5;28;01mlambda\u001B[39;00m df: \u001B[43msummarize_means\u001B[49m\u001B[43m(\u001B[49m\u001B[43mdf\u001B[49m\u001B[43m,\u001B[49m\u001B[43m \u001B[49m\u001B[43msummary_columns\u001B[49m\u001B[43m)\u001B[49m)\n\u001B[1;32m      7\u001B[0m diamonds_grouped_specific\u001B[38;5;241m.\u001B[39mreset_index()  \u001B[38;5;66;03m# Reset index to make 'cut' a column again\u001B[39;00m\n",
      "\u001B[0;31mTypeError\u001B[0m: summarize_means() takes 1 positional argument but 2 were given",
      "\nDuring handling of the above exception, another exception occurred:\n",
      "\u001B[0;31mTypeError\u001B[0m                                 Traceback (most recent call last)",
      "Input \u001B[0;32mIn [50]\u001B[0m, in \u001B[0;36m<cell line: 5>\u001B[0;34m()\u001B[0m\n\u001B[1;32m      2\u001B[0m summary_columns \u001B[38;5;241m=\u001B[39m [\u001B[38;5;124m'\u001B[39m\u001B[38;5;124mcarat\u001B[39m\u001B[38;5;124m'\u001B[39m, \u001B[38;5;124m'\u001B[39m\u001B[38;5;124mx\u001B[39m\u001B[38;5;124m'\u001B[39m, \u001B[38;5;124m'\u001B[39m\u001B[38;5;124my\u001B[39m\u001B[38;5;124m'\u001B[39m, \u001B[38;5;124m'\u001B[39m\u001B[38;5;124mz\u001B[39m\u001B[38;5;124m'\u001B[39m]\n\u001B[1;32m      4\u001B[0m \u001B[38;5;66;03m# Group by 'cut' column and apply the summarize_means function with specified columns\u001B[39;00m\n\u001B[0;32m----> 5\u001B[0m diamonds_grouped_specific \u001B[38;5;241m=\u001B[39m \u001B[43mdiamonds\u001B[49m\u001B[38;5;241;43m.\u001B[39;49m\u001B[43mgroupby\u001B[49m\u001B[43m(\u001B[49m\u001B[38;5;124;43m'\u001B[39;49m\u001B[38;5;124;43mcut\u001B[39;49m\u001B[38;5;124;43m'\u001B[39;49m\u001B[43m)\u001B[49m\u001B[38;5;241;43m.\u001B[39;49m\u001B[43mapply\u001B[49m\u001B[43m(\u001B[49m\u001B[38;5;28;43;01mlambda\u001B[39;49;00m\u001B[43m \u001B[49m\u001B[43mdf\u001B[49m\u001B[43m:\u001B[49m\u001B[43m \u001B[49m\u001B[43msummarize_means\u001B[49m\u001B[43m(\u001B[49m\u001B[43mdf\u001B[49m\u001B[43m,\u001B[49m\u001B[43m \u001B[49m\u001B[43msummary_columns\u001B[49m\u001B[43m)\u001B[49m\u001B[43m)\u001B[49m\n\u001B[1;32m      7\u001B[0m diamonds_grouped_specific\u001B[38;5;241m.\u001B[39mreset_index()  \u001B[38;5;66;03m# Reset index to make 'cut' a column again\u001B[39;00m\n",
      "File \u001B[0;32m~/opt/anaconda3/lib/python3.8/site-packages/pandas/core/groupby/groupby.py:1588\u001B[0m, in \u001B[0;36mGroupBy.apply\u001B[0;34m(self, func, *args, **kwargs)\u001B[0m\n\u001B[1;32m   1580\u001B[0m             new_msg \u001B[38;5;241m=\u001B[39m (\n\u001B[1;32m   1581\u001B[0m                 \u001B[38;5;124mf\u001B[39m\u001B[38;5;124m\"\u001B[39m\u001B[38;5;124mThe operation \u001B[39m\u001B[38;5;132;01m{\u001B[39;00morig_func\u001B[38;5;132;01m}\u001B[39;00m\u001B[38;5;124m failed on a column. If any error \u001B[39m\u001B[38;5;124m\"\u001B[39m\n\u001B[1;32m   1582\u001B[0m                 \u001B[38;5;124mf\u001B[39m\u001B[38;5;124m\"\u001B[39m\u001B[38;5;124mis raised, this will raise an exception in a future version \u001B[39m\u001B[38;5;124m\"\u001B[39m\n\u001B[1;32m   1583\u001B[0m                 \u001B[38;5;124mf\u001B[39m\u001B[38;5;124m\"\u001B[39m\u001B[38;5;124mof pandas. Drop these columns to avoid this warning.\u001B[39m\u001B[38;5;124m\"\u001B[39m\n\u001B[1;32m   1584\u001B[0m             )\n\u001B[1;32m   1585\u001B[0m             \u001B[38;5;28;01mwith\u001B[39;00m rewrite_warning(\n\u001B[1;32m   1586\u001B[0m                 old_msg, \u001B[38;5;167;01mFutureWarning\u001B[39;00m, new_msg\n\u001B[1;32m   1587\u001B[0m             ) \u001B[38;5;28;01mif\u001B[39;00m is_np_func \u001B[38;5;28;01melse\u001B[39;00m nullcontext():\n\u001B[0;32m-> 1588\u001B[0m                 \u001B[38;5;28;01mreturn\u001B[39;00m \u001B[38;5;28;43mself\u001B[39;49m\u001B[38;5;241;43m.\u001B[39;49m\u001B[43m_python_apply_general\u001B[49m\u001B[43m(\u001B[49m\u001B[43mf\u001B[49m\u001B[43m,\u001B[49m\u001B[43m \u001B[49m\u001B[38;5;28;43mself\u001B[39;49m\u001B[38;5;241;43m.\u001B[39;49m\u001B[43m_selected_obj\u001B[49m\u001B[43m)\u001B[49m\n\u001B[1;32m   1590\u001B[0m \u001B[38;5;28;01mreturn\u001B[39;00m result\n",
      "File \u001B[0;32m~/opt/anaconda3/lib/python3.8/site-packages/pandas/core/groupby/groupby.py:1629\u001B[0m, in \u001B[0;36mGroupBy._python_apply_general\u001B[0;34m(self, f, data, not_indexed_same, is_transform, is_agg)\u001B[0m\n\u001B[1;32m   1592\u001B[0m \u001B[38;5;129m@final\u001B[39m\n\u001B[1;32m   1593\u001B[0m \u001B[38;5;28;01mdef\u001B[39;00m \u001B[38;5;21m_python_apply_general\u001B[39m(\n\u001B[1;32m   1594\u001B[0m     \u001B[38;5;28mself\u001B[39m,\n\u001B[0;32m   (...)\u001B[0m\n\u001B[1;32m   1599\u001B[0m     is_agg: \u001B[38;5;28mbool\u001B[39m \u001B[38;5;241m=\u001B[39m \u001B[38;5;28;01mFalse\u001B[39;00m,\n\u001B[1;32m   1600\u001B[0m ) \u001B[38;5;241m-\u001B[39m\u001B[38;5;241m>\u001B[39m NDFrameT:\n\u001B[1;32m   1601\u001B[0m \u001B[38;5;250m    \u001B[39m\u001B[38;5;124;03m\"\"\"\u001B[39;00m\n\u001B[1;32m   1602\u001B[0m \u001B[38;5;124;03m    Apply function f in python space\u001B[39;00m\n\u001B[1;32m   1603\u001B[0m \n\u001B[0;32m   (...)\u001B[0m\n\u001B[1;32m   1627\u001B[0m \u001B[38;5;124;03m        data after applying f\u001B[39;00m\n\u001B[1;32m   1628\u001B[0m \u001B[38;5;124;03m    \"\"\"\u001B[39;00m\n\u001B[0;32m-> 1629\u001B[0m     values, mutated \u001B[38;5;241m=\u001B[39m \u001B[38;5;28;43mself\u001B[39;49m\u001B[38;5;241;43m.\u001B[39;49m\u001B[43mgrouper\u001B[49m\u001B[38;5;241;43m.\u001B[39;49m\u001B[43mapply\u001B[49m\u001B[43m(\u001B[49m\u001B[43mf\u001B[49m\u001B[43m,\u001B[49m\u001B[43m \u001B[49m\u001B[43mdata\u001B[49m\u001B[43m,\u001B[49m\u001B[43m \u001B[49m\u001B[38;5;28;43mself\u001B[39;49m\u001B[38;5;241;43m.\u001B[39;49m\u001B[43maxis\u001B[49m\u001B[43m)\u001B[49m\n\u001B[1;32m   1630\u001B[0m     \u001B[38;5;28;01mif\u001B[39;00m not_indexed_same \u001B[38;5;129;01mis\u001B[39;00m \u001B[38;5;28;01mNone\u001B[39;00m:\n\u001B[1;32m   1631\u001B[0m         not_indexed_same \u001B[38;5;241m=\u001B[39m mutated \u001B[38;5;129;01mor\u001B[39;00m \u001B[38;5;28mself\u001B[39m\u001B[38;5;241m.\u001B[39mmutated\n",
      "File \u001B[0;32m~/opt/anaconda3/lib/python3.8/site-packages/pandas/core/groupby/ops.py:839\u001B[0m, in \u001B[0;36mBaseGrouper.apply\u001B[0;34m(self, f, data, axis)\u001B[0m\n\u001B[1;32m    837\u001B[0m \u001B[38;5;66;03m# group might be modified\u001B[39;00m\n\u001B[1;32m    838\u001B[0m group_axes \u001B[38;5;241m=\u001B[39m group\u001B[38;5;241m.\u001B[39maxes\n\u001B[0;32m--> 839\u001B[0m res \u001B[38;5;241m=\u001B[39m \u001B[43mf\u001B[49m\u001B[43m(\u001B[49m\u001B[43mgroup\u001B[49m\u001B[43m)\u001B[49m\n\u001B[1;32m    840\u001B[0m \u001B[38;5;28;01mif\u001B[39;00m \u001B[38;5;129;01mnot\u001B[39;00m mutated \u001B[38;5;129;01mand\u001B[39;00m \u001B[38;5;129;01mnot\u001B[39;00m _is_indexed_like(res, group_axes, axis):\n\u001B[1;32m    841\u001B[0m     mutated \u001B[38;5;241m=\u001B[39m \u001B[38;5;28;01mTrue\u001B[39;00m\n",
      "Input \u001B[0;32mIn [50]\u001B[0m, in \u001B[0;36m<lambda>\u001B[0;34m(df)\u001B[0m\n\u001B[1;32m      2\u001B[0m summary_columns \u001B[38;5;241m=\u001B[39m [\u001B[38;5;124m'\u001B[39m\u001B[38;5;124mcarat\u001B[39m\u001B[38;5;124m'\u001B[39m, \u001B[38;5;124m'\u001B[39m\u001B[38;5;124mx\u001B[39m\u001B[38;5;124m'\u001B[39m, \u001B[38;5;124m'\u001B[39m\u001B[38;5;124my\u001B[39m\u001B[38;5;124m'\u001B[39m, \u001B[38;5;124m'\u001B[39m\u001B[38;5;124mz\u001B[39m\u001B[38;5;124m'\u001B[39m]\n\u001B[1;32m      4\u001B[0m \u001B[38;5;66;03m# Group by 'cut' column and apply the summarize_means function with specified columns\u001B[39;00m\n\u001B[0;32m----> 5\u001B[0m diamonds_grouped_specific \u001B[38;5;241m=\u001B[39m diamonds\u001B[38;5;241m.\u001B[39mgroupby(\u001B[38;5;124m'\u001B[39m\u001B[38;5;124mcut\u001B[39m\u001B[38;5;124m'\u001B[39m)\u001B[38;5;241m.\u001B[39mapply(\u001B[38;5;28;01mlambda\u001B[39;00m df: \u001B[43msummarize_means\u001B[49m\u001B[43m(\u001B[49m\u001B[43mdf\u001B[49m\u001B[43m,\u001B[49m\u001B[43m \u001B[49m\u001B[43msummary_columns\u001B[49m\u001B[43m)\u001B[49m)\n\u001B[1;32m      7\u001B[0m diamonds_grouped_specific\u001B[38;5;241m.\u001B[39mreset_index()  \u001B[38;5;66;03m# Reset index to make 'cut' a column again\u001B[39;00m\n",
      "\u001B[0;31mTypeError\u001B[0m: summarize_means() takes 1 positional argument but 2 were given"
     ]
    }
   ],
   "source": [
    "# Specify the columns for which to calculate means\n",
    "summary_columns = ['carat', 'x', 'y', 'z']\n",
    "\n",
    "# Group by 'cut' column and apply the summarize_means function with specified columns\n",
    "diamonds_grouped_specific = diamonds.groupby('cut').apply(lambda df: summarize_means(df, summary_columns))\n",
    "\n",
    "diamonds_grouped_specific.reset_index()  # Reset index to make 'cut' a column again\n"
   ],
   "metadata": {
    "collapsed": false,
    "ExecuteTime": {
     "end_time": "2023-11-02T21:12:29.641093Z",
     "start_time": "2023-11-02T21:12:29.378994Z"
    }
   },
   "id": "ee0608ba814b4ee9"
  },
  {
   "cell_type": "code",
   "execution_count": 51,
   "outputs": [
    {
     "data": {
      "text/plain": "  variable    median      mean\n0        a -0.352680 -0.433823\n1        b -0.167668  0.146498\n2        c -0.243206 -0.174421\n3        d  0.067583 -0.103702",
      "text/html": "<div>\n<style scoped>\n    .dataframe tbody tr th:only-of-type {\n        vertical-align: middle;\n    }\n\n    .dataframe tbody tr th {\n        vertical-align: top;\n    }\n\n    .dataframe thead th {\n        text-align: right;\n    }\n</style>\n<table border=\"1\" class=\"dataframe\">\n  <thead>\n    <tr style=\"text-align: right;\">\n      <th></th>\n      <th>variable</th>\n      <th>median</th>\n      <th>mean</th>\n    </tr>\n  </thead>\n  <tbody>\n    <tr>\n      <th>0</th>\n      <td>a</td>\n      <td>-0.352680</td>\n      <td>-0.433823</td>\n    </tr>\n    <tr>\n      <th>1</th>\n      <td>b</td>\n      <td>-0.167668</td>\n      <td>0.146498</td>\n    </tr>\n    <tr>\n      <th>2</th>\n      <td>c</td>\n      <td>-0.243206</td>\n      <td>-0.174421</td>\n    </tr>\n    <tr>\n      <th>3</th>\n      <td>d</td>\n      <td>0.067583</td>\n      <td>-0.103702</td>\n    </tr>\n  </tbody>\n</table>\n</div>"
     },
     "execution_count": 51,
     "metadata": {},
     "output_type": "execute_result"
    }
   ],
   "source": [
    "# Now summarize the DataFrame across specified columns 'a' through 'd'\n",
    "summary = df[['a', 'b', 'c', 'd']].agg(['median', 'mean']).transpose().reset_index()\n",
    "\n",
    "summary.columns = ['variable', 'median', 'mean']  # Rename the columns for clarity\n",
    "summary"
   ],
   "metadata": {
    "collapsed": false,
    "ExecuteTime": {
     "end_time": "2023-11-02T21:12:30.552037Z",
     "start_time": "2023-11-02T21:12:30.533472Z"
    }
   },
   "id": "e1c6e701b6c8e65d"
  },
  {
   "cell_type": "code",
   "execution_count": 52,
   "outputs": [
    {
     "data": {
      "text/plain": "  name    median      mean\n0    a -0.352680 -0.433823\n1    b -0.167668  0.146498\n2    c -0.243206 -0.174421\n3    d  0.067583 -0.103702",
      "text/html": "<div>\n<style scoped>\n    .dataframe tbody tr th:only-of-type {\n        vertical-align: middle;\n    }\n\n    .dataframe tbody tr th {\n        vertical-align: top;\n    }\n\n    .dataframe thead th {\n        text-align: right;\n    }\n</style>\n<table border=\"1\" class=\"dataframe\">\n  <thead>\n    <tr style=\"text-align: right;\">\n      <th></th>\n      <th>name</th>\n      <th>median</th>\n      <th>mean</th>\n    </tr>\n  </thead>\n  <tbody>\n    <tr>\n      <th>0</th>\n      <td>a</td>\n      <td>-0.352680</td>\n      <td>-0.433823</td>\n    </tr>\n    <tr>\n      <th>1</th>\n      <td>b</td>\n      <td>-0.167668</td>\n      <td>0.146498</td>\n    </tr>\n    <tr>\n      <th>2</th>\n      <td>c</td>\n      <td>-0.243206</td>\n      <td>-0.174421</td>\n    </tr>\n    <tr>\n      <th>3</th>\n      <td>d</td>\n      <td>0.067583</td>\n      <td>-0.103702</td>\n    </tr>\n  </tbody>\n</table>\n</div>"
     },
     "execution_count": 52,
     "metadata": {},
     "output_type": "execute_result"
    }
   ],
   "source": [
    "# Pivot the DataFrame from wide to long format\n",
    "df_long = pd.melt(df, id_vars=['grp'], value_vars=['a', 'b', 'c', 'd'], var_name='name', value_name='value')\n",
    "\n",
    "# Group by the 'name' column and calculate median and mean\n",
    "df_long_summary = df_long.groupby('name')['value'].agg(['median', 'mean']).reset_index()\n",
    "\n",
    "df_long_summary"
   ],
   "metadata": {
    "collapsed": false,
    "ExecuteTime": {
     "end_time": "2023-11-02T21:13:20.613624Z",
     "start_time": "2023-11-02T21:13:20.604306Z"
    }
   },
   "id": "d8138b939afc72f2"
  },
  {
   "cell_type": "code",
   "execution_count": 53,
   "outputs": [
    {
     "data": {
      "text/plain": "  name    median      mean\n0    a -0.352680 -0.433823\n1    b -0.167668  0.146498\n2    c -0.243206 -0.174421\n3    d  0.067583 -0.103702",
      "text/html": "<div>\n<style scoped>\n    .dataframe tbody tr th:only-of-type {\n        vertical-align: middle;\n    }\n\n    .dataframe tbody tr th {\n        vertical-align: top;\n    }\n\n    .dataframe thead th {\n        text-align: right;\n    }\n</style>\n<table border=\"1\" class=\"dataframe\">\n  <thead>\n    <tr style=\"text-align: right;\">\n      <th></th>\n      <th>name</th>\n      <th>median</th>\n      <th>mean</th>\n    </tr>\n  </thead>\n  <tbody>\n    <tr>\n      <th>0</th>\n      <td>a</td>\n      <td>-0.352680</td>\n      <td>-0.433823</td>\n    </tr>\n    <tr>\n      <th>1</th>\n      <td>b</td>\n      <td>-0.167668</td>\n      <td>0.146498</td>\n    </tr>\n    <tr>\n      <th>2</th>\n      <td>c</td>\n      <td>-0.243206</td>\n      <td>-0.174421</td>\n    </tr>\n    <tr>\n      <th>3</th>\n      <td>d</td>\n      <td>0.067583</td>\n      <td>-0.103702</td>\n    </tr>\n  </tbody>\n</table>\n</div>"
     },
     "execution_count": 53,
     "metadata": {},
     "output_type": "execute_result"
    }
   ],
   "source": [
    "# Pivot the DataFrame from wide to long format\n",
    "df_long = pd.melt(df, id_vars=['grp'], value_vars=['a', 'b', 'c', 'd'], var_name='name', value_name='value')\n",
    "\n",
    "# Group by the 'name' column and calculate median and mean\n",
    "df_long_summary = df_long.groupby('name')['value'].agg(['median', 'mean']).reset_index()\n",
    "\n",
    "df_long_summary"
   ],
   "metadata": {
    "collapsed": false,
    "ExecuteTime": {
     "end_time": "2023-11-02T21:22:01.964367Z",
     "start_time": "2023-11-02T21:22:01.951531Z"
    }
   },
   "id": "61fb243af7e3d35"
  },
  {
   "cell_type": "code",
   "execution_count": 54,
   "outputs": [
    {
     "data": {
      "text/plain": "   index group       val       wts         c         d\n0      0   val  1.764052  1.494079  1.230291 -0.028182\n1      1   val  0.400157 -0.205158  1.202380  0.428332\n2      2   val  0.978738  0.313068 -0.387327  0.066517\n3      3   val  2.240893 -0.854096 -0.302303  0.302472\n4      4   val  1.867558 -2.552990 -1.048553 -0.634322",
      "text/html": "<div>\n<style scoped>\n    .dataframe tbody tr th:only-of-type {\n        vertical-align: middle;\n    }\n\n    .dataframe tbody tr th {\n        vertical-align: top;\n    }\n\n    .dataframe thead th {\n        text-align: right;\n    }\n</style>\n<table border=\"1\" class=\"dataframe\">\n  <thead>\n    <tr style=\"text-align: right;\">\n      <th></th>\n      <th>index</th>\n      <th>group</th>\n      <th>val</th>\n      <th>wts</th>\n      <th>c</th>\n      <th>d</th>\n    </tr>\n  </thead>\n  <tbody>\n    <tr>\n      <th>0</th>\n      <td>0</td>\n      <td>val</td>\n      <td>1.764052</td>\n      <td>1.494079</td>\n      <td>1.230291</td>\n      <td>-0.028182</td>\n    </tr>\n    <tr>\n      <th>1</th>\n      <td>1</td>\n      <td>val</td>\n      <td>0.400157</td>\n      <td>-0.205158</td>\n      <td>1.202380</td>\n      <td>0.428332</td>\n    </tr>\n    <tr>\n      <th>2</th>\n      <td>2</td>\n      <td>val</td>\n      <td>0.978738</td>\n      <td>0.313068</td>\n      <td>-0.387327</td>\n      <td>0.066517</td>\n    </tr>\n    <tr>\n      <th>3</th>\n      <td>3</td>\n      <td>val</td>\n      <td>2.240893</td>\n      <td>-0.854096</td>\n      <td>-0.302303</td>\n      <td>0.302472</td>\n    </tr>\n    <tr>\n      <th>4</th>\n      <td>4</td>\n      <td>val</td>\n      <td>1.867558</td>\n      <td>-2.552990</td>\n      <td>-1.048553</td>\n      <td>-0.634322</td>\n    </tr>\n  </tbody>\n</table>\n</div>"
     },
     "execution_count": 54,
     "metadata": {},
     "output_type": "execute_result"
    }
   ],
   "source": [
    "# Simulate the creation of a similar DataFrame in Python with paired values and weights\n",
    "np.random.seed(0)  # For reproducibility\n",
    "\n",
    "df_paired = pd.DataFrame({\n",
    "    'a_val': np.random.randn(10),\n",
    "    'a_wts': np.random.rand(10),\n",
    "    'b_val': np.random.randn(10),\n",
    "    'b_wts': np.random.rand(10),\n",
    "    'c_val': np.random.randn(10),\n",
    "    'c_wts': np.random.rand(10),\n",
    "    'd_val': np.random.randn(10),\n",
    "    'd_wts': np.random.rand(10)\n",
    "})\n",
    "\n",
    "# Pivot the DataFrame from wide to long format, handling paired values and weights\n",
    "df_long = pd.wide_to_long(df_paired.reset_index(), \n",
    "                          stubnames=['a', 'b', 'c', 'd'], \n",
    "                          i='index', \n",
    "                          j='group', \n",
    "                          sep='_', \n",
    "                          suffix=r'\\w+').reset_index()\n",
    "\n",
    "# Rename columns to match the expected output from R\n",
    "df_long.rename(columns={'group': 'group', 'a': 'val', 'b': 'wts'}, inplace=True)\n",
    "\n",
    "df_long.head()  # Display the first few rows of the long DataFrame\n"
   ],
   "metadata": {
    "collapsed": false,
    "ExecuteTime": {
     "end_time": "2023-11-02T21:25:38.849773Z",
     "start_time": "2023-11-02T21:25:38.724149Z"
    }
   },
   "id": "1bfdc7b4f1841e51"
  },
  {
   "cell_type": "code",
   "execution_count": null,
   "outputs": [],
   "source": [],
   "metadata": {
    "collapsed": false
   },
   "id": "7caa1efb597e6fbc"
  }
 ],
 "metadata": {
  "kernelspec": {
   "display_name": "Python 3",
   "language": "python",
   "name": "python3"
  },
  "language_info": {
   "codemirror_mode": {
    "name": "ipython",
    "version": 2
   },
   "file_extension": ".py",
   "mimetype": "text/x-python",
   "name": "python",
   "nbconvert_exporter": "python",
   "pygments_lexer": "ipython2",
   "version": "2.7.6"
  }
 },
 "nbformat": 4,
 "nbformat_minor": 5
}
