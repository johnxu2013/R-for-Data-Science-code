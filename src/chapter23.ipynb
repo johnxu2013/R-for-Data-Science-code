{
 "cells": [
  {
   "cell_type": "code",
   "execution_count": 13,
   "outputs": [
    {
     "name": "stdout",
     "output_type": "stream",
     "text": [
      "Index(['UsageClass', 'CheckoutType', 'MaterialType', 'CheckoutYear',\n",
      "       'CheckoutMonth', 'Checkouts', 'Title', 'ISBN', 'Creator', 'Subjects',\n",
      "       'Publisher', 'PublicationYear'],\n",
      "      dtype='object')\n",
      "CSV Time: 0.14017200469970703\n",
      "Parquet Time: 0.16111016273498535\n",
      "   CheckoutYear  TotalCheckouts\n",
      "0          2022             2.0\n"
     ]
    }
   ],
   "source": [
    "import pandas as pd\n",
    "import os\n",
    "from time import time\n",
    "import duckdb\n",
    "\n",
    "# Create the data directory if it doesn't exist\n",
    "os.makedirs('data', exist_ok=True)\n",
    "\n",
    "# Load the CSV data into a DataFrame and strip whitespace from column names\n",
    "seattle_csv_path = 'data/seattle-library-checkouts.csv'\n",
    "# seattle_csv = pd.read_csv(seattle_csv_path)\n",
    "seattle_csv = pd.read_csv(seattle_csv_path, low_memory=False)\n",
    "\n",
    "pq_path = 'data/seattle-library-checkouts.parquet'\n",
    "seattle_csv.to_parquet(pq_path, index=False)\n",
    "\n",
    "# Read the Parquet file\n",
    "seattle_pq = pd.read_parquet(pq_path)\n",
    "\n",
    "# Print the columns to confirm 'MaterialType' is present\n",
    "print(seattle_pq.columns)\n",
    "\n",
    "# Filter for year >= 2018 and MaterialType == 'BOOK', group by year and month, then summarize\n",
    "query = seattle_pq[\n",
    "    (seattle_pq['CheckoutYear'] >= 2018) & (seattle_pq['MaterialType'] == 'BOOK')\n",
    "].groupby(['CheckoutYear', 'CheckoutMonth']).agg(\n",
    "    TotalCheckouts=pd.NamedAgg(column='Checkouts', aggfunc='sum')\n",
    ").reset_index().sort_values(['CheckoutYear', 'CheckoutMonth'])\n",
    "\n",
    "# Time the operation on CSV file\n",
    "start_time = time()\n",
    "csv_result = seattle_csv[\n",
    "    (seattle_csv['CheckoutYear'] == 2021) & (seattle_csv['MaterialType'] == 'BOOK')\n",
    "].groupby('CheckoutMonth').agg(\n",
    "    TotalCheckouts=pd.NamedAgg(column='Checkouts', aggfunc='sum')\n",
    ").reset_index().sort_values('CheckoutMonth', ascending=False)\n",
    "csv_elapsed_time = time() - start_time\n",
    "\n",
    "# Time the operation on Parquet file\n",
    "start_time = time()\n",
    "pq_result = seattle_pq[\n",
    "    (seattle_pq['CheckoutYear'] == 2021) & (seattle_pq['MaterialType'] == 'BOOK')\n",
    "].groupby('CheckoutMonth').agg(\n",
    "    TotalCheckouts=pd.NamedAgg(column='Checkouts', aggfunc='sum')\n",
    ").reset_index().sort_values('CheckoutMonth', ascending=False)\n",
    "pq_elapsed_time = time() - start_time\n",
    "\n",
    "# DuckDB operations\n",
    "con = duckdb.connect()\n",
    "con.execute(\"CREATE VIEW seattle_pq AS SELECT * FROM parquet_scan('{}')\".format(pq_path))\n",
    "duckdb_query = con.execute(\"\"\"\n",
    "SELECT CheckoutYear, SUM(Checkouts) AS TotalCheckouts\n",
    "FROM seattle_pq\n",
    "WHERE CheckoutYear >= 2018 AND MaterialType = 'BOOK'\n",
    "GROUP BY CheckoutYear\n",
    "ORDER BY CheckoutYear DESC\n",
    "\"\"\").fetchdf()\n",
    "\n",
    "# Print elapsed times\n",
    "print(f\"CSV Time: {csv_elapsed_time}\")\n",
    "print(f\"Parquet Time: {pq_elapsed_time}\")\n",
    "\n",
    "# Print query result\n",
    "print(duckdb_query)\n"
   ],
   "metadata": {
    "collapsed": false,
    "ExecuteTime": {
     "end_time": "2023-11-02T00:11:34.249632Z",
     "start_time": "2023-11-02T00:11:14.880526Z"
    }
   },
   "id": "f5a0608e9b94c1c8"
  },
  {
   "cell_type": "code",
   "execution_count": null,
   "outputs": [],
   "source": [],
   "metadata": {
    "collapsed": false
   },
   "id": "19476d7e56bf5d8f"
  }
 ],
 "metadata": {
  "kernelspec": {
   "display_name": "Python 3",
   "language": "python",
   "name": "python3"
  },
  "language_info": {
   "codemirror_mode": {
    "name": "ipython",
    "version": 2
   },
   "file_extension": ".py",
   "mimetype": "text/x-python",
   "name": "python",
   "nbconvert_exporter": "python",
   "pygments_lexer": "ipython2",
   "version": "2.7.6"
  }
 },
 "nbformat": 4,
 "nbformat_minor": 5
}
