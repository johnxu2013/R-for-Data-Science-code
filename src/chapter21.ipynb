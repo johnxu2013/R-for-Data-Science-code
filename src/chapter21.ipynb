{
 "cells": [
  {
   "cell_type": "code",
   "execution_count": 1,
   "id": "initial_id",
   "metadata": {
    "collapsed": true,
    "ExecuteTime": {
     "end_time": "2023-11-01T12:08:31.146843Z",
     "start_time": "2023-11-01T12:08:29.586939Z"
    }
   },
   "outputs": [
    {
     "data": {
      "text/plain": "   Student ID         Full Name      favourite.food             mealPlan   AGE\n0           1    Sunil Huffmann  Strawberry yoghurt           Lunch only     4\n1           2      Barclay Lynn        French fries           Lunch only     5\n2           3     Jayendra Lyne                 NaN  Breakfast and lunch     7\n3           4      Leon Rossini           Anchovies           Lunch only   NaN\n4           5  Chidiegwu Dunkel               Pizza  Breakfast and lunch  five",
      "text/html": "<div>\n<style scoped>\n    .dataframe tbody tr th:only-of-type {\n        vertical-align: middle;\n    }\n\n    .dataframe tbody tr th {\n        vertical-align: top;\n    }\n\n    .dataframe thead th {\n        text-align: right;\n    }\n</style>\n<table border=\"1\" class=\"dataframe\">\n  <thead>\n    <tr style=\"text-align: right;\">\n      <th></th>\n      <th>Student ID</th>\n      <th>Full Name</th>\n      <th>favourite.food</th>\n      <th>mealPlan</th>\n      <th>AGE</th>\n    </tr>\n  </thead>\n  <tbody>\n    <tr>\n      <th>0</th>\n      <td>1</td>\n      <td>Sunil Huffmann</td>\n      <td>Strawberry yoghurt</td>\n      <td>Lunch only</td>\n      <td>4</td>\n    </tr>\n    <tr>\n      <th>1</th>\n      <td>2</td>\n      <td>Barclay Lynn</td>\n      <td>French fries</td>\n      <td>Lunch only</td>\n      <td>5</td>\n    </tr>\n    <tr>\n      <th>2</th>\n      <td>3</td>\n      <td>Jayendra Lyne</td>\n      <td>NaN</td>\n      <td>Breakfast and lunch</td>\n      <td>7</td>\n    </tr>\n    <tr>\n      <th>3</th>\n      <td>4</td>\n      <td>Leon Rossini</td>\n      <td>Anchovies</td>\n      <td>Lunch only</td>\n      <td>NaN</td>\n    </tr>\n    <tr>\n      <th>4</th>\n      <td>5</td>\n      <td>Chidiegwu Dunkel</td>\n      <td>Pizza</td>\n      <td>Breakfast and lunch</td>\n      <td>five</td>\n    </tr>\n  </tbody>\n</table>\n</div>"
     },
     "metadata": {},
     "output_type": "display_data"
    },
    {
     "data": {
      "text/plain": "   student_id         full_name favourite_food            meal_plan   age\n0           2      Barclay Lynn   French fries           Lunch only     5\n1           3     Jayendra Lyne            NaN  Breakfast and lunch     7\n2           4      Leon Rossini      Anchovies           Lunch only   NaN\n3           5  Chidiegwu Dunkel          Pizza  Breakfast and lunch  five\n4           6     Güvenç Attila      Ice cream           Lunch only     6",
      "text/html": "<div>\n<style scoped>\n    .dataframe tbody tr th:only-of-type {\n        vertical-align: middle;\n    }\n\n    .dataframe tbody tr th {\n        vertical-align: top;\n    }\n\n    .dataframe thead th {\n        text-align: right;\n    }\n</style>\n<table border=\"1\" class=\"dataframe\">\n  <thead>\n    <tr style=\"text-align: right;\">\n      <th></th>\n      <th>student_id</th>\n      <th>full_name</th>\n      <th>favourite_food</th>\n      <th>meal_plan</th>\n      <th>age</th>\n    </tr>\n  </thead>\n  <tbody>\n    <tr>\n      <th>0</th>\n      <td>2</td>\n      <td>Barclay Lynn</td>\n      <td>French fries</td>\n      <td>Lunch only</td>\n      <td>5</td>\n    </tr>\n    <tr>\n      <th>1</th>\n      <td>3</td>\n      <td>Jayendra Lyne</td>\n      <td>NaN</td>\n      <td>Breakfast and lunch</td>\n      <td>7</td>\n    </tr>\n    <tr>\n      <th>2</th>\n      <td>4</td>\n      <td>Leon Rossini</td>\n      <td>Anchovies</td>\n      <td>Lunch only</td>\n      <td>NaN</td>\n    </tr>\n    <tr>\n      <th>3</th>\n      <td>5</td>\n      <td>Chidiegwu Dunkel</td>\n      <td>Pizza</td>\n      <td>Breakfast and lunch</td>\n      <td>five</td>\n    </tr>\n    <tr>\n      <th>4</th>\n      <td>6</td>\n      <td>Güvenç Attila</td>\n      <td>Ice cream</td>\n      <td>Lunch only</td>\n      <td>6</td>\n    </tr>\n  </tbody>\n</table>\n</div>"
     },
     "metadata": {},
     "output_type": "display_data"
    },
    {
     "data": {
      "text/plain": "   student_id         full_name favourite_food            meal_plan   age\n0           2      Barclay Lynn   French fries           Lunch only     5\n1           3     Jayendra Lyne            NaN  Breakfast and lunch     7\n2           4      Leon Rossini      Anchovies           Lunch only   NaN\n3           5  Chidiegwu Dunkel          Pizza  Breakfast and lunch  five\n4           6     Güvenç Attila      Ice cream           Lunch only     6",
      "text/html": "<div>\n<style scoped>\n    .dataframe tbody tr th:only-of-type {\n        vertical-align: middle;\n    }\n\n    .dataframe tbody tr th {\n        vertical-align: top;\n    }\n\n    .dataframe thead th {\n        text-align: right;\n    }\n</style>\n<table border=\"1\" class=\"dataframe\">\n  <thead>\n    <tr style=\"text-align: right;\">\n      <th></th>\n      <th>student_id</th>\n      <th>full_name</th>\n      <th>favourite_food</th>\n      <th>meal_plan</th>\n      <th>age</th>\n    </tr>\n  </thead>\n  <tbody>\n    <tr>\n      <th>0</th>\n      <td>2</td>\n      <td>Barclay Lynn</td>\n      <td>French fries</td>\n      <td>Lunch only</td>\n      <td>5</td>\n    </tr>\n    <tr>\n      <th>1</th>\n      <td>3</td>\n      <td>Jayendra Lyne</td>\n      <td>NaN</td>\n      <td>Breakfast and lunch</td>\n      <td>7</td>\n    </tr>\n    <tr>\n      <th>2</th>\n      <td>4</td>\n      <td>Leon Rossini</td>\n      <td>Anchovies</td>\n      <td>Lunch only</td>\n      <td>NaN</td>\n    </tr>\n    <tr>\n      <th>3</th>\n      <td>5</td>\n      <td>Chidiegwu Dunkel</td>\n      <td>Pizza</td>\n      <td>Breakfast and lunch</td>\n      <td>five</td>\n    </tr>\n    <tr>\n      <th>4</th>\n      <td>6</td>\n      <td>Güvenç Attila</td>\n      <td>Ice cream</td>\n      <td>Lunch only</td>\n      <td>6</td>\n    </tr>\n  </tbody>\n</table>\n</div>"
     },
     "metadata": {},
     "output_type": "display_data"
    },
    {
     "data": {
      "text/plain": "   student_id         full_name favourite_food            meal_plan   age\n0           2      Barclay Lynn   French fries           Lunch only     5\n1           3     Jayendra Lyne            NaN  Breakfast and lunch     7\n2           4      Leon Rossini      Anchovies           Lunch only   NaN\n3           5  Chidiegwu Dunkel          Pizza  Breakfast and lunch  five\n4           6     Güvenç Attila      Ice cream           Lunch only     6",
      "text/html": "<div>\n<style scoped>\n    .dataframe tbody tr th:only-of-type {\n        vertical-align: middle;\n    }\n\n    .dataframe tbody tr th {\n        vertical-align: top;\n    }\n\n    .dataframe thead th {\n        text-align: right;\n    }\n</style>\n<table border=\"1\" class=\"dataframe\">\n  <thead>\n    <tr style=\"text-align: right;\">\n      <th></th>\n      <th>student_id</th>\n      <th>full_name</th>\n      <th>favourite_food</th>\n      <th>meal_plan</th>\n      <th>age</th>\n    </tr>\n  </thead>\n  <tbody>\n    <tr>\n      <th>0</th>\n      <td>2</td>\n      <td>Barclay Lynn</td>\n      <td>French fries</td>\n      <td>Lunch only</td>\n      <td>5</td>\n    </tr>\n    <tr>\n      <th>1</th>\n      <td>3</td>\n      <td>Jayendra Lyne</td>\n      <td>NaN</td>\n      <td>Breakfast and lunch</td>\n      <td>7</td>\n    </tr>\n    <tr>\n      <th>2</th>\n      <td>4</td>\n      <td>Leon Rossini</td>\n      <td>Anchovies</td>\n      <td>Lunch only</td>\n      <td>NaN</td>\n    </tr>\n    <tr>\n      <th>3</th>\n      <td>5</td>\n      <td>Chidiegwu Dunkel</td>\n      <td>Pizza</td>\n      <td>Breakfast and lunch</td>\n      <td>five</td>\n    </tr>\n    <tr>\n      <th>4</th>\n      <td>6</td>\n      <td>Güvenç Attila</td>\n      <td>Ice cream</td>\n      <td>Lunch only</td>\n      <td>6</td>\n    </tr>\n  </tbody>\n</table>\n</div>"
     },
     "metadata": {},
     "output_type": "display_data"
    },
    {
     "data": {
      "text/plain": "   student_id         full_name favourite_food            meal_plan  age\n0           2      Barclay Lynn   French fries           Lunch only  5.0\n1           3     Jayendra Lyne            NaN  Breakfast and lunch  7.0\n2           4      Leon Rossini      Anchovies           Lunch only  NaN\n3           5  Chidiegwu Dunkel          Pizza  Breakfast and lunch  5.0\n4           6     Güvenç Attila      Ice cream           Lunch only  6.0",
      "text/html": "<div>\n<style scoped>\n    .dataframe tbody tr th:only-of-type {\n        vertical-align: middle;\n    }\n\n    .dataframe tbody tr th {\n        vertical-align: top;\n    }\n\n    .dataframe thead th {\n        text-align: right;\n    }\n</style>\n<table border=\"1\" class=\"dataframe\">\n  <thead>\n    <tr style=\"text-align: right;\">\n      <th></th>\n      <th>student_id</th>\n      <th>full_name</th>\n      <th>favourite_food</th>\n      <th>meal_plan</th>\n      <th>age</th>\n    </tr>\n  </thead>\n  <tbody>\n    <tr>\n      <th>0</th>\n      <td>2</td>\n      <td>Barclay Lynn</td>\n      <td>French fries</td>\n      <td>Lunch only</td>\n      <td>5.0</td>\n    </tr>\n    <tr>\n      <th>1</th>\n      <td>3</td>\n      <td>Jayendra Lyne</td>\n      <td>NaN</td>\n      <td>Breakfast and lunch</td>\n      <td>7.0</td>\n    </tr>\n    <tr>\n      <th>2</th>\n      <td>4</td>\n      <td>Leon Rossini</td>\n      <td>Anchovies</td>\n      <td>Lunch only</td>\n      <td>NaN</td>\n    </tr>\n    <tr>\n      <th>3</th>\n      <td>5</td>\n      <td>Chidiegwu Dunkel</td>\n      <td>Pizza</td>\n      <td>Breakfast and lunch</td>\n      <td>5.0</td>\n    </tr>\n    <tr>\n      <th>4</th>\n      <td>6</td>\n      <td>Güvenç Attila</td>\n      <td>Ice cream</td>\n      <td>Lunch only</td>\n      <td>6.0</td>\n    </tr>\n  </tbody>\n</table>\n</div>"
     },
     "metadata": {},
     "output_type": "display_data"
    },
    {
     "data": {
      "text/plain": "({'penguins_torgersen': (52, 8),\n  'penguins_biscoe': (168, 8),\n  'penguins_dream': (124, 8),\n  'penguins': (344, 8)},\n   species     island  bill_length_mm  bill_depth_mm  flipper_length_mm  \\\n 0  Adelie  Torgersen            39.1           18.7              181.0   \n 1  Adelie  Torgersen            39.5           17.4              186.0   \n 2  Adelie  Torgersen            40.3           18.0              195.0   \n 3  Adelie  Torgersen             NaN            NaN                NaN   \n 4  Adelie  Torgersen            36.7           19.3              193.0   \n \n    body_mass_g     sex  year  \n 0       3750.0    male  2007  \n 1       3800.0  female  2007  \n 2       3250.0  female  2007  \n 3          NaN     NaN  2007  \n 4       3450.0  female  2007  )"
     },
     "execution_count": 1,
     "metadata": {},
     "output_type": "execute_result"
    }
   ],
   "source": [
    "import pandas as pd\n",
    "\n",
    "# Reading the students Excel file\n",
    "students = pd.read_excel(\"data/students.xlsx\")\n",
    "display(students.head())\n",
    "\n",
    "# Reading the Excel file with specific column names\n",
    "students = pd.read_excel(\n",
    "    \"data/students.xlsx\",\n",
    "    names=[\"student_id\", \"full_name\", \"favourite_food\", \"meal_plan\", \"age\"],\n",
    "    skiprows=1  # skip the first row as it may contain headers\n",
    ")\n",
    "display(students.head())\n",
    "\n",
    "# Reading the Excel file with specific column names and NA values\n",
    "students = pd.read_excel(\n",
    "    \"data/students.xlsx\",\n",
    "    names=[\"student_id\", \"full_name\", \"favourite_food\", \"meal_plan\", \"age\"],\n",
    "    skiprows=1,  # skip the first row as it may contain headers\n",
    "    na_values=[\"\", \"N/A\"]  # specify NA values\n",
    ")\n",
    "display(students.head())\n",
    "\n",
    "# Reading the Excel file with specific data types\n",
    "students = pd.read_excel(\n",
    "    \"data/students.xlsx\",\n",
    "    names=[\"student_id\", \"full_name\", \"favourite_food\", \"meal_plan\", \"age\"],\n",
    "    skiprows=1,  # skip the first row as it may contain headers\n",
    "    na_values=[\"\", \"N/A\"],  # specify NA values\n",
    "    dtype={\"student_id\": int, \"full_name\": str, \"favourite_food\": str, \"meal_plan\": str, \"age\": str}\n",
    ")\n",
    "display(students.head())\n",
    "\n",
    "# Cleaning the age column and converting strings to numbers\n",
    "students['age'] = students['age'].replace('five', '5')\n",
    "students['age'] = pd.to_numeric(students['age'], errors='coerce')\n",
    "display(students.head())\n",
    "\n",
    "# Reading specific sheets from the penguins Excel file\n",
    "penguins_torgersen = pd.read_excel(\"data/penguins.xlsx\", sheet_name=\"Torgersen Island\", na_values=\"NA\")\n",
    "penguins_biscoe = pd.read_excel(\"data/penguins.xlsx\", sheet_name=\"Biscoe Island\", na_values=\"NA\")\n",
    "penguins_dream = pd.read_excel(\"data/penguins.xlsx\", sheet_name=\"Dream Island\", na_values=\"NA\")\n",
    "\n",
    "# Concatenating the different penguin dataframes into one\n",
    "penguins = pd.concat([penguins_torgersen, penguins_biscoe, penguins_dream], ignore_index=True)\n",
    "\n",
    "# Displaying the dimensions of each sheet and the combined dataframe\n",
    "dimensions = {\n",
    "    \"penguins_torgersen\": penguins_torgersen.shape,\n",
    "    \"penguins_biscoe\": penguins_biscoe.shape,\n",
    "    \"penguins_dream\": penguins_dream.shape,\n",
    "    \"penguins\": penguins.shape\n",
    "}\n",
    "\n",
    "dimensions, penguins.head()"
   ]
  },
  {
   "cell_type": "code",
   "execution_count": 2,
   "outputs": [
    {
     "data": {
      "text/plain": "                 Lots of people  Unnamed: 1 Unnamed: 2 Unnamed: 3  \\\n0  simply cannot resist writing         NaN        NaN        NaN   \n1                            at         the        top        NaN   \n2                            or     merging        NaN        NaN   \n3                          Name  Profession        Age   Has kids   \n4                   David Bowie    musician         69       True   \n\n            Unnamed: 4           Unnamed: 5  \n0                  NaN           some notes  \n1                   of   their spreadsheets  \n2                  NaN                cells  \n3        Date of birth        Date of death  \n4  1947-01-08 00:00:00  2016-01-10 00:00:00  ",
      "text/html": "<div>\n<style scoped>\n    .dataframe tbody tr th:only-of-type {\n        vertical-align: middle;\n    }\n\n    .dataframe tbody tr th {\n        vertical-align: top;\n    }\n\n    .dataframe thead th {\n        text-align: right;\n    }\n</style>\n<table border=\"1\" class=\"dataframe\">\n  <thead>\n    <tr style=\"text-align: right;\">\n      <th></th>\n      <th>Lots of people</th>\n      <th>Unnamed: 1</th>\n      <th>Unnamed: 2</th>\n      <th>Unnamed: 3</th>\n      <th>Unnamed: 4</th>\n      <th>Unnamed: 5</th>\n    </tr>\n  </thead>\n  <tbody>\n    <tr>\n      <th>0</th>\n      <td>simply cannot resist writing</td>\n      <td>NaN</td>\n      <td>NaN</td>\n      <td>NaN</td>\n      <td>NaN</td>\n      <td>some notes</td>\n    </tr>\n    <tr>\n      <th>1</th>\n      <td>at</td>\n      <td>the</td>\n      <td>top</td>\n      <td>NaN</td>\n      <td>of</td>\n      <td>their spreadsheets</td>\n    </tr>\n    <tr>\n      <th>2</th>\n      <td>or</td>\n      <td>merging</td>\n      <td>NaN</td>\n      <td>NaN</td>\n      <td>NaN</td>\n      <td>cells</td>\n    </tr>\n    <tr>\n      <th>3</th>\n      <td>Name</td>\n      <td>Profession</td>\n      <td>Age</td>\n      <td>Has kids</td>\n      <td>Date of birth</td>\n      <td>Date of death</td>\n    </tr>\n    <tr>\n      <th>4</th>\n      <td>David Bowie</td>\n      <td>musician</td>\n      <td>69</td>\n      <td>True</td>\n      <td>1947-01-08 00:00:00</td>\n      <td>2016-01-10 00:00:00</td>\n    </tr>\n  </tbody>\n</table>\n</div>"
     },
     "metadata": {},
     "output_type": "display_data"
    },
    {
     "data": {
      "text/plain": "                  Name Profession   Age  Has kids Date of birth Date of death\n0          David Bowie   musician  69.0       1.0    1947-01-08    2016-01-10\n1        Carrie Fisher      actor  60.0       1.0    1956-10-21    2016-12-27\n2          Chuck Berry   musician  90.0       1.0    1926-10-18    2017-03-18\n3          Bill Paxton      actor  61.0       1.0    1955-05-17    2017-02-25\n4               Prince   musician  57.0       1.0    1958-06-07    2016-04-21\n5         Alan Rickman      actor  69.0       0.0    1946-02-21    2016-01-14\n6   Florence Henderson      actor  82.0       1.0    1934-02-14    2016-11-24\n7           Harper Lee     author  89.0       0.0    1926-04-28    2016-02-19\n8        Zsa Zsa Gábor      actor  99.0       1.0    1917-02-06    2016-12-18\n9       George Michael   musician  53.0       0.0    1963-06-25    2016-12-25\n10                Some        NaN   NaN       NaN           NaT           NaT",
      "text/html": "<div>\n<style scoped>\n    .dataframe tbody tr th:only-of-type {\n        vertical-align: middle;\n    }\n\n    .dataframe tbody tr th {\n        vertical-align: top;\n    }\n\n    .dataframe thead th {\n        text-align: right;\n    }\n</style>\n<table border=\"1\" class=\"dataframe\">\n  <thead>\n    <tr style=\"text-align: right;\">\n      <th></th>\n      <th>Name</th>\n      <th>Profession</th>\n      <th>Age</th>\n      <th>Has kids</th>\n      <th>Date of birth</th>\n      <th>Date of death</th>\n    </tr>\n  </thead>\n  <tbody>\n    <tr>\n      <th>0</th>\n      <td>David Bowie</td>\n      <td>musician</td>\n      <td>69.0</td>\n      <td>1.0</td>\n      <td>1947-01-08</td>\n      <td>2016-01-10</td>\n    </tr>\n    <tr>\n      <th>1</th>\n      <td>Carrie Fisher</td>\n      <td>actor</td>\n      <td>60.0</td>\n      <td>1.0</td>\n      <td>1956-10-21</td>\n      <td>2016-12-27</td>\n    </tr>\n    <tr>\n      <th>2</th>\n      <td>Chuck Berry</td>\n      <td>musician</td>\n      <td>90.0</td>\n      <td>1.0</td>\n      <td>1926-10-18</td>\n      <td>2017-03-18</td>\n    </tr>\n    <tr>\n      <th>3</th>\n      <td>Bill Paxton</td>\n      <td>actor</td>\n      <td>61.0</td>\n      <td>1.0</td>\n      <td>1955-05-17</td>\n      <td>2017-02-25</td>\n    </tr>\n    <tr>\n      <th>4</th>\n      <td>Prince</td>\n      <td>musician</td>\n      <td>57.0</td>\n      <td>1.0</td>\n      <td>1958-06-07</td>\n      <td>2016-04-21</td>\n    </tr>\n    <tr>\n      <th>5</th>\n      <td>Alan Rickman</td>\n      <td>actor</td>\n      <td>69.0</td>\n      <td>0.0</td>\n      <td>1946-02-21</td>\n      <td>2016-01-14</td>\n    </tr>\n    <tr>\n      <th>6</th>\n      <td>Florence Henderson</td>\n      <td>actor</td>\n      <td>82.0</td>\n      <td>1.0</td>\n      <td>1934-02-14</td>\n      <td>2016-11-24</td>\n    </tr>\n    <tr>\n      <th>7</th>\n      <td>Harper Lee</td>\n      <td>author</td>\n      <td>89.0</td>\n      <td>0.0</td>\n      <td>1926-04-28</td>\n      <td>2016-02-19</td>\n    </tr>\n    <tr>\n      <th>8</th>\n      <td>Zsa Zsa Gábor</td>\n      <td>actor</td>\n      <td>99.0</td>\n      <td>1.0</td>\n      <td>1917-02-06</td>\n      <td>2016-12-18</td>\n    </tr>\n    <tr>\n      <th>9</th>\n      <td>George Michael</td>\n      <td>musician</td>\n      <td>53.0</td>\n      <td>0.0</td>\n      <td>1963-06-25</td>\n      <td>2016-12-25</td>\n    </tr>\n    <tr>\n      <th>10</th>\n      <td>Some</td>\n      <td>NaN</td>\n      <td>NaN</td>\n      <td>NaN</td>\n      <td>NaT</td>\n      <td>NaT</td>\n    </tr>\n  </tbody>\n</table>\n</div>"
     },
     "execution_count": 2,
     "metadata": {},
     "output_type": "execute_result"
    }
   ],
   "source": [
    "# Reading the entire Excel file into a DataFrame\n",
    "deaths_path = \"data/deaths.xlsx\"\n",
    "deaths = pd.read_excel(deaths_path)\n",
    "display(deaths.head())\n",
    "\n",
    "# Reading a specific range from the Excel file\n",
    "deaths_range = pd.read_excel(deaths_path, usecols=\"A:F\", nrows=11, skiprows=4) # Range A5:F15\n",
    "deaths_range"
   ],
   "metadata": {
    "collapsed": false,
    "ExecuteTime": {
     "end_time": "2023-11-01T12:19:09.318498Z",
     "start_time": "2023-11-01T12:19:08.970029Z"
    }
   },
   "id": "8a3415979b30e228"
  },
  {
   "cell_type": "code",
   "execution_count": 3,
   "outputs": [
    {
     "data": {
      "text/plain": "      item  quantity\n0  brownie        10\n1  cupcake         5\n2   cookie         8",
      "text/html": "<div>\n<style scoped>\n    .dataframe tbody tr th:only-of-type {\n        vertical-align: middle;\n    }\n\n    .dataframe tbody tr th {\n        vertical-align: top;\n    }\n\n    .dataframe thead th {\n        text-align: right;\n    }\n</style>\n<table border=\"1\" class=\"dataframe\">\n  <thead>\n    <tr style=\"text-align: right;\">\n      <th></th>\n      <th>item</th>\n      <th>quantity</th>\n    </tr>\n  </thead>\n  <tbody>\n    <tr>\n      <th>0</th>\n      <td>brownie</td>\n      <td>10</td>\n    </tr>\n    <tr>\n      <th>1</th>\n      <td>cupcake</td>\n      <td>5</td>\n    </tr>\n    <tr>\n      <th>2</th>\n      <td>cookie</td>\n      <td>8</td>\n    </tr>\n  </tbody>\n</table>\n</div>"
     },
     "metadata": {},
     "output_type": "display_data"
    },
    {
     "data": {
      "text/plain": "      item  quantity\n0  brownie        10\n1  cupcake         5\n2   cookie         8",
      "text/html": "<div>\n<style scoped>\n    .dataframe tbody tr th:only-of-type {\n        vertical-align: middle;\n    }\n\n    .dataframe tbody tr th {\n        vertical-align: top;\n    }\n\n    .dataframe thead th {\n        text-align: right;\n    }\n</style>\n<table border=\"1\" class=\"dataframe\">\n  <thead>\n    <tr style=\"text-align: right;\">\n      <th></th>\n      <th>item</th>\n      <th>quantity</th>\n    </tr>\n  </thead>\n  <tbody>\n    <tr>\n      <th>0</th>\n      <td>brownie</td>\n      <td>10</td>\n    </tr>\n    <tr>\n      <th>1</th>\n      <td>cupcake</td>\n      <td>5</td>\n    </tr>\n    <tr>\n      <th>2</th>\n      <td>cookie</td>\n      <td>8</td>\n    </tr>\n  </tbody>\n</table>\n</div>"
     },
     "metadata": {},
     "output_type": "display_data"
    },
    {
     "data": {
      "text/plain": "   survey_id n_pets\n0          1      0\n1          2      1\n2          3    NaN\n3          4    two\n4          5      2",
      "text/html": "<div>\n<style scoped>\n    .dataframe tbody tr th:only-of-type {\n        vertical-align: middle;\n    }\n\n    .dataframe tbody tr th {\n        vertical-align: top;\n    }\n\n    .dataframe thead th {\n        text-align: right;\n    }\n</style>\n<table border=\"1\" class=\"dataframe\">\n  <thead>\n    <tr style=\"text-align: right;\">\n      <th></th>\n      <th>survey_id</th>\n      <th>n_pets</th>\n    </tr>\n  </thead>\n  <tbody>\n    <tr>\n      <th>0</th>\n      <td>1</td>\n      <td>0</td>\n    </tr>\n    <tr>\n      <th>1</th>\n      <td>2</td>\n      <td>1</td>\n    </tr>\n    <tr>\n      <th>2</th>\n      <td>3</td>\n      <td>NaN</td>\n    </tr>\n    <tr>\n      <th>3</th>\n      <td>4</td>\n      <td>two</td>\n    </tr>\n    <tr>\n      <th>4</th>\n      <td>5</td>\n      <td>2</td>\n    </tr>\n  </tbody>\n</table>\n</div>"
     },
     "metadata": {},
     "output_type": "display_data"
    },
    {
     "data": {
      "text/plain": "   group subgroup  id\n0    1.0        A   1\n1    NaN      NaN   2\n2    NaN      NaN   3\n3    NaN        B   4\n4    NaN      NaN   5",
      "text/html": "<div>\n<style scoped>\n    .dataframe tbody tr th:only-of-type {\n        vertical-align: middle;\n    }\n\n    .dataframe tbody tr th {\n        vertical-align: top;\n    }\n\n    .dataframe thead th {\n        text-align: right;\n    }\n</style>\n<table border=\"1\" class=\"dataframe\">\n  <thead>\n    <tr style=\"text-align: right;\">\n      <th></th>\n      <th>group</th>\n      <th>subgroup</th>\n      <th>id</th>\n    </tr>\n  </thead>\n  <tbody>\n    <tr>\n      <th>0</th>\n      <td>1.0</td>\n      <td>A</td>\n      <td>1</td>\n    </tr>\n    <tr>\n      <th>1</th>\n      <td>NaN</td>\n      <td>NaN</td>\n      <td>2</td>\n    </tr>\n    <tr>\n      <th>2</th>\n      <td>NaN</td>\n      <td>NaN</td>\n      <td>3</td>\n    </tr>\n    <tr>\n      <th>3</th>\n      <td>NaN</td>\n      <td>B</td>\n      <td>4</td>\n    </tr>\n    <tr>\n      <th>4</th>\n      <td>NaN</td>\n      <td>NaN</td>\n      <td>5</td>\n    </tr>\n  </tbody>\n</table>\n</div>"
     },
     "metadata": {},
     "output_type": "display_data"
    },
    {
     "data": {
      "text/plain": "  Unnamed: 0 Unnamed: 1\n0    Brand 1          n\n1       1234          8\n2       8721          2\n3       1822          3\n4    Brand 2          n",
      "text/html": "<div>\n<style scoped>\n    .dataframe tbody tr th:only-of-type {\n        vertical-align: middle;\n    }\n\n    .dataframe tbody tr th {\n        vertical-align: top;\n    }\n\n    .dataframe thead th {\n        text-align: right;\n    }\n</style>\n<table border=\"1\" class=\"dataframe\">\n  <thead>\n    <tr style=\"text-align: right;\">\n      <th></th>\n      <th>Unnamed: 0</th>\n      <th>Unnamed: 1</th>\n    </tr>\n  </thead>\n  <tbody>\n    <tr>\n      <th>0</th>\n      <td>Brand 1</td>\n      <td>n</td>\n    </tr>\n    <tr>\n      <th>1</th>\n      <td>1234</td>\n      <td>8</td>\n    </tr>\n    <tr>\n      <th>2</th>\n      <td>8721</td>\n      <td>2</td>\n    </tr>\n    <tr>\n      <th>3</th>\n      <td>1822</td>\n      <td>3</td>\n    </tr>\n    <tr>\n      <th>4</th>\n      <td>Brand 2</td>\n      <td>n</td>\n    </tr>\n  </tbody>\n</table>\n</div>"
     },
     "execution_count": 3,
     "metadata": {},
     "output_type": "execute_result"
    }
   ],
   "source": [
    "import pandas as pd\n",
    "\n",
    "# Creating the bake_sale DataFrame equivalent to the tibble in R\n",
    "bake_sale = pd.DataFrame({\n",
    "    'item': pd.Categorical([\"brownie\", \"cupcake\", \"cookie\"]),\n",
    "    'quantity': [10, 5, 8]\n",
    "})\n",
    "\n",
    "# Display the bake_sale DataFrame\n",
    "display(bake_sale)\n",
    "\n",
    "# Writing the bake_sale DataFrame to an Excel file\n",
    "bake_sale_path = \"data/bake-sale.xlsx\"\n",
    "bake_sale.to_excel(bake_sale_path, index=False)\n",
    "\n",
    "# Reading the newly written bake-sale.xlsx to confirm it's written correctly\n",
    "bake_sale_read = pd.read_excel(bake_sale_path)\n",
    "display(bake_sale_read)\n",
    "\n",
    "# Reading the survey.xlsx file\n",
    "survey_path = \"data/survey.xlsx\"\n",
    "survey = pd.read_excel(survey_path)\n",
    "display(survey.head())\n",
    "\n",
    "# Reading the roster.xlsx file\n",
    "roster_path = \"data/roster.xlsx\"\n",
    "roster = pd.read_excel(roster_path)\n",
    "display(roster.head())\n",
    "\n",
    "# Reading the sales.xlsx file skipping the first 3 rows\n",
    "sales_path = \"data/sales.xlsx\"\n",
    "sales = pd.read_excel(sales_path, skiprows=3)\n",
    "sales.head()"
   ],
   "metadata": {
    "collapsed": false,
    "ExecuteTime": {
     "end_time": "2023-11-01T12:23:49.300717Z",
     "start_time": "2023-11-01T12:23:49.156545Z"
    }
   },
   "id": "9c5d501a871a6b5"
  },
  {
   "cell_type": "code",
   "execution_count": null,
   "outputs": [],
   "source": [],
   "metadata": {
    "collapsed": false
   },
   "id": "36f92ce2ca06191d"
  }
 ],
 "metadata": {
  "kernelspec": {
   "display_name": "Python 3",
   "language": "python",
   "name": "python3"
  },
  "language_info": {
   "codemirror_mode": {
    "name": "ipython",
    "version": 2
   },
   "file_extension": ".py",
   "mimetype": "text/x-python",
   "name": "python",
   "nbconvert_exporter": "python",
   "pygments_lexer": "ipython2",
   "version": "2.7.6"
  }
 },
 "nbformat": 4,
 "nbformat_minor": 5
}
