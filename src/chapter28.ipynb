{
 "cells": [
  {
   "cell_type": "code",
   "execution_count": 1,
   "id": "initial_id",
   "metadata": {
    "collapsed": true,
    "ExecuteTime": {
     "end_time": "2023-11-02T21:38:34.961750Z",
     "start_time": "2023-11-02T21:38:34.935111Z"
    }
   },
   "outputs": [
    {
     "name": "stdout",
     "output_type": "stream",
     "text": [
      "['three', 'two', 'five']\n",
      "[10.  3.  5.  8.  1.]\n",
      "[10. nan  8. nan]\n",
      "{'xyz': 5, 'def': 2}\n",
      "a\n",
      "   x  y\n",
      "0  1  a\n",
      "1  2  e\n",
      "2  3  f\n",
      "   x  y         z\n",
      "1  2  e  0.551287\n",
      "2  3  f  0.108860\n",
      "0    1\n",
      "1    2\n",
      "2    3\n",
      "Name: x, dtype: int64\n",
      "0    1\n",
      "1    2\n",
      "2    3\n",
      "Name: x, dtype: int64\n",
      "   x\n",
      "0  1\n",
      "1  2\n",
      "2  3\n",
      "     x  y         z\n",
      "0  2.0  a  0.848632\n",
      "1  3.0  b  0.062950\n",
      "     x  y         z\n",
      "2  1.0  c  0.380101\n",
      "3  1.0  d  0.251308\n",
      "0  2.0  a  0.848632\n",
      "1  3.0  b  0.062950\n",
      "4  NaN  e  0.454412\n",
      "     x         z\n",
      "0  2.0  0.848632\n",
      "1  3.0  0.062950\n",
      "2  1.0  0.380101\n",
      "3  1.0  0.251308\n",
      "4  NaN  0.454412\n",
      "   y         z\n",
      "0  a  0.848632\n",
      "1  b  0.062950\n"
     ]
    }
   ],
   "source": [
    "import pandas as pd\n",
    "import numpy as np\n",
    "\n",
    "# List indexing in Python\n",
    "x = [\"one\", \"two\", \"three\", \"four\", \"five\"]\n",
    "selected_elements = [x[i - 1] for i in [3, 2, 5]]\n",
    "print(selected_elements)\n",
    "\n",
    "# Handling missing values and operations in Python with NumPy\n",
    "x = np.array([10, 3, np.nan, 5, 8, 1, np.nan])\n",
    "\n",
    "# All non-missing values of x\n",
    "non_missing_values = x[~np.isnan(x)]\n",
    "print(non_missing_values)\n",
    "\n",
    "# All even (or missing) values of x\n",
    "# Note: This operation will give a warning due to the comparison of NaN with an integer.\n",
    "even_or_missing_values = x[np.isnan(x) | (x % 2 == 0)]\n",
    "print(even_or_missing_values)\n",
    "\n",
    "# Dictionary for named vector selection\n",
    "x = {'abc': 1, 'def': 2, 'xyz': 5}\n",
    "selected_by_name = {key: x[key] for key in ['xyz', 'def']}\n",
    "print(selected_by_name)\n",
    "\n",
    "# DataFrame operations with pandas\n",
    "df = pd.DataFrame({\n",
    "    'x': range(1, 4),\n",
    "    'y': ['a', 'e', 'f'],\n",
    "    'z': np.random.uniform(size=3)\n",
    "})\n",
    "\n",
    "# Select first row and second column\n",
    "first_row_second_column = df.iloc[0, 1]\n",
    "print(first_row_second_column)\n",
    "\n",
    "# Select all rows and columns 'x' and 'y'\n",
    "xy_columns = df[['x', 'y']]\n",
    "print(xy_columns)\n",
    "\n",
    "# Select rows where `x` is greater than 1\n",
    "rows_with_x_greater_than_1 = df[df['x'] > 1]\n",
    "print(rows_with_x_greater_than_1)\n",
    "\n",
    "# DataFrame column selection\n",
    "df1 = pd.DataFrame({'x': range(1, 4)})\n",
    "column_x_df1 = df1['x']\n",
    "print(column_x_df1)\n",
    "\n",
    "df2 = pd.DataFrame({'x': range(1, 4)})\n",
    "column_x_df2 = df2['x']\n",
    "print(column_x_df2)\n",
    "\n",
    "# Preventing the default behavior of reducing dimensions\n",
    "column_x_no_drop = df1[['x']]\n",
    "print(column_x_no_drop)\n",
    "\n",
    "# Filtering and arranging DataFrames\n",
    "df = pd.DataFrame({\n",
    "    'x': [2, 3, 1, 1, np.nan],\n",
    "    'y': list('abcde'),\n",
    "    'z': np.random.uniform(size=5)\n",
    "})\n",
    "\n",
    "filtered_df = df[df['x'] > 1].dropna(subset=['x'])\n",
    "print(filtered_df)\n",
    "\n",
    "# Sorting by multiple columns\n",
    "sorted_df = df.sort_values(by=['x', 'y'])\n",
    "print(sorted_df)\n",
    "\n",
    "# Selecting specific columns\n",
    "selected_columns = df[['x', 'z']]\n",
    "print(selected_columns)\n",
    "\n",
    "# Chaining filter and select operations\n",
    "chained_operations = df[df['x'] > 1][['y', 'z']]\n",
    "print(chained_operations)"
   ]
  },
  {
   "cell_type": "code",
   "execution_count": 2,
   "outputs": [
    {
     "name": "stdout",
     "output_type": "stream",
     "text": [
      "0    1\n",
      "1    2\n",
      "2    3\n",
      "3    4\n",
      "Name: x, dtype: int64\n",
      "0    1\n",
      "1    2\n",
      "2    3\n",
      "3    4\n",
      "Name: x, dtype: int64\n",
      "   x   y   z\n",
      "0  1  10  11\n",
      "1  2   4   6\n",
      "2  3   1   4\n",
      "3  4  21  25\n",
      "0    1\n",
      "Name: x1, dtype: int64\n",
      "range(1, 4)\n",
      "a string\n",
      "-1\n",
      "['x1']\n",
      "   x1\n",
      "0   2\n",
      "x1    True\n",
      "dtype: bool\n"
     ]
    }
   ],
   "source": [
    "import pandas as pd\n",
    "import numpy as np\n",
    "\n",
    "# Convert R tibble operations to pandas DataFrame operations\n",
    "tb = pd.DataFrame({\n",
    "    'x': range(1, 5),\n",
    "    'y': [10, 4, 1, 21]\n",
    "})\n",
    "\n",
    "# By position\n",
    "first_column = tb.iloc[:, 0]\n",
    "print(first_column)\n",
    "\n",
    "# By name\n",
    "column_x_by_name = tb['x']\n",
    "print(column_x_by_name)\n",
    "\n",
    "# Adding a new column z which is the sum of x and y\n",
    "tb['z'] = tb['x'] + tb['y']\n",
    "print(tb)\n",
    "\n",
    "# The diamonds dataset specific operations are not shown as the dataset is not available.\n",
    "# They would involve pandas methods such as .max() for maximum value and .cat.categories\n",
    "# for getting the levels of a categorical variable.\n",
    "\n",
    "# DataFrame and list operations\n",
    "df = pd.DataFrame({'x1': [1]})\n",
    "print(df['x1'])\n",
    "\n",
    "# List operations in Python\n",
    "l = {\n",
    "    'a': range(1, 4),\n",
    "    'b': \"a string\",\n",
    "    'c': np.pi,\n",
    "    'd': [-1, -5]\n",
    "}\n",
    "\n",
    "# Print elements directly as Python does not use the str() function the same way as R\n",
    "print(l['a'])\n",
    "print(l['b'])\n",
    "print(l['d'][0])\n",
    "\n",
    "# Transforming DataFrame columns\n",
    "# First find numeric columns\n",
    "num_cols = df.select_dtypes(include=[np.number]).columns.tolist()\n",
    "print(num_cols)\n",
    "\n",
    "# Then transform each column with apply() then replace the original values\n",
    "df[num_cols] = df[num_cols].apply(lambda x: x * 2)\n",
    "print(df)\n",
    "\n",
    "# Using apply to check for numeric columns in the DataFrame\n",
    "print(df.apply(lambda x: pd.api.types.is_numeric_dtype(x)))"
   ],
   "metadata": {
    "collapsed": false,
    "ExecuteTime": {
     "end_time": "2023-11-02T21:41:46.838004Z",
     "start_time": "2023-11-02T21:41:46.741522Z"
    }
   },
   "id": "3e92d88c4d3a961"
  },
  {
   "cell_type": "code",
   "execution_count": 3,
   "outputs": [],
   "source": [
    "import os\n",
    "import pandas as pd\n",
    "\n",
    "# Assuming 'data/gapminder' is the directory where your .xlsx files are stored\n",
    "directory = 'data/gapminder'\n",
    "\n",
    "# Check if the directory exists before proceeding\n",
    "if os.path.exists(directory):\n",
    "    # Get a list of all .xlsx files in the data/gapminder directory\n",
    "    paths = [os.path.join(directory, f) for f in os.listdir(directory) if f.endswith('.xlsx')]\n",
    "\n",
    "    # Read each Excel file into a Pandas DataFrame and store in a list\n",
    "    files = [pd.read_excel(path) for path in paths]\n",
    "\n",
    "    # Initialize a list with the same length as paths, which will be used to store data if needed later\n",
    "    files_list = [None] * len(paths)\n",
    "else:\n",
    "    print(f\"The directory {directory} does not exist.\")\n"
   ],
   "metadata": {
    "collapsed": false,
    "ExecuteTime": {
     "end_time": "2023-11-02T21:45:39.547264Z",
     "start_time": "2023-11-02T21:45:38.496359Z"
    }
   },
   "id": "7f3fcad514ef5a7b"
  },
  {
   "cell_type": "code",
   "execution_count": 4,
   "outputs": [
    {
     "name": "stdout",
     "output_type": "stream",
     "text": [
      "[0, 1, 2, 3, 4, 5, 6, 7, 8, 9, 10, 11]\n"
     ]
    }
   ],
   "source": [
    "seq_along_paths = range(len(paths))\n",
    "\n",
    "# Print the sequence along paths\n",
    "print(list(seq_along_paths))"
   ],
   "metadata": {
    "collapsed": false,
    "ExecuteTime": {
     "end_time": "2023-11-02T21:46:22.693263Z",
     "start_time": "2023-11-02T21:46:22.672293Z"
    }
   },
   "id": "42e26cc28241775b"
  },
  {
   "cell_type": "code",
   "execution_count": 5,
   "outputs": [],
   "source": [
    "files = [pd.read_excel(path) for path in paths]"
   ],
   "metadata": {
    "collapsed": false,
    "ExecuteTime": {
     "end_time": "2023-11-02T21:47:14.133111Z",
     "start_time": "2023-11-02T21:47:13.363798Z"
    }
   },
   "id": "1f393226e2eaac09"
  },
  {
   "cell_type": "code",
   "execution_count": 6,
   "outputs": [
    {
     "data": {
      "text/plain": "       country continent  lifeExp       pop    gdpPercap\n0  Afghanistan      Asia   28.801   8425333   779.445314\n1      Albania    Europe   55.230   1282697  1601.056136\n2      Algeria    Africa   43.077   9279525  2449.008185\n3       Angola    Africa   30.015   4232095  3520.610273\n4    Argentina  Americas   62.485  17876956  5911.315053",
      "text/html": "<div>\n<style scoped>\n    .dataframe tbody tr th:only-of-type {\n        vertical-align: middle;\n    }\n\n    .dataframe tbody tr th {\n        vertical-align: top;\n    }\n\n    .dataframe thead th {\n        text-align: right;\n    }\n</style>\n<table border=\"1\" class=\"dataframe\">\n  <thead>\n    <tr style=\"text-align: right;\">\n      <th></th>\n      <th>country</th>\n      <th>continent</th>\n      <th>lifeExp</th>\n      <th>pop</th>\n      <th>gdpPercap</th>\n    </tr>\n  </thead>\n  <tbody>\n    <tr>\n      <th>0</th>\n      <td>Afghanistan</td>\n      <td>Asia</td>\n      <td>28.801</td>\n      <td>8425333</td>\n      <td>779.445314</td>\n    </tr>\n    <tr>\n      <th>1</th>\n      <td>Albania</td>\n      <td>Europe</td>\n      <td>55.230</td>\n      <td>1282697</td>\n      <td>1601.056136</td>\n    </tr>\n    <tr>\n      <th>2</th>\n      <td>Algeria</td>\n      <td>Africa</td>\n      <td>43.077</td>\n      <td>9279525</td>\n      <td>2449.008185</td>\n    </tr>\n    <tr>\n      <th>3</th>\n      <td>Angola</td>\n      <td>Africa</td>\n      <td>30.015</td>\n      <td>4232095</td>\n      <td>3520.610273</td>\n    </tr>\n    <tr>\n      <th>4</th>\n      <td>Argentina</td>\n      <td>Americas</td>\n      <td>62.485</td>\n      <td>17876956</td>\n      <td>5911.315053</td>\n    </tr>\n  </tbody>\n</table>\n</div>"
     },
     "execution_count": 6,
     "metadata": {},
     "output_type": "execute_result"
    }
   ],
   "source": [
    "combined_df = pd.concat(files, ignore_index=True)\n",
    "\n",
    "combined_df.head()  # Show the first few rows of the combined DataFrame"
   ],
   "metadata": {
    "collapsed": false,
    "ExecuteTime": {
     "end_time": "2023-11-02T21:48:29.086249Z",
     "start_time": "2023-11-02T21:48:29.010143Z"
    }
   },
   "id": "a62b35baa87ac7c"
  },
  {
   "cell_type": "code",
   "execution_count": 7,
   "outputs": [
    {
     "data": {
      "text/plain": "       country continent  lifeExp       pop    gdpPercap\n0  Afghanistan      Asia   28.801   8425333   779.445314\n1      Albania    Europe   55.230   1282697  1601.056136\n2      Algeria    Africa   43.077   9279525  2449.008185\n3       Angola    Africa   30.015   4232095  3520.610273\n4    Argentina  Americas   62.485  17876956  5911.315053",
      "text/html": "<div>\n<style scoped>\n    .dataframe tbody tr th:only-of-type {\n        vertical-align: middle;\n    }\n\n    .dataframe tbody tr th {\n        vertical-align: top;\n    }\n\n    .dataframe thead th {\n        text-align: right;\n    }\n</style>\n<table border=\"1\" class=\"dataframe\">\n  <thead>\n    <tr style=\"text-align: right;\">\n      <th></th>\n      <th>country</th>\n      <th>continent</th>\n      <th>lifeExp</th>\n      <th>pop</th>\n      <th>gdpPercap</th>\n    </tr>\n  </thead>\n  <tbody>\n    <tr>\n      <th>0</th>\n      <td>Afghanistan</td>\n      <td>Asia</td>\n      <td>28.801</td>\n      <td>8425333</td>\n      <td>779.445314</td>\n    </tr>\n    <tr>\n      <th>1</th>\n      <td>Albania</td>\n      <td>Europe</td>\n      <td>55.230</td>\n      <td>1282697</td>\n      <td>1601.056136</td>\n    </tr>\n    <tr>\n      <th>2</th>\n      <td>Algeria</td>\n      <td>Africa</td>\n      <td>43.077</td>\n      <td>9279525</td>\n      <td>2449.008185</td>\n    </tr>\n    <tr>\n      <th>3</th>\n      <td>Angola</td>\n      <td>Africa</td>\n      <td>30.015</td>\n      <td>4232095</td>\n      <td>3520.610273</td>\n    </tr>\n    <tr>\n      <th>4</th>\n      <td>Argentina</td>\n      <td>Americas</td>\n      <td>62.485</td>\n      <td>17876956</td>\n      <td>5911.315053</td>\n    </tr>\n  </tbody>\n</table>\n</div>"
     },
     "execution_count": 7,
     "metadata": {},
     "output_type": "execute_result"
    }
   ],
   "source": [
    "# This would be the Python equivalent using pandas, assuming 'paths' is defined and contains file paths\n",
    "\n",
    "# Initialize an empty DataFrame\n",
    "out = pd.DataFrame()\n",
    "\n",
    "# Loop over the paths and read each excel file, then append it to the 'out' DataFrame\n",
    "for path in paths:\n",
    "    temp_df = pd.read_excel(path)\n",
    "    out = pd.concat([out, temp_df], ignore_index=True)\n",
    "\n",
    "out.head()  # Display the first few rows of the combined DataFrame\n"
   ],
   "metadata": {
    "collapsed": false,
    "ExecuteTime": {
     "end_time": "2023-11-02T21:49:22.334157Z",
     "start_time": "2023-11-02T21:49:21.290357Z"
    }
   },
   "id": "c88e3d6ca8f506bf"
  },
  {
   "cell_type": "code",
   "execution_count": 9,
   "outputs": [
    {
     "data": {
      "text/plain": "<Figure size 640x480 with 1 Axes>",
      "image/png": "[encoded data removed]"
     },
     "metadata": {},
     "output_type": "display_data"
    }
   ],
   "source": [
    "import matplotlib.pyplot as plt\n",
    "\n",
    "diamonds = pd.read_csv(\"data/diamonds.csv\")\n",
    "\n",
    "# Assuming 'diamonds' is a pandas DataFrame with a 'carat' column\n",
    "plt.hist(diamonds['carat'], bins='auto')  # 'bins' parameter can be set as needed\n",
    "plt.title('Histogram of Diamond Carats')\n",
    "plt.xlabel('Carats')\n",
    "plt.ylabel('Frequency')\n",
    "plt.show()"
   ],
   "metadata": {
    "collapsed": false,
    "ExecuteTime": {
     "end_time": "2023-11-02T21:51:20.791710Z",
     "start_time": "2023-11-02T21:51:19.725253Z"
    }
   },
   "id": "12be916fd08a2859"
  },
  {
   "cell_type": "code",
   "execution_count": 10,
   "outputs": [
    {
     "data": {
      "text/plain": "<Figure size 640x480 with 1 Axes>",
      "image/png": "[encoded data removed]"
     },
     "metadata": {},
     "output_type": "display_data"
    }
   ],
   "source": [
    "import matplotlib.pyplot as plt\n",
    "\n",
    "# Assuming 'diamonds' is a pandas DataFrame with 'carat' and 'price' columns\n",
    "plt.scatter(diamonds['carat'], diamonds['price'])\n",
    "plt.title('Diamond Price by Carat')\n",
    "plt.xlabel('Carat')\n",
    "plt.ylabel('Price')\n",
    "plt.show()"
   ],
   "metadata": {
    "collapsed": false,
    "ExecuteTime": {
     "end_time": "2023-11-02T21:52:22.833613Z",
     "start_time": "2023-11-02T21:52:22.041667Z"
    }
   },
   "id": "275bda256de270b9"
  },
  {
   "cell_type": "code",
   "execution_count": null,
   "outputs": [],
   "source": [],
   "metadata": {
    "collapsed": false
   },
   "id": "a6364f59ee8dacbc"
  }
 ],
 "metadata": {
  "kernelspec": {
   "display_name": "Python 3",
   "language": "python",
   "name": "python3"
  },
  "language_info": {
   "codemirror_mode": {
    "name": "ipython",
    "version": 2
   },
   "file_extension": ".py",
   "mimetype": "text/x-python",
   "name": "python",
   "nbconvert_exporter": "python",
   "pygments_lexer": "ipython2",
   "version": "2.7.6"
  }
 },
 "nbformat": 4,
 "nbformat_minor": 5
}
