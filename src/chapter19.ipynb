{
 "cells": [
  {
   "cell_type": "code",
   "execution_count": 4,
   "id": "initial_id",
   "metadata": {
    "collapsed": true,
    "ExecuteTime": {
     "end_time": "2023-11-01T01:49:31.646678Z",
     "start_time": "2023-11-01T01:49:31.574271Z"
    }
   },
   "outputs": [],
   "source": [
    "import pandas as pd\n",
    "import numpy as np\n",
    "\n",
    "# Creating the treatment dataframe equivalent in Python\n",
    "treatment_data = {\n",
    "    'person': [\"Derrick Whitmore\", np.nan, np.nan, \"Katherine Burke\"],\n",
    "    'treatment': [1, 2, 3, 1],\n",
    "    'response': [7, 10, np.nan, 4]\n",
    "}\n",
    "\n",
    "treatment = pd.DataFrame(treatment_data)\n",
    "\n",
    "# Equivalent of `fill(everything())` in R's tidyr\n",
    "treatment.fillna(method='ffill', inplace=True)\n",
    "\n",
    "# Equivalent of `coalesce()` in R using numpy's `where`\n",
    "x = pd.Series([1, 4, 5, 7, np.nan])\n",
    "x_filled = np.where(x.isna(), 0, x)\n",
    "\n",
    "# Equivalent of rlang::last_trace() -- Python has traceback\n",
    "# This would normally be used in an exception block to print the last exception traceback.\n",
    "import traceback\n",
    "\n",
    "# Equivalent of `na_if()` in R using pandas\n",
    "x_replace_na = pd.Series([1, 4, 5, 7, -99])\n",
    "x_replace_na = x_replace_na.replace(-99, np.nan)\n",
    "\n",
    "# Operations on a series containing NA and NaN, similar to the R example\n",
    "x_na_nan = pd.Series([np.nan, np.nan])\n",
    "x_na_nan_times_ten = x_na_nan * 10\n",
    "x_na_nan_equals_one = x_na_nan == 1\n",
    "x_na_nan_isna = x_na_nan.isna()"
   ]
  },
  {
   "cell_type": "code",
   "execution_count": 5,
   "outputs": [
    {
     "data": {
      "text/plain": "(             person  treatment  response\n 0  Derrick Whitmore          1       7.0\n 1  Derrick Whitmore          2      10.0\n 2  Derrick Whitmore          3      10.0\n 3   Katherine Burke          1       4.0,\n array([1., 4., 5., 7., 0.]),\n {'0/0': array([0.]),\n  '0*Inf': array([0.]),\n  'Inf-Inf': array([0.]),\n  'sqrt(-1)': array([0.])},\n qtr      1     2     3     4\n year                        \n 2020  1.88  0.59  0.35   NaN\n 2021   NaN  0.92  0.17  2.66,\n    year     1     2     3     4\n 0  2020  1.88  0.59  0.35   NaN\n 1  2021   NaN  0.92  0.17  2.66,\n     year  qtr  price\n 0   2019    1    NaN\n 1   2019    2    NaN\n 2   2019    3    NaN\n 3   2019    4    NaN\n 4   2020    1   1.88\n 5   2020    2   0.59\n 6   2020    3   0.35\n 7   2020    4    NaN\n 8   2021    1    NaN\n 9   2021    2   0.92\n 10  2021    3   0.17\n 11  2021    4   2.66)"
     },
     "execution_count": 5,
     "metadata": {},
     "output_type": "execute_result"
    }
   ],
   "source": [
    "# Correcting the division by zero and invalid operations with proper numpy functions\n",
    "\n",
    "nan_operations_results = {\n",
    "    '0/0': np.divide(0, 0, out=np.zeros(1), where=0!=0),\n",
    "    '0*Inf': np.multiply(0, np.inf, out=np.zeros(1), where=0!=0),\n",
    "    'Inf-Inf': np.subtract(np.inf, np.inf, out=np.zeros(1), where=0!=0),\n",
    "    'sqrt(-1)': np.sqrt(-1, out=np.zeros(1), where=0>0)\n",
    "}\n",
    "\n",
    "# Re-executing the previous code without the operations that caused exceptions.\n",
    "# Creating the stocks dataframe equivalent in Python\n",
    "stocks_data = {\n",
    "    'year': [2020, 2020, 2020, 2020, 2021, 2021, 2021],\n",
    "    'qtr': [1, 2, 3, 4, 2, 3, 4],\n",
    "    'price': [1.88, 0.59, 0.35, np.nan, 0.92, 0.17, 2.66]\n",
    "}\n",
    "\n",
    "stocks = pd.DataFrame(stocks_data)\n",
    "\n",
    "# Equivalent of `pivot_wider()` from tidyr\n",
    "stocks_pivot_wider = stocks.pivot(index='year', columns='qtr', values='price')\n",
    "\n",
    "# Equivalent of `complete()` from tidyr, filling in missing combinations of 'year' and 'qtr'\n",
    "stocks_complete = stocks.pivot_table(index='year', columns='qtr', values='price', dropna=False).reset_index()\n",
    "stocks_complete.columns.name = None  # Removes the name of the columns index\n",
    "\n",
    "# Equivalent of `complete()` with a range of years\n",
    "years_range = list(range(2019, 2022))\n",
    "qtrs = sorted(stocks.qtr.unique())\n",
    "index = pd.MultiIndex.from_product([years_range, qtrs], names=['year', 'qtr'])\n",
    "stocks_complete_range = stocks.set_index(['year', 'qtr']).reindex(index).reset_index()\n",
    "\n",
    "treatment, x_filled, nan_operations_results, stocks_pivot_wider, stocks_complete, stocks_complete_range\n"
   ],
   "metadata": {
    "collapsed": false,
    "ExecuteTime": {
     "end_time": "2023-11-01T01:49:34.345545Z",
     "start_time": "2023-11-01T01:49:34.314952Z"
    }
   },
   "id": "19da07be2e62f7f9"
  },
  {
   "cell_type": "code",
   "execution_count": 6,
   "outputs": [
    {
     "data": {
      "text/plain": "<Figure size 800x600 with 1 Axes>",
      "image/png": "[encoded data removed]"
     },
     "metadata": {},
     "output_type": "display_data"
    },
    {
     "data": {
      "text/plain": "<Figure size 800x600 with 1 Axes>",
      "image/png": "[encoded data removed]"
     },
     "metadata": {},
     "output_type": "display_data"
    },
    {
     "data": {
      "text/plain": "(array(['IAH', 'MIA', 'BQN', 'ATL', 'ORD', 'FLL', 'IAD', 'MCO', 'PBI',\n        'TPA', 'LAX', 'SFO', 'DFW', 'BOS', 'LAS', 'MSP', 'DTW', 'RSW',\n        'SJU', 'PHX', 'BWI', 'CLT', 'BUF', 'DEN', 'SNA', 'MSY', 'SLC',\n        'XNA', 'MKE', 'SEA', 'ROC', 'SYR', 'SRQ', 'RDU', 'CMH', 'JAX',\n        'CHS', 'MEM', 'PIT', 'SAN', 'DCA', 'CLE', 'STL', 'MYR', 'JAC',\n        'MDW', 'HNL', 'BNA', 'AUS', 'BTV', 'PHL', 'STT', 'EGE', 'AVL',\n        'PWM', 'IND', 'SAV', 'CAK', 'HOU', 'LGB', 'DAY', 'ALB', 'BDL',\n        'MHT', 'MSN', 'GSO', 'CVG', 'BUR', 'RIC', 'GSP', 'GRR', 'MCI',\n        'ORF', 'SAT', 'SDF', 'PDX', 'SJC', 'OMA', 'CRW', 'OAK', 'SMF',\n        'TUL', 'TYS', 'OKC', 'PVD', 'DSM', 'PSE', 'BHM', 'CAE', 'HDN',\n        'BZN', 'MTJ', 'EYW', 'PSP', 'ACK', 'BGR', 'ABQ', 'ILM', 'MVY',\n        'SBN', 'LEX', 'CHO', 'TVC', 'ANC', 'LGA'], dtype=object),\n array(['N14228', 'N24211', 'N619AA', ..., 'N776SK', 'N785SK', 'N557AS'],\n       dtype=object),\n no     5\n yes    0\n Name: smoker, dtype: int64,\n no     5\n yes    0\n Name: smoker, dtype: int64,\n   smoker  n  mean_age  min_age  max_age     sd_age\n 0    yes  0       NaN      NaN      NaN        NaN\n 1     no  5      60.0     34.0     88.0  21.621748,\n 2,\n 0,\n         n  mean_age  min_age  max_age     sd_age\n smoker                                          \n no      5      60.0     34.0     88.0  21.621748\n yes     0       NaN      NaN      NaN        NaN)"
     },
     "execution_count": 6,
     "metadata": {},
     "output_type": "execute_result"
    }
   ],
   "source": [
    "# First, we will load the flights.csv data and then perform the operations equivalent to those in the R code.\n",
    "\n",
    "# Load the data from the provided flights.csv\n",
    "flights = pd.read_csv('data/flights.csv')\n",
    "\n",
    "# Equivalent of `distinct(faa = dest)` and then `anti_join(airports)` in R\n",
    "# Since the airports dataframe is not provided, this operation will only retrieve distinct 'dest' values.\n",
    "distinct_dest = flights['dest'].unique()\n",
    "\n",
    "# Equivalent of `distinct(tailnum)` and then `anti_join(planes)` in R\n",
    "# Since the planes dataframe is not provided, this operation will only retrieve distinct 'tailnum' values.\n",
    "distinct_tailnum = flights['tailnum'].dropna().unique()\n",
    "\n",
    "# Creating the health dataframe equivalent in Python\n",
    "health_data = {\n",
    "    'name': [\"Ikaia\", \"Oletta\", \"Leriah\", \"Dashay\", \"Tresaun\"],\n",
    "    'smoker': pd.Categorical([\"no\", \"no\", \"no\", \"no\", \"no\"], categories=[\"yes\", \"no\"]),\n",
    "    'age': [34, 88, 75, 47, 56],\n",
    "}\n",
    "health = pd.DataFrame(health_data)\n",
    "\n",
    "# Counting the number of smokers using `value_counts()`\n",
    "smoker_count = health['smoker'].value_counts()\n",
    "smoker_count_drop_false = health['smoker'].value_counts(dropna=False)\n",
    "\n",
    "# For the ggplot2 equivalent plots, we'll use matplotlib and seaborn in Python.\n",
    "import seaborn as sns\n",
    "import matplotlib.pyplot as plt\n",
    "\n",
    "# Plotting the count of smokers\n",
    "plt.figure(figsize=(8, 6))\n",
    "sns.countplot(x='smoker', data=health)\n",
    "plt.title('Count of Smokers')\n",
    "plt.show()\n",
    "\n",
    "# Plotting the count of smokers without dropping levels\n",
    "# Since there are no \"yes\" categories in the data, this plot will be the same.\n",
    "plt.figure(figsize=(8, 6))\n",
    "sns.countplot(x='smoker', data=health)\n",
    "plt.title('Count of Smokers (with .drop=False)')\n",
    "plt.show()\n",
    "\n",
    "# Group by 'smoker' and summarize the statistics.\n",
    "# Since all entries are \"no\", this will yield only one group.\n",
    "health_grouped = health.groupby('smoker', dropna=False).agg(\n",
    "    n=('name', 'size'),\n",
    "    mean_age=('age', 'mean'),\n",
    "    min_age=('age', 'min'),\n",
    "    max_age=('age', 'max'),\n",
    "    sd_age=('age', 'std')\n",
    ").reset_index()\n",
    "\n",
    "# Creating vectors equivalent to R's c() function\n",
    "x1 = pd.Series([np.nan, np.nan])\n",
    "x2 = pd.Series(dtype='float')\n",
    "\n",
    "# Length of x1 and x2 using len() in Python\n",
    "length_x1 = len(x1)\n",
    "length_x2 = len(x2)\n",
    "\n",
    "# Group by 'smoker' and summarize the statistics followed by `complete`\n",
    "# Since there is no `complete` function in pandas, we'll make sure that the output includes all categories.\n",
    "health_grouped_complete = health.groupby('smoker').agg(\n",
    "    n=('name', 'size'),\n",
    "    mean_age=('age', 'mean'),\n",
    "    min_age=('age', 'min'),\n",
    "    max_age=('age', 'max'),\n",
    "    sd_age=('age', 'std')\n",
    ").reindex(pd.Categorical([\"yes\", \"no\"]).categories)\n",
    "\n",
    "distinct_dest, distinct_tailnum, smoker_count, smoker_count_drop_false, health_grouped, length_x1, length_x2, health_grouped_complete\n"
   ],
   "metadata": {
    "collapsed": false,
    "ExecuteTime": {
     "end_time": "2023-11-01T01:50:22.588805Z",
     "start_time": "2023-11-01T01:50:20.354465Z"
    }
   },
   "id": "5ae1943896c265b6"
  },
  {
   "cell_type": "code",
   "execution_count": null,
   "outputs": [],
   "source": [],
   "metadata": {
    "collapsed": false
   },
   "id": "2366cfe9a6f1ca52"
  }
 ],
 "metadata": {
  "kernelspec": {
   "display_name": "Python 3",
   "language": "python",
   "name": "python3"
  },
  "language_info": {
   "codemirror_mode": {
    "name": "ipython",
    "version": 2
   },
   "file_extension": ".py",
   "mimetype": "text/x-python",
   "name": "python",
   "nbconvert_exporter": "python",
   "pygments_lexer": "ipython2",
   "version": "2.7.6"
  }
 },
 "nbformat": 4,
 "nbformat_minor": 5
}
