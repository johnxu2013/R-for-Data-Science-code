{
 "cells": [
  {
   "cell_type": "code",
   "execution_count": 1,
   "id": "initial_id",
   "metadata": {
    "collapsed": true,
    "ExecuteTime": {
     "end_time": "2023-11-02T00:25:58.433672Z",
     "start_time": "2023-11-02T00:25:58.373980Z"
    }
   },
   "outputs": [
    {
     "name": "stdout",
     "output_type": "stream",
     "text": [
      "[[1, 2, 3, 4], 'a', True]\n",
      "{'a': [1, 2], 'b': [1, 2, 3], 'c': [1, 2, 3, 4]}\n",
      "[1, 2, 3, 4]\n",
      "   x  y          z\n",
      "0  1  a     [1, 2]\n",
      "1  2  b  [3, 4, 5]\n",
      "    a   b  x\n",
      "0  11  12  1\n",
      "1  21  22  2\n",
      "2  31  32  3\n",
      "   x   y\n",
      "0  1  11\n",
      "0  1  12\n",
      "0  1  13\n",
      "1  2  21\n",
      "2  3  31\n",
      "2  3  32\n",
      "   x    y\n",
      "0  a    1\n",
      "0  a    2\n",
      "1  b    3\n",
      "2  c  NaN\n",
      "   x     y\n",
      "0  a     1\n",
      "1  b     a\n",
      "1  b  True\n",
      "1  b     5\n",
      "   x      y                      z\n",
      "0  a  y-a-1         [z-a-1, z-a-2]\n",
      "0  a  y-a-2         [z-a-1, z-a-2]\n",
      "1  b  y-b-1  [z-b-1, z-b-2, z-b-3]\n",
      "1  b  y-b-2  [z-b-1, z-b-2, z-b-3]\n",
      "1  b  y-b-3  [z-b-1, z-b-2, z-b-3]\n",
      "   x                      y      z\n",
      "0  a         [y-a-1, y-a-2]  z-a-1\n",
      "0  a         [y-a-1, y-a-2]  z-a-2\n",
      "1  b  [y-b-1, y-b-2, y-b-3]  z-b-1\n",
      "1  b  [y-b-1, y-b-2, y-b-3]  z-b-2\n",
      "1  b  [y-b-1, y-b-2, y-b-3]  z-b-3\n"
     ]
    }
   ],
   "source": [
    "import pandas as pd\n",
    "\n",
    "# Equivalent of simple lists\n",
    "x1 = [list(range(1, 5)), \"a\", True]\n",
    "print(x1)\n",
    "\n",
    "x2 = {'a': list(range(1, 3)), 'b': list(range(1, 4)), 'c': list(range(1, 5))}\n",
    "print(x2)\n",
    "\n",
    "# Equivalent of c() in R for combining vectors\n",
    "combined = [1, 2] + [3, 4]  # This combines the lists into one list\n",
    "print(combined)\n",
    "\n",
    "# Nested lists\n",
    "x3 = [[1, 2], [3, 4]]\n",
    "x4 = [1, 2] + [3, 4]  # This is just concatenating the lists\n",
    "x5 = [1, [2, [3, [4, [5]]]]]\n",
    "\n",
    "# DataFrames and nesting\n",
    "df = pd.DataFrame({\n",
    "    'x': [1, 2],\n",
    "    'y': [\"a\", \"b\"],\n",
    "    'z': [[1, 2], [3, 4, 5]]\n",
    "})\n",
    "print(df)\n",
    "\n",
    "# More complex DataFrame structures\n",
    "df1 = pd.DataFrame({\n",
    "    'x': [1, 2, 3],\n",
    "    'y': [{'a': 11, 'b': 12}, {'a': 21, 'b': 22}, {'a': 31, 'b': 32}]\n",
    "})\n",
    "\n",
    "df2 = pd.DataFrame({\n",
    "    'x': [1, 2, 3],\n",
    "    'y': [[11, 12, 13], [21], [31, 32]]\n",
    "})\n",
    "\n",
    "# Unnesting data frames\n",
    "# In Python, unnesting can be achieved using 'explode' for lists and 'json_normalize' for dictionaries.\n",
    "df1_exploded = pd.json_normalize(df1['y']).join(df1['x'])\n",
    "print(df1_exploded)\n",
    "\n",
    "df2_exploded = df2.explode('y')\n",
    "print(df2_exploded)\n",
    "\n",
    "# Tribble equivalent in Python is simply constructing a DataFrame directly.\n",
    "df6 = pd.DataFrame({\n",
    "    'x': [\"a\", \"b\", \"c\"],\n",
    "    'y': [[1, 2], [3], []]\n",
    "})\n",
    "df6_exploded = df6.explode('y')\n",
    "print(df6_exploded)\n",
    "\n",
    "df4 = pd.DataFrame({\n",
    "    'x': [\"a\", \"b\"],\n",
    "    'y': [[1], [\"a\", True, 5]]\n",
    "})\n",
    "df4_exploded = df4.explode('y')\n",
    "print(df4_exploded)\n",
    "\n",
    "# For the last example, you would explode both lists similarly\n",
    "df4 = pd.DataFrame({\n",
    "    'x': [\"a\", \"b\"],\n",
    "    'y': [[\"y-a-1\", \"y-a-2\"], [\"y-b-1\", \"y-b-2\", \"y-b-3\"]],\n",
    "    'z': [[\"z-a-1\", \"z-a-2\"], [\"z-b-1\", \"z-b-2\", \"z-b-3\"]]\n",
    "})\n",
    "df4_exploded_y = df4.explode('y')\n",
    "df4_exploded_z = df4.explode('z')\n",
    "print(df4_exploded_y)\n",
    "print(df4_exploded_z)"
   ]
  },
  {
   "cell_type": "code",
   "execution_count": 2,
   "outputs": [
    {
     "name": "stdout",
     "output_type": "stream",
     "text": [
      "                                                json\n",
      "0  [{'id': 61160198, 'name': 'after', 'full_name'...\n",
      "1  [{'id': 14756210, 'name': '2013-11_sfu', 'full...\n",
      "2  [{'id': 41645119, 'name': 'advdatasci', 'full_...\n",
      "3  [{'id': 56019902, 'name': '2016-14', 'full_nam...\n",
      "4  [{'id': 17120350, 'name': 'ampolcourse', 'full...\n",
      "5  [{'id': 57878579, 'name': 'aqi_pdf', 'full_nam...\n"
     ]
    }
   ],
   "source": [
    "import pandas as pd\n",
    "import json\n",
    "\n",
    "# Load the JSON data from the file\n",
    "with open('data/gh_repos.json', 'r') as file:\n",
    "    gh_repos = json.load(file)\n",
    "\n",
    "# Create a DataFrame with a column 'json' that contains the JSON data\n",
    "repos = pd.DataFrame({'json': gh_repos})\n",
    "\n",
    "# Display the DataFrame\n",
    "print(repos)"
   ],
   "metadata": {
    "collapsed": false,
    "ExecuteTime": {
     "end_time": "2023-11-02T01:27:43.740059Z",
     "start_time": "2023-11-02T01:27:43.147307Z"
    }
   },
   "id": "8c8945207b0bbf11"
  },
  {
   "cell_type": "code",
   "execution_count": 11,
   "outputs": [
    {
     "data": {
      "text/plain": "                                                  0   \\\n0  {'id': 61160198, 'name': 'after', 'full_name':...   \n1  {'id': 14756210, 'name': '2013-11_sfu', 'full_...   \n2  {'id': 41645119, 'name': 'advdatasci', 'full_n...   \n3  {'id': 56019902, 'name': '2016-14', 'full_name...   \n4  {'id': 17120350, 'name': 'ampolcourse', 'full_...   \n\n                                                  1   \\\n0  {'id': 40500181, 'name': 'argufy', 'full_name'...   \n1  {'id': 14152301, 'name': '2014-01-27-miami', '...   \n2  {'id': 47568815, 'name': 'advdatasci-swirl', '...   \n3  {'id': 50363731, 'name': 'choroplethrCaCensusT...   \n4  {'id': 32517704, 'name': 'apsa-leeper.bst', 'f...   \n\n                                                  2   \\\n0  {'id': 36442442, 'name': 'ask', 'full_name': '...   \n1  {'id': 18495266, 'name': '2014-05-12-ubc', 'fu...   \n2  {'id': 65922328, 'name': 'advdatasci16', 'full...   \n3  {'id': 50631926, 'name': 'choroplethrUTCensusT...   \n4  {'id': 37484170, 'name': 'arco', 'full_name': ...   \n\n                                                  3   \\\n0  {'id': 34924886, 'name': 'baseimports', 'full_...   \n1  {'id': 31132213, 'name': '2015-02-23_bryan-fie...   \n2  {'id': 66415014, 'name': 'advdatasci_swirl', '...   \n3  {'id': 47999571, 'name': 'CountyHealthApp', 'f...   \n4  {'id': 58914380, 'name': 'astrojs', 'full_name...   \n\n                                                  4   \\\n0  {'id': 61620661, 'name': 'citest', 'full_name'...   \n1  {'id': 38192453, 'name': '2015-06-28_r-summit-...   \n2  {'id': 12441219, 'name': 'ballgown', 'full_nam...   \n3  {'id': 62814408, 'name': 'data-police-shooting...   \n4  {'id': 44051488, 'name': 'batman', 'full_name'...   \n\n                                                  5   \\\n0  {'id': 33907457, 'name': 'clisymbols', 'full_n...   \n1  {'id': 40545399, 'name': '2015-08_bryan-jsm-st...   \n2  {'id': 20234724, 'name': 'capitalIn21stCentury...   \n3  {'id': 40152050, 'name': 'ExData_Plotting1', '...   \n4  {'id': 50262277, 'name': 'choco-r-devel', 'ful...   \n\n                                                  6   \\\n0  {'id': 37236467, 'name': 'cmaker', 'full_name'...   \n1  {'id': 65086873, 'name': '2015_Coartic', 'full...   \n2  {'id': 36437287, 'name': 'careerplanning', 'fu...   \n3  {'id': 66172034, 'name': 'fall2016competition'...   \n4  {'id': 50262595, 'name': 'choco-rtools', 'full...   \n\n                                                  7   \\\n0  {'id': 67959624, 'name': 'cmark', 'full_name':...   \n1  {'id': 58010746, 'name': '2016-06_spreadsheets...   \n2  {'id': 7751816, 'name': 'dataanalysis', 'full_...   \n3  {'id': 69769188, 'name': 'ggthemes', 'full_nam...   \n4  {'id': 37645044, 'name': 'ciplotm', 'full_name...   \n\n                                                  8   \\\n0  {'id': 63152619, 'name': 'conditions', 'full_n...   \n1  {'id': 63552154, 'name': '2016-07_data-carpent...   \n2  {'id': 4772877, 'name': 'datascientist', 'full...   \n3  {'id': 39162163, 'name': 'human_activity_smart...   \n4  {'id': 16218963, 'name': 'colourlovers', 'full...   \n\n                                                  9   ...  \\\n0  {'id': 24343686, 'name': 'crayon', 'full_name'...  ...   \n1  {'id': 15151129, 'name': '545A_hw06', 'full_na...  ...   \n2  {'id': 14204342, 'name': 'datasharing', 'full_...  ...   \n3  {'id': 53640070, 'name': 'janeaustenr', 'full_...  ...   \n4  {'id': 69040989, 'name': 'conflictcourse', 'fu...  ...   \n\n                                                  20  \\\n0  {'id': 36510350, 'name': 'keypress', 'full_nam...   \n1  {'id': 62916989, 'name': 'bookdown', 'full_nam...   \n2  {'id': 12563551, 'name': 'googleCite', 'full_n...   \n3  {'id': 64248946, 'name': 'r-travis', 'full_nam...   \n4  {'id': 39673558, 'name': 'drat', 'full_name': ...   \n\n                                                  21  \\\n0  {'id': 68243980, 'name': 'lintr', 'full_name':...   \n1  {'id': 10124989, 'name': 'boot-camps', 'full_n...   \n2  {'id': 6582536, 'name': 'graduate', 'full_name...   \n3  {'id': 42529303, 'name': 'RepData_PeerAssessme...   \n4  {'id': 16486298, 'name': 'dvn', 'full_name': '...   \n\n                                                  22  \\\n0  {'id': 30056165, 'name': 'macBriain', 'full_na...   \n1  {'id': 45448660, 'name': 'candy', 'full_name':...   \n2  {'id': 6661008, 'name': 'healthvis', 'full_nam...   \n3  {'id': 50752693, 'name': 'SLCWaterMapping', 'f...   \n4  {'id': 69484625, 'name': 'effect-heterogeneity...   \n\n                                                  23  \\\n0  {'id': 40200563, 'name': 'maxygen', 'full_name...   \n1  {'id': 27112806, 'name': 'CoffeeCoop', 'full_n...   \n2  {'id': 19133476, 'name': 'hyde', 'full_name': ...   \n3  {'id': 55175084, 'name': 'tidytext', 'full_nam...   \n4  {'id': 12600801, 'name': 'expcourse', 'full_na...   \n\n                                                  24  \\\n0  {'id': 29020316, 'name': 'MISO', 'full_name': ...   \n1  {'id': 22161372, 'name': 'datacarpentry', 'ful...   \n2  {'id': 16584923, 'name': 'inclassfeb62014', 'f...   \n3  {'id': 54402509, 'name': 'unconf16', 'full_nam...   \n4  {'id': 69040960, 'name': 'exppolcourse', 'full...   \n\n                                                  25  \\\n0  {'id': 52725247, 'name': 'parr', 'full_name': ...   \n1  {'id': 50471649, 'name': 'ddpcr', 'full_name':...   \n2  {'id': 7745123, 'name': 'jhsph753', 'full_name...   \n3  {'id': 46437841, 'name': 'WeightLiftingMachine...   \n4  {'id': 10626943, 'name': 'expResults', 'full_n...   \n\n                                                  26  \\\n0  {'id': 23134624, 'name': 'parsedate', 'full_na...   \n1  {'id': 40727345, 'name': 'devtools', 'full_nam...   \n2  {'id': 15639612, 'name': 'jhsph753and4', 'full...   \n3                                               None   \n4  {'id': 59699871, 'name': 'GK2011', 'full_name'...   \n\n                                                  27  \\\n0  {'id': 24293304, 'name': 'pingr', 'full_name':...   \n1  {'id': 46666194, 'name': 'diffr', 'full_name':...   \n2  {'id': 42834789, 'name': 'jhudash', 'full_name...   \n3                                               None   \n4  {'id': 59957482, 'name': 'GREA', 'full_name': ...   \n\n                                                  28  \\\n0  {'id': 23767512, 'name': 'pkgconfig', 'full_na...   \n1  {'id': 45375376, 'name': 'dplyr', 'full_name':...   \n2  {'id': 42873969, 'name': 'jhudash-refugee', 'f...   \n3                                               None   \n4  {'id': 50747949, 'name': 'hints', 'full_name':...   \n\n                                                  29  \n0  {'id': 11191345, 'name': 'playground', 'full_n...  \n1  {'id': 61313360, 'name': 'eigencoder', 'full_n...  \n2  {'id': 19133794, 'name': 'jtleek.github.io', '...  \n3                                               None  \n4  {'id': 11063005, 'name': 'Impressive', 'full_n...  \n\n[5 rows x 30 columns]",
      "text/html": "<div>\n<style scoped>\n    .dataframe tbody tr th:only-of-type {\n        vertical-align: middle;\n    }\n\n    .dataframe tbody tr th {\n        vertical-align: top;\n    }\n\n    .dataframe thead th {\n        text-align: right;\n    }\n</style>\n<table border=\"1\" class=\"dataframe\">\n  <thead>\n    <tr style=\"text-align: right;\">\n      <th></th>\n      <th>0</th>\n      <th>1</th>\n      <th>2</th>\n      <th>3</th>\n      <th>4</th>\n      <th>5</th>\n      <th>6</th>\n      <th>7</th>\n      <th>8</th>\n      <th>9</th>\n      <th>...</th>\n      <th>20</th>\n      <th>21</th>\n      <th>22</th>\n      <th>23</th>\n      <th>24</th>\n      <th>25</th>\n      <th>26</th>\n      <th>27</th>\n      <th>28</th>\n      <th>29</th>\n    </tr>\n  </thead>\n  <tbody>\n    <tr>\n      <th>0</th>\n      <td>{'id': 61160198, 'name': 'after', 'full_name':...</td>\n      <td>{'id': 40500181, 'name': 'argufy', 'full_name'...</td>\n      <td>{'id': 36442442, 'name': 'ask', 'full_name': '...</td>\n      <td>{'id': 34924886, 'name': 'baseimports', 'full_...</td>\n      <td>{'id': 61620661, 'name': 'citest', 'full_name'...</td>\n      <td>{'id': 33907457, 'name': 'clisymbols', 'full_n...</td>\n      <td>{'id': 37236467, 'name': 'cmaker', 'full_name'...</td>\n      <td>{'id': 67959624, 'name': 'cmark', 'full_name':...</td>\n      <td>{'id': 63152619, 'name': 'conditions', 'full_n...</td>\n      <td>{'id': 24343686, 'name': 'crayon', 'full_name'...</td>\n      <td>...</td>\n      <td>{'id': 36510350, 'name': 'keypress', 'full_nam...</td>\n      <td>{'id': 68243980, 'name': 'lintr', 'full_name':...</td>\n      <td>{'id': 30056165, 'name': 'macBriain', 'full_na...</td>\n      <td>{'id': 40200563, 'name': 'maxygen', 'full_name...</td>\n      <td>{'id': 29020316, 'name': 'MISO', 'full_name': ...</td>\n      <td>{'id': 52725247, 'name': 'parr', 'full_name': ...</td>\n      <td>{'id': 23134624, 'name': 'parsedate', 'full_na...</td>\n      <td>{'id': 24293304, 'name': 'pingr', 'full_name':...</td>\n      <td>{'id': 23767512, 'name': 'pkgconfig', 'full_na...</td>\n      <td>{'id': 11191345, 'name': 'playground', 'full_n...</td>\n    </tr>\n    <tr>\n      <th>1</th>\n      <td>{'id': 14756210, 'name': '2013-11_sfu', 'full_...</td>\n      <td>{'id': 14152301, 'name': '2014-01-27-miami', '...</td>\n      <td>{'id': 18495266, 'name': '2014-05-12-ubc', 'fu...</td>\n      <td>{'id': 31132213, 'name': '2015-02-23_bryan-fie...</td>\n      <td>{'id': 38192453, 'name': '2015-06-28_r-summit-...</td>\n      <td>{'id': 40545399, 'name': '2015-08_bryan-jsm-st...</td>\n      <td>{'id': 65086873, 'name': '2015_Coartic', 'full...</td>\n      <td>{'id': 58010746, 'name': '2016-06_spreadsheets...</td>\n      <td>{'id': 63552154, 'name': '2016-07_data-carpent...</td>\n      <td>{'id': 15151129, 'name': '545A_hw06', 'full_na...</td>\n      <td>...</td>\n      <td>{'id': 62916989, 'name': 'bookdown', 'full_nam...</td>\n      <td>{'id': 10124989, 'name': 'boot-camps', 'full_n...</td>\n      <td>{'id': 45448660, 'name': 'candy', 'full_name':...</td>\n      <td>{'id': 27112806, 'name': 'CoffeeCoop', 'full_n...</td>\n      <td>{'id': 22161372, 'name': 'datacarpentry', 'ful...</td>\n      <td>{'id': 50471649, 'name': 'ddpcr', 'full_name':...</td>\n      <td>{'id': 40727345, 'name': 'devtools', 'full_nam...</td>\n      <td>{'id': 46666194, 'name': 'diffr', 'full_name':...</td>\n      <td>{'id': 45375376, 'name': 'dplyr', 'full_name':...</td>\n      <td>{'id': 61313360, 'name': 'eigencoder', 'full_n...</td>\n    </tr>\n    <tr>\n      <th>2</th>\n      <td>{'id': 41645119, 'name': 'advdatasci', 'full_n...</td>\n      <td>{'id': 47568815, 'name': 'advdatasci-swirl', '...</td>\n      <td>{'id': 65922328, 'name': 'advdatasci16', 'full...</td>\n      <td>{'id': 66415014, 'name': 'advdatasci_swirl', '...</td>\n      <td>{'id': 12441219, 'name': 'ballgown', 'full_nam...</td>\n      <td>{'id': 20234724, 'name': 'capitalIn21stCentury...</td>\n      <td>{'id': 36437287, 'name': 'careerplanning', 'fu...</td>\n      <td>{'id': 7751816, 'name': 'dataanalysis', 'full_...</td>\n      <td>{'id': 4772877, 'name': 'datascientist', 'full...</td>\n      <td>{'id': 14204342, 'name': 'datasharing', 'full_...</td>\n      <td>...</td>\n      <td>{'id': 12563551, 'name': 'googleCite', 'full_n...</td>\n      <td>{'id': 6582536, 'name': 'graduate', 'full_name...</td>\n      <td>{'id': 6661008, 'name': 'healthvis', 'full_nam...</td>\n      <td>{'id': 19133476, 'name': 'hyde', 'full_name': ...</td>\n      <td>{'id': 16584923, 'name': 'inclassfeb62014', 'f...</td>\n      <td>{'id': 7745123, 'name': 'jhsph753', 'full_name...</td>\n      <td>{'id': 15639612, 'name': 'jhsph753and4', 'full...</td>\n      <td>{'id': 42834789, 'name': 'jhudash', 'full_name...</td>\n      <td>{'id': 42873969, 'name': 'jhudash-refugee', 'f...</td>\n      <td>{'id': 19133794, 'name': 'jtleek.github.io', '...</td>\n    </tr>\n    <tr>\n      <th>3</th>\n      <td>{'id': 56019902, 'name': '2016-14', 'full_name...</td>\n      <td>{'id': 50363731, 'name': 'choroplethrCaCensusT...</td>\n      <td>{'id': 50631926, 'name': 'choroplethrUTCensusT...</td>\n      <td>{'id': 47999571, 'name': 'CountyHealthApp', 'f...</td>\n      <td>{'id': 62814408, 'name': 'data-police-shooting...</td>\n      <td>{'id': 40152050, 'name': 'ExData_Plotting1', '...</td>\n      <td>{'id': 66172034, 'name': 'fall2016competition'...</td>\n      <td>{'id': 69769188, 'name': 'ggthemes', 'full_nam...</td>\n      <td>{'id': 39162163, 'name': 'human_activity_smart...</td>\n      <td>{'id': 53640070, 'name': 'janeaustenr', 'full_...</td>\n      <td>...</td>\n      <td>{'id': 64248946, 'name': 'r-travis', 'full_nam...</td>\n      <td>{'id': 42529303, 'name': 'RepData_PeerAssessme...</td>\n      <td>{'id': 50752693, 'name': 'SLCWaterMapping', 'f...</td>\n      <td>{'id': 55175084, 'name': 'tidytext', 'full_nam...</td>\n      <td>{'id': 54402509, 'name': 'unconf16', 'full_nam...</td>\n      <td>{'id': 46437841, 'name': 'WeightLiftingMachine...</td>\n      <td>None</td>\n      <td>None</td>\n      <td>None</td>\n      <td>None</td>\n    </tr>\n    <tr>\n      <th>4</th>\n      <td>{'id': 17120350, 'name': 'ampolcourse', 'full_...</td>\n      <td>{'id': 32517704, 'name': 'apsa-leeper.bst', 'f...</td>\n      <td>{'id': 37484170, 'name': 'arco', 'full_name': ...</td>\n      <td>{'id': 58914380, 'name': 'astrojs', 'full_name...</td>\n      <td>{'id': 44051488, 'name': 'batman', 'full_name'...</td>\n      <td>{'id': 50262277, 'name': 'choco-r-devel', 'ful...</td>\n      <td>{'id': 50262595, 'name': 'choco-rtools', 'full...</td>\n      <td>{'id': 37645044, 'name': 'ciplotm', 'full_name...</td>\n      <td>{'id': 16218963, 'name': 'colourlovers', 'full...</td>\n      <td>{'id': 69040989, 'name': 'conflictcourse', 'fu...</td>\n      <td>...</td>\n      <td>{'id': 39673558, 'name': 'drat', 'full_name': ...</td>\n      <td>{'id': 16486298, 'name': 'dvn', 'full_name': '...</td>\n      <td>{'id': 69484625, 'name': 'effect-heterogeneity...</td>\n      <td>{'id': 12600801, 'name': 'expcourse', 'full_na...</td>\n      <td>{'id': 69040960, 'name': 'exppolcourse', 'full...</td>\n      <td>{'id': 10626943, 'name': 'expResults', 'full_n...</td>\n      <td>{'id': 59699871, 'name': 'GK2011', 'full_name'...</td>\n      <td>{'id': 59957482, 'name': 'GREA', 'full_name': ...</td>\n      <td>{'id': 50747949, 'name': 'hints', 'full_name':...</td>\n      <td>{'id': 11063005, 'name': 'Impressive', 'full_n...</td>\n    </tr>\n  </tbody>\n</table>\n<p>5 rows × 30 columns</p>\n</div>"
     },
     "execution_count": 11,
     "metadata": {},
     "output_type": "execute_result"
    }
   ],
   "source": [
    "import pandas as pd\n",
    "import json\n",
    "\n",
    "# Load the JSON file into a Python list of dictionaries\n",
    "with open('data/gh_repos.json') as file:\n",
    "    gh_repos = json.load(file)\n",
    "\n",
    "# Convert the list of dictionaries into a pandas DataFrame\n",
    "repos_df = pd.DataFrame(gh_repos)\n",
    "\n",
    "# Show the DataFrame structure to understand how to unnest\n",
    "repos_df.head()"
   ],
   "metadata": {
    "collapsed": false,
    "ExecuteTime": {
     "end_time": "2023-11-02T02:03:54.022344Z",
     "start_time": "2023-11-02T02:03:53.343849Z"
    }
   },
   "id": "d85b92f6e4e45bcf"
  },
  {
   "cell_type": "code",
   "execution_count": 12,
   "outputs": [
    {
     "data": {
      "text/plain": "         id         name                full_name  \\\n0  61160198        after        gaborcsardi/after   \n1  40500181       argufy       gaborcsardi/argufy   \n2  36442442          ask          gaborcsardi/ask   \n3  34924886  baseimports  gaborcsardi/baseimports   \n4  61620661       citest       gaborcsardi/citest   \n\n                                               owner  private  \\\n0  {'login': 'gaborcsardi', 'id': 660288, 'avatar...    False   \n1  {'login': 'gaborcsardi', 'id': 660288, 'avatar...    False   \n2  {'login': 'gaborcsardi', 'id': 660288, 'avatar...    False   \n3  {'login': 'gaborcsardi', 'id': 660288, 'avatar...    False   \n4  {'login': 'gaborcsardi', 'id': 660288, 'avatar...    False   \n\n                                     html_url  \\\n0        https://github.com/gaborcsardi/after   \n1       https://github.com/gaborcsardi/argufy   \n2          https://github.com/gaborcsardi/ask   \n3  https://github.com/gaborcsardi/baseimports   \n4       https://github.com/gaborcsardi/citest   \n\n                                         description   fork  \\\n0                         Run Code in the Background  False   \n1               Declarative function argument checks  False   \n2                      Friendly CLI interaction in R  False   \n3  Do we get warnings for undeclared imports from...  False   \n4           Test R package and repo for the r-hub CI   True   \n\n                                                 url  \\\n0     https://api.github.com/repos/gaborcsardi/after   \n1    https://api.github.com/repos/gaborcsardi/argufy   \n2       https://api.github.com/repos/gaborcsardi/ask   \n3  https://api.github.com/repos/gaborcsardi/basei...   \n4    https://api.github.com/repos/gaborcsardi/citest   \n\n                                           forks_url  ... has_downloads  \\\n0  https://api.github.com/repos/gaborcsardi/after...  ...          True   \n1  https://api.github.com/repos/gaborcsardi/arguf...  ...          True   \n2  https://api.github.com/repos/gaborcsardi/ask/f...  ...          True   \n3  https://api.github.com/repos/gaborcsardi/basei...  ...          True   \n4  https://api.github.com/repos/gaborcsardi/cites...  ...          True   \n\n  has_wiki has_pages forks_count mirror_url open_issues_count forks  \\\n0     True     False           0       None                 0     0   \n1     True     False           1       None                 6     1   \n2     True     False           0       None                 4     0   \n3     True     False           0       None                 0     0   \n4     True     False           0       None                 0     0   \n\n  open_issues watchers default_branch  \n0           0        5         master  \n1           6       19         master  \n2           4        5         master  \n3           0        0         master  \n4           0        0         master  \n\n[5 rows x 68 columns]",
      "text/html": "<div>\n<style scoped>\n    .dataframe tbody tr th:only-of-type {\n        vertical-align: middle;\n    }\n\n    .dataframe tbody tr th {\n        vertical-align: top;\n    }\n\n    .dataframe thead th {\n        text-align: right;\n    }\n</style>\n<table border=\"1\" class=\"dataframe\">\n  <thead>\n    <tr style=\"text-align: right;\">\n      <th></th>\n      <th>id</th>\n      <th>name</th>\n      <th>full_name</th>\n      <th>owner</th>\n      <th>private</th>\n      <th>html_url</th>\n      <th>description</th>\n      <th>fork</th>\n      <th>url</th>\n      <th>forks_url</th>\n      <th>...</th>\n      <th>has_downloads</th>\n      <th>has_wiki</th>\n      <th>has_pages</th>\n      <th>forks_count</th>\n      <th>mirror_url</th>\n      <th>open_issues_count</th>\n      <th>forks</th>\n      <th>open_issues</th>\n      <th>watchers</th>\n      <th>default_branch</th>\n    </tr>\n  </thead>\n  <tbody>\n    <tr>\n      <th>0</th>\n      <td>61160198</td>\n      <td>after</td>\n      <td>gaborcsardi/after</td>\n      <td>{'login': 'gaborcsardi', 'id': 660288, 'avatar...</td>\n      <td>False</td>\n      <td>https://github.com/gaborcsardi/after</td>\n      <td>Run Code in the Background</td>\n      <td>False</td>\n      <td>https://api.github.com/repos/gaborcsardi/after</td>\n      <td>https://api.github.com/repos/gaborcsardi/after...</td>\n      <td>...</td>\n      <td>True</td>\n      <td>True</td>\n      <td>False</td>\n      <td>0</td>\n      <td>None</td>\n      <td>0</td>\n      <td>0</td>\n      <td>0</td>\n      <td>5</td>\n      <td>master</td>\n    </tr>\n    <tr>\n      <th>1</th>\n      <td>40500181</td>\n      <td>argufy</td>\n      <td>gaborcsardi/argufy</td>\n      <td>{'login': 'gaborcsardi', 'id': 660288, 'avatar...</td>\n      <td>False</td>\n      <td>https://github.com/gaborcsardi/argufy</td>\n      <td>Declarative function argument checks</td>\n      <td>False</td>\n      <td>https://api.github.com/repos/gaborcsardi/argufy</td>\n      <td>https://api.github.com/repos/gaborcsardi/arguf...</td>\n      <td>...</td>\n      <td>True</td>\n      <td>True</td>\n      <td>False</td>\n      <td>1</td>\n      <td>None</td>\n      <td>6</td>\n      <td>1</td>\n      <td>6</td>\n      <td>19</td>\n      <td>master</td>\n    </tr>\n    <tr>\n      <th>2</th>\n      <td>36442442</td>\n      <td>ask</td>\n      <td>gaborcsardi/ask</td>\n      <td>{'login': 'gaborcsardi', 'id': 660288, 'avatar...</td>\n      <td>False</td>\n      <td>https://github.com/gaborcsardi/ask</td>\n      <td>Friendly CLI interaction in R</td>\n      <td>False</td>\n      <td>https://api.github.com/repos/gaborcsardi/ask</td>\n      <td>https://api.github.com/repos/gaborcsardi/ask/f...</td>\n      <td>...</td>\n      <td>True</td>\n      <td>True</td>\n      <td>False</td>\n      <td>0</td>\n      <td>None</td>\n      <td>4</td>\n      <td>0</td>\n      <td>4</td>\n      <td>5</td>\n      <td>master</td>\n    </tr>\n    <tr>\n      <th>3</th>\n      <td>34924886</td>\n      <td>baseimports</td>\n      <td>gaborcsardi/baseimports</td>\n      <td>{'login': 'gaborcsardi', 'id': 660288, 'avatar...</td>\n      <td>False</td>\n      <td>https://github.com/gaborcsardi/baseimports</td>\n      <td>Do we get warnings for undeclared imports from...</td>\n      <td>False</td>\n      <td>https://api.github.com/repos/gaborcsardi/basei...</td>\n      <td>https://api.github.com/repos/gaborcsardi/basei...</td>\n      <td>...</td>\n      <td>True</td>\n      <td>True</td>\n      <td>False</td>\n      <td>0</td>\n      <td>None</td>\n      <td>0</td>\n      <td>0</td>\n      <td>0</td>\n      <td>0</td>\n      <td>master</td>\n    </tr>\n    <tr>\n      <th>4</th>\n      <td>61620661</td>\n      <td>citest</td>\n      <td>gaborcsardi/citest</td>\n      <td>{'login': 'gaborcsardi', 'id': 660288, 'avatar...</td>\n      <td>False</td>\n      <td>https://github.com/gaborcsardi/citest</td>\n      <td>Test R package and repo for the r-hub CI</td>\n      <td>True</td>\n      <td>https://api.github.com/repos/gaborcsardi/citest</td>\n      <td>https://api.github.com/repos/gaborcsardi/cites...</td>\n      <td>...</td>\n      <td>True</td>\n      <td>True</td>\n      <td>False</td>\n      <td>0</td>\n      <td>None</td>\n      <td>0</td>\n      <td>0</td>\n      <td>0</td>\n      <td>0</td>\n      <td>master</td>\n    </tr>\n  </tbody>\n</table>\n<p>5 rows × 68 columns</p>\n</div>"
     },
     "execution_count": 12,
     "metadata": {},
     "output_type": "execute_result"
    }
   ],
   "source": [
    "# It appears each column contains a separate dictionary. \n",
    "# The goal is to have each repository as a separate row instead of separate columns.\n",
    "\n",
    "# Flatten the list of lists of dicts into a single list of dicts\n",
    "flattened_data = [repo for sublist in gh_repos for repo in sublist]\n",
    "\n",
    "# Convert the flattened list of dictionaries into a pandas DataFrame\n",
    "flat_repos_df = pd.DataFrame(flattened_data)\n",
    "\n",
    "# Check the new DataFrame structure\n",
    "flat_repos_df.head()"
   ],
   "metadata": {
    "collapsed": false,
    "ExecuteTime": {
     "end_time": "2023-11-02T02:04:15.850506Z",
     "start_time": "2023-11-02T02:04:15.806769Z"
    }
   },
   "id": "5a3bceecf613cd0f"
  },
  {
   "cell_type": "code",
   "execution_count": 13,
   "outputs": [
    {
     "ename": "KeyError",
     "evalue": "\"['owner'] not found in axis\"",
     "output_type": "error",
     "traceback": [
      "\u001B[0;31m---------------------------------------------------------------------------\u001B[0m",
      "\u001B[0;31mKeyError\u001B[0m                                  Traceback (most recent call last)",
      "Input \u001B[0;32mIn [13]\u001B[0m, in \u001B[0;36m<cell line: 5>\u001B[0;34m()\u001B[0m\n\u001B[1;32m      2\u001B[0m repos_df_expanded \u001B[38;5;241m=\u001B[39m pd\u001B[38;5;241m.\u001B[39mjson_normalize(flat_repos_df\u001B[38;5;241m.\u001B[39mto_dict(orient\u001B[38;5;241m=\u001B[39m\u001B[38;5;124m'\u001B[39m\u001B[38;5;124mrecords\u001B[39m\u001B[38;5;124m'\u001B[39m))\n\u001B[1;32m      4\u001B[0m \u001B[38;5;66;03m# Drop the original 'owner' column as it's now redundant\u001B[39;00m\n\u001B[0;32m----> 5\u001B[0m \u001B[43mrepos_df_expanded\u001B[49m\u001B[38;5;241;43m.\u001B[39;49m\u001B[43mdrop\u001B[49m\u001B[43m(\u001B[49m\u001B[43mcolumns\u001B[49m\u001B[38;5;241;43m=\u001B[39;49m\u001B[43m[\u001B[49m\u001B[38;5;124;43m'\u001B[39;49m\u001B[38;5;124;43mowner\u001B[39;49m\u001B[38;5;124;43m'\u001B[39;49m\u001B[43m]\u001B[49m\u001B[43m,\u001B[49m\u001B[43m \u001B[49m\u001B[43minplace\u001B[49m\u001B[38;5;241;43m=\u001B[39;49m\u001B[38;5;28;43;01mTrue\u001B[39;49;00m\u001B[43m)\u001B[49m\n",
      "File \u001B[0;32m~/opt/anaconda3/lib/python3.8/site-packages/pandas/util/_decorators.py:331\u001B[0m, in \u001B[0;36mdeprecate_nonkeyword_arguments.<locals>.decorate.<locals>.wrapper\u001B[0;34m(*args, **kwargs)\u001B[0m\n\u001B[1;32m    325\u001B[0m \u001B[38;5;28;01mif\u001B[39;00m \u001B[38;5;28mlen\u001B[39m(args) \u001B[38;5;241m>\u001B[39m num_allow_args:\n\u001B[1;32m    326\u001B[0m     warnings\u001B[38;5;241m.\u001B[39mwarn(\n\u001B[1;32m    327\u001B[0m         msg\u001B[38;5;241m.\u001B[39mformat(arguments\u001B[38;5;241m=\u001B[39m_format_argument_list(allow_args)),\n\u001B[1;32m    328\u001B[0m         \u001B[38;5;167;01mFutureWarning\u001B[39;00m,\n\u001B[1;32m    329\u001B[0m         stacklevel\u001B[38;5;241m=\u001B[39mfind_stack_level(),\n\u001B[1;32m    330\u001B[0m     )\n\u001B[0;32m--> 331\u001B[0m \u001B[38;5;28;01mreturn\u001B[39;00m \u001B[43mfunc\u001B[49m\u001B[43m(\u001B[49m\u001B[38;5;241;43m*\u001B[39;49m\u001B[43margs\u001B[49m\u001B[43m,\u001B[49m\u001B[43m \u001B[49m\u001B[38;5;241;43m*\u001B[39;49m\u001B[38;5;241;43m*\u001B[39;49m\u001B[43mkwargs\u001B[49m\u001B[43m)\u001B[49m\n",
      "File \u001B[0;32m~/opt/anaconda3/lib/python3.8/site-packages/pandas/core/frame.py:5399\u001B[0m, in \u001B[0;36mDataFrame.drop\u001B[0;34m(self, labels, axis, index, columns, level, inplace, errors)\u001B[0m\n\u001B[1;32m   5251\u001B[0m \u001B[38;5;129m@deprecate_nonkeyword_arguments\u001B[39m(version\u001B[38;5;241m=\u001B[39m\u001B[38;5;28;01mNone\u001B[39;00m, allowed_args\u001B[38;5;241m=\u001B[39m[\u001B[38;5;124m\"\u001B[39m\u001B[38;5;124mself\u001B[39m\u001B[38;5;124m\"\u001B[39m, \u001B[38;5;124m\"\u001B[39m\u001B[38;5;124mlabels\u001B[39m\u001B[38;5;124m\"\u001B[39m])\n\u001B[1;32m   5252\u001B[0m \u001B[38;5;28;01mdef\u001B[39;00m \u001B[38;5;21mdrop\u001B[39m(  \u001B[38;5;66;03m# type: ignore[override]\u001B[39;00m\n\u001B[1;32m   5253\u001B[0m     \u001B[38;5;28mself\u001B[39m,\n\u001B[0;32m   (...)\u001B[0m\n\u001B[1;32m   5260\u001B[0m     errors: IgnoreRaise \u001B[38;5;241m=\u001B[39m \u001B[38;5;124m\"\u001B[39m\u001B[38;5;124mraise\u001B[39m\u001B[38;5;124m\"\u001B[39m,\n\u001B[1;32m   5261\u001B[0m ) \u001B[38;5;241m-\u001B[39m\u001B[38;5;241m>\u001B[39m DataFrame \u001B[38;5;241m|\u001B[39m \u001B[38;5;28;01mNone\u001B[39;00m:\n\u001B[1;32m   5262\u001B[0m \u001B[38;5;250m    \u001B[39m\u001B[38;5;124;03m\"\"\"\u001B[39;00m\n\u001B[1;32m   5263\u001B[0m \u001B[38;5;124;03m    Drop specified labels from rows or columns.\u001B[39;00m\n\u001B[1;32m   5264\u001B[0m \n\u001B[0;32m   (...)\u001B[0m\n\u001B[1;32m   5397\u001B[0m \u001B[38;5;124;03m            weight  1.0     0.8\u001B[39;00m\n\u001B[1;32m   5398\u001B[0m \u001B[38;5;124;03m    \"\"\"\u001B[39;00m\n\u001B[0;32m-> 5399\u001B[0m     \u001B[38;5;28;01mreturn\u001B[39;00m \u001B[38;5;28;43msuper\u001B[39;49m\u001B[43m(\u001B[49m\u001B[43m)\u001B[49m\u001B[38;5;241;43m.\u001B[39;49m\u001B[43mdrop\u001B[49m\u001B[43m(\u001B[49m\n\u001B[1;32m   5400\u001B[0m \u001B[43m        \u001B[49m\u001B[43mlabels\u001B[49m\u001B[38;5;241;43m=\u001B[39;49m\u001B[43mlabels\u001B[49m\u001B[43m,\u001B[49m\n\u001B[1;32m   5401\u001B[0m \u001B[43m        \u001B[49m\u001B[43maxis\u001B[49m\u001B[38;5;241;43m=\u001B[39;49m\u001B[43maxis\u001B[49m\u001B[43m,\u001B[49m\n\u001B[1;32m   5402\u001B[0m \u001B[43m        \u001B[49m\u001B[43mindex\u001B[49m\u001B[38;5;241;43m=\u001B[39;49m\u001B[43mindex\u001B[49m\u001B[43m,\u001B[49m\n\u001B[1;32m   5403\u001B[0m \u001B[43m        \u001B[49m\u001B[43mcolumns\u001B[49m\u001B[38;5;241;43m=\u001B[39;49m\u001B[43mcolumns\u001B[49m\u001B[43m,\u001B[49m\n\u001B[1;32m   5404\u001B[0m \u001B[43m        \u001B[49m\u001B[43mlevel\u001B[49m\u001B[38;5;241;43m=\u001B[39;49m\u001B[43mlevel\u001B[49m\u001B[43m,\u001B[49m\n\u001B[1;32m   5405\u001B[0m \u001B[43m        \u001B[49m\u001B[43minplace\u001B[49m\u001B[38;5;241;43m=\u001B[39;49m\u001B[43minplace\u001B[49m\u001B[43m,\u001B[49m\n\u001B[1;32m   5406\u001B[0m \u001B[43m        \u001B[49m\u001B[43merrors\u001B[49m\u001B[38;5;241;43m=\u001B[39;49m\u001B[43merrors\u001B[49m\u001B[43m,\u001B[49m\n\u001B[1;32m   5407\u001B[0m \u001B[43m    \u001B[49m\u001B[43m)\u001B[49m\n",
      "File \u001B[0;32m~/opt/anaconda3/lib/python3.8/site-packages/pandas/util/_decorators.py:331\u001B[0m, in \u001B[0;36mdeprecate_nonkeyword_arguments.<locals>.decorate.<locals>.wrapper\u001B[0;34m(*args, **kwargs)\u001B[0m\n\u001B[1;32m    325\u001B[0m \u001B[38;5;28;01mif\u001B[39;00m \u001B[38;5;28mlen\u001B[39m(args) \u001B[38;5;241m>\u001B[39m num_allow_args:\n\u001B[1;32m    326\u001B[0m     warnings\u001B[38;5;241m.\u001B[39mwarn(\n\u001B[1;32m    327\u001B[0m         msg\u001B[38;5;241m.\u001B[39mformat(arguments\u001B[38;5;241m=\u001B[39m_format_argument_list(allow_args)),\n\u001B[1;32m    328\u001B[0m         \u001B[38;5;167;01mFutureWarning\u001B[39;00m,\n\u001B[1;32m    329\u001B[0m         stacklevel\u001B[38;5;241m=\u001B[39mfind_stack_level(),\n\u001B[1;32m    330\u001B[0m     )\n\u001B[0;32m--> 331\u001B[0m \u001B[38;5;28;01mreturn\u001B[39;00m \u001B[43mfunc\u001B[49m\u001B[43m(\u001B[49m\u001B[38;5;241;43m*\u001B[39;49m\u001B[43margs\u001B[49m\u001B[43m,\u001B[49m\u001B[43m \u001B[49m\u001B[38;5;241;43m*\u001B[39;49m\u001B[38;5;241;43m*\u001B[39;49m\u001B[43mkwargs\u001B[49m\u001B[43m)\u001B[49m\n",
      "File \u001B[0;32m~/opt/anaconda3/lib/python3.8/site-packages/pandas/core/generic.py:4505\u001B[0m, in \u001B[0;36mNDFrame.drop\u001B[0;34m(self, labels, axis, index, columns, level, inplace, errors)\u001B[0m\n\u001B[1;32m   4503\u001B[0m \u001B[38;5;28;01mfor\u001B[39;00m axis, labels \u001B[38;5;129;01min\u001B[39;00m axes\u001B[38;5;241m.\u001B[39mitems():\n\u001B[1;32m   4504\u001B[0m     \u001B[38;5;28;01mif\u001B[39;00m labels \u001B[38;5;129;01mis\u001B[39;00m \u001B[38;5;129;01mnot\u001B[39;00m \u001B[38;5;28;01mNone\u001B[39;00m:\n\u001B[0;32m-> 4505\u001B[0m         obj \u001B[38;5;241m=\u001B[39m \u001B[43mobj\u001B[49m\u001B[38;5;241;43m.\u001B[39;49m\u001B[43m_drop_axis\u001B[49m\u001B[43m(\u001B[49m\u001B[43mlabels\u001B[49m\u001B[43m,\u001B[49m\u001B[43m \u001B[49m\u001B[43maxis\u001B[49m\u001B[43m,\u001B[49m\u001B[43m \u001B[49m\u001B[43mlevel\u001B[49m\u001B[38;5;241;43m=\u001B[39;49m\u001B[43mlevel\u001B[49m\u001B[43m,\u001B[49m\u001B[43m \u001B[49m\u001B[43merrors\u001B[49m\u001B[38;5;241;43m=\u001B[39;49m\u001B[43merrors\u001B[49m\u001B[43m)\u001B[49m\n\u001B[1;32m   4507\u001B[0m \u001B[38;5;28;01mif\u001B[39;00m inplace:\n\u001B[1;32m   4508\u001B[0m     \u001B[38;5;28mself\u001B[39m\u001B[38;5;241m.\u001B[39m_update_inplace(obj)\n",
      "File \u001B[0;32m~/opt/anaconda3/lib/python3.8/site-packages/pandas/core/generic.py:4546\u001B[0m, in \u001B[0;36mNDFrame._drop_axis\u001B[0;34m(self, labels, axis, level, errors, only_slice)\u001B[0m\n\u001B[1;32m   4544\u001B[0m         new_axis \u001B[38;5;241m=\u001B[39m axis\u001B[38;5;241m.\u001B[39mdrop(labels, level\u001B[38;5;241m=\u001B[39mlevel, errors\u001B[38;5;241m=\u001B[39merrors)\n\u001B[1;32m   4545\u001B[0m     \u001B[38;5;28;01melse\u001B[39;00m:\n\u001B[0;32m-> 4546\u001B[0m         new_axis \u001B[38;5;241m=\u001B[39m \u001B[43maxis\u001B[49m\u001B[38;5;241;43m.\u001B[39;49m\u001B[43mdrop\u001B[49m\u001B[43m(\u001B[49m\u001B[43mlabels\u001B[49m\u001B[43m,\u001B[49m\u001B[43m \u001B[49m\u001B[43merrors\u001B[49m\u001B[38;5;241;43m=\u001B[39;49m\u001B[43merrors\u001B[49m\u001B[43m)\u001B[49m\n\u001B[1;32m   4547\u001B[0m     indexer \u001B[38;5;241m=\u001B[39m axis\u001B[38;5;241m.\u001B[39mget_indexer(new_axis)\n\u001B[1;32m   4549\u001B[0m \u001B[38;5;66;03m# Case for non-unique axis\u001B[39;00m\n\u001B[1;32m   4550\u001B[0m \u001B[38;5;28;01melse\u001B[39;00m:\n",
      "File \u001B[0;32m~/opt/anaconda3/lib/python3.8/site-packages/pandas/core/indexes/base.py:6934\u001B[0m, in \u001B[0;36mIndex.drop\u001B[0;34m(self, labels, errors)\u001B[0m\n\u001B[1;32m   6932\u001B[0m \u001B[38;5;28;01mif\u001B[39;00m mask\u001B[38;5;241m.\u001B[39many():\n\u001B[1;32m   6933\u001B[0m     \u001B[38;5;28;01mif\u001B[39;00m errors \u001B[38;5;241m!=\u001B[39m \u001B[38;5;124m\"\u001B[39m\u001B[38;5;124mignore\u001B[39m\u001B[38;5;124m\"\u001B[39m:\n\u001B[0;32m-> 6934\u001B[0m         \u001B[38;5;28;01mraise\u001B[39;00m \u001B[38;5;167;01mKeyError\u001B[39;00m(\u001B[38;5;124mf\u001B[39m\u001B[38;5;124m\"\u001B[39m\u001B[38;5;132;01m{\u001B[39;00m\u001B[38;5;28mlist\u001B[39m(labels[mask])\u001B[38;5;132;01m}\u001B[39;00m\u001B[38;5;124m not found in axis\u001B[39m\u001B[38;5;124m\"\u001B[39m)\n\u001B[1;32m   6935\u001B[0m     indexer \u001B[38;5;241m=\u001B[39m indexer[\u001B[38;5;241m~\u001B[39mmask]\n\u001B[1;32m   6936\u001B[0m \u001B[38;5;28;01mreturn\u001B[39;00m \u001B[38;5;28mself\u001B[39m\u001B[38;5;241m.\u001B[39mdelete(indexer)\n",
      "\u001B[0;31mKeyError\u001B[0m: \"['owner'] not found in axis\""
     ]
    }
   ],
   "source": [
    "# Normalize the nested 'owner' field into separate columns\n",
    "repos_df_expanded = pd.json_normalize(flat_repos_df.to_dict(orient='records'))\n",
    "\n",
    "# Drop the original 'owner' column as it's now redundant\n",
    "repos_df_expanded.drop(columns=['owner'], inplace=True)\n"
   ],
   "metadata": {
    "collapsed": false,
    "ExecuteTime": {
     "end_time": "2023-11-02T02:04:37.444003Z",
     "start_time": "2023-11-02T02:04:36.005819Z"
    }
   },
   "id": "ebb1b6a5d43270a6"
  },
  {
   "cell_type": "code",
   "execution_count": 15,
   "outputs": [
    {
     "data": {
      "text/plain": "         id         name                full_name  \\\n0  61160198        after        gaborcsardi/after   \n1  40500181       argufy       gaborcsardi/argufy   \n2  36442442          ask          gaborcsardi/ask   \n3  34924886  baseimports  gaborcsardi/baseimports   \n4  61620661       citest       gaborcsardi/citest   \n\n                                               owner  private  \\\n0  {'login': 'gaborcsardi', 'id': 660288, 'avatar...    False   \n1  {'login': 'gaborcsardi', 'id': 660288, 'avatar...    False   \n2  {'login': 'gaborcsardi', 'id': 660288, 'avatar...    False   \n3  {'login': 'gaborcsardi', 'id': 660288, 'avatar...    False   \n4  {'login': 'gaborcsardi', 'id': 660288, 'avatar...    False   \n\n                                     html_url  \\\n0        https://github.com/gaborcsardi/after   \n1       https://github.com/gaborcsardi/argufy   \n2          https://github.com/gaborcsardi/ask   \n3  https://github.com/gaborcsardi/baseimports   \n4       https://github.com/gaborcsardi/citest   \n\n                                         description   fork  \\\n0                         Run Code in the Background  False   \n1               Declarative function argument checks  False   \n2                      Friendly CLI interaction in R  False   \n3  Do we get warnings for undeclared imports from...  False   \n4           Test R package and repo for the r-hub CI   True   \n\n                                                 url  \\\n0     https://api.github.com/repos/gaborcsardi/after   \n1    https://api.github.com/repos/gaborcsardi/argufy   \n2       https://api.github.com/repos/gaborcsardi/ask   \n3  https://api.github.com/repos/gaborcsardi/basei...   \n4    https://api.github.com/repos/gaborcsardi/citest   \n\n                                           forks_url  ... has_downloads  \\\n0  https://api.github.com/repos/gaborcsardi/after...  ...          True   \n1  https://api.github.com/repos/gaborcsardi/arguf...  ...          True   \n2  https://api.github.com/repos/gaborcsardi/ask/f...  ...          True   \n3  https://api.github.com/repos/gaborcsardi/basei...  ...          True   \n4  https://api.github.com/repos/gaborcsardi/cites...  ...          True   \n\n  has_wiki has_pages forks_count mirror_url open_issues_count forks  \\\n0     True     False           0       None                 0     0   \n1     True     False           1       None                 6     1   \n2     True     False           0       None                 4     0   \n3     True     False           0       None                 0     0   \n4     True     False           0       None                 0     0   \n\n  open_issues watchers default_branch  \n0           0        5         master  \n1           6       19         master  \n2           4        5         master  \n3           0        0         master  \n4           0        0         master  \n\n[5 rows x 68 columns]",
      "text/html": "<div>\n<style scoped>\n    .dataframe tbody tr th:only-of-type {\n        vertical-align: middle;\n    }\n\n    .dataframe tbody tr th {\n        vertical-align: top;\n    }\n\n    .dataframe thead th {\n        text-align: right;\n    }\n</style>\n<table border=\"1\" class=\"dataframe\">\n  <thead>\n    <tr style=\"text-align: right;\">\n      <th></th>\n      <th>id</th>\n      <th>name</th>\n      <th>full_name</th>\n      <th>owner</th>\n      <th>private</th>\n      <th>html_url</th>\n      <th>description</th>\n      <th>fork</th>\n      <th>url</th>\n      <th>forks_url</th>\n      <th>...</th>\n      <th>has_downloads</th>\n      <th>has_wiki</th>\n      <th>has_pages</th>\n      <th>forks_count</th>\n      <th>mirror_url</th>\n      <th>open_issues_count</th>\n      <th>forks</th>\n      <th>open_issues</th>\n      <th>watchers</th>\n      <th>default_branch</th>\n    </tr>\n  </thead>\n  <tbody>\n    <tr>\n      <th>0</th>\n      <td>61160198</td>\n      <td>after</td>\n      <td>gaborcsardi/after</td>\n      <td>{'login': 'gaborcsardi', 'id': 660288, 'avatar...</td>\n      <td>False</td>\n      <td>https://github.com/gaborcsardi/after</td>\n      <td>Run Code in the Background</td>\n      <td>False</td>\n      <td>https://api.github.com/repos/gaborcsardi/after</td>\n      <td>https://api.github.com/repos/gaborcsardi/after...</td>\n      <td>...</td>\n      <td>True</td>\n      <td>True</td>\n      <td>False</td>\n      <td>0</td>\n      <td>None</td>\n      <td>0</td>\n      <td>0</td>\n      <td>0</td>\n      <td>5</td>\n      <td>master</td>\n    </tr>\n    <tr>\n      <th>1</th>\n      <td>40500181</td>\n      <td>argufy</td>\n      <td>gaborcsardi/argufy</td>\n      <td>{'login': 'gaborcsardi', 'id': 660288, 'avatar...</td>\n      <td>False</td>\n      <td>https://github.com/gaborcsardi/argufy</td>\n      <td>Declarative function argument checks</td>\n      <td>False</td>\n      <td>https://api.github.com/repos/gaborcsardi/argufy</td>\n      <td>https://api.github.com/repos/gaborcsardi/arguf...</td>\n      <td>...</td>\n      <td>True</td>\n      <td>True</td>\n      <td>False</td>\n      <td>1</td>\n      <td>None</td>\n      <td>6</td>\n      <td>1</td>\n      <td>6</td>\n      <td>19</td>\n      <td>master</td>\n    </tr>\n    <tr>\n      <th>2</th>\n      <td>36442442</td>\n      <td>ask</td>\n      <td>gaborcsardi/ask</td>\n      <td>{'login': 'gaborcsardi', 'id': 660288, 'avatar...</td>\n      <td>False</td>\n      <td>https://github.com/gaborcsardi/ask</td>\n      <td>Friendly CLI interaction in R</td>\n      <td>False</td>\n      <td>https://api.github.com/repos/gaborcsardi/ask</td>\n      <td>https://api.github.com/repos/gaborcsardi/ask/f...</td>\n      <td>...</td>\n      <td>True</td>\n      <td>True</td>\n      <td>False</td>\n      <td>0</td>\n      <td>None</td>\n      <td>4</td>\n      <td>0</td>\n      <td>4</td>\n      <td>5</td>\n      <td>master</td>\n    </tr>\n    <tr>\n      <th>3</th>\n      <td>34924886</td>\n      <td>baseimports</td>\n      <td>gaborcsardi/baseimports</td>\n      <td>{'login': 'gaborcsardi', 'id': 660288, 'avatar...</td>\n      <td>False</td>\n      <td>https://github.com/gaborcsardi/baseimports</td>\n      <td>Do we get warnings for undeclared imports from...</td>\n      <td>False</td>\n      <td>https://api.github.com/repos/gaborcsardi/basei...</td>\n      <td>https://api.github.com/repos/gaborcsardi/basei...</td>\n      <td>...</td>\n      <td>True</td>\n      <td>True</td>\n      <td>False</td>\n      <td>0</td>\n      <td>None</td>\n      <td>0</td>\n      <td>0</td>\n      <td>0</td>\n      <td>0</td>\n      <td>master</td>\n    </tr>\n    <tr>\n      <th>4</th>\n      <td>61620661</td>\n      <td>citest</td>\n      <td>gaborcsardi/citest</td>\n      <td>{'login': 'gaborcsardi', 'id': 660288, 'avatar...</td>\n      <td>False</td>\n      <td>https://github.com/gaborcsardi/citest</td>\n      <td>Test R package and repo for the r-hub CI</td>\n      <td>True</td>\n      <td>https://api.github.com/repos/gaborcsardi/citest</td>\n      <td>https://api.github.com/repos/gaborcsardi/cites...</td>\n      <td>...</td>\n      <td>True</td>\n      <td>True</td>\n      <td>False</td>\n      <td>0</td>\n      <td>None</td>\n      <td>0</td>\n      <td>0</td>\n      <td>0</td>\n      <td>0</td>\n      <td>master</td>\n    </tr>\n  </tbody>\n</table>\n<p>5 rows × 68 columns</p>\n</div>"
     },
     "execution_count": 15,
     "metadata": {},
     "output_type": "execute_result"
    }
   ],
   "source": [
    "# Let's start the conversion process from the beginning\n",
    "# We will load the JSON, create a DataFrame equivalent to an R tibble, and flatten it accordingly\n",
    "\n",
    "# Reload the JSON file into a Python list of dictionaries\n",
    "with open('data/gh_repos.json') as file:\n",
    "    gh_repos = json.load(file)\n",
    "\n",
    "# The R code creates a tibble with a column named 'json' that contains the raw JSON data.\n",
    "# In Python with pandas, we would typically convert this directly into a DataFrame.\n",
    "\n",
    "# Check if the JSON is a list of lists or a list of dicts\n",
    "if all(isinstance(item, dict) for item in gh_repos):\n",
    "    # If it's a list of dicts, we can directly create a DataFrame\n",
    "    repos_df = pd.DataFrame(gh_repos)\n",
    "else:\n",
    "    # If it's a list of lists, we need to flatten it first\n",
    "    flattened_data = [repo for sublist in gh_repos for repo in sublist]\n",
    "    repos_df = pd.DataFrame(flattened_data)\n",
    "\n",
    "# Now we have a DataFrame where each repository is a row and each field is a column\n",
    "repos_df.head()\n"
   ],
   "metadata": {
    "collapsed": false,
    "ExecuteTime": {
     "end_time": "2023-11-02T02:07:42.325994Z",
     "start_time": "2023-11-02T02:07:42.206068Z"
    }
   },
   "id": "bfc7c52ff607ac10"
  },
  {
   "cell_type": "code",
   "execution_count": 16,
   "outputs": [
    {
     "data": {
      "text/plain": "         id         name                full_name  \\\n0  61160198        after        gaborcsardi/after   \n1  40500181       argufy       gaborcsardi/argufy   \n2  36442442          ask          gaborcsardi/ask   \n3  34924886  baseimports  gaborcsardi/baseimports   \n4  61620661       citest       gaborcsardi/citest   \n\n                                               owner  private  \\\n0  {'login': 'gaborcsardi', 'id': 660288, 'avatar...    False   \n1  {'login': 'gaborcsardi', 'id': 660288, 'avatar...    False   \n2  {'login': 'gaborcsardi', 'id': 660288, 'avatar...    False   \n3  {'login': 'gaborcsardi', 'id': 660288, 'avatar...    False   \n4  {'login': 'gaborcsardi', 'id': 660288, 'avatar...    False   \n\n                                     html_url  \\\n0        https://github.com/gaborcsardi/after   \n1       https://github.com/gaborcsardi/argufy   \n2          https://github.com/gaborcsardi/ask   \n3  https://github.com/gaborcsardi/baseimports   \n4       https://github.com/gaborcsardi/citest   \n\n                                         description   fork  \\\n0                         Run Code in the Background  False   \n1               Declarative function argument checks  False   \n2                      Friendly CLI interaction in R  False   \n3  Do we get warnings for undeclared imports from...  False   \n4           Test R package and repo for the r-hub CI   True   \n\n                                                 url  \\\n0     https://api.github.com/repos/gaborcsardi/after   \n1    https://api.github.com/repos/gaborcsardi/argufy   \n2       https://api.github.com/repos/gaborcsardi/ask   \n3  https://api.github.com/repos/gaborcsardi/basei...   \n4    https://api.github.com/repos/gaborcsardi/citest   \n\n                                           forks_url  ... has_downloads  \\\n0  https://api.github.com/repos/gaborcsardi/after...  ...          True   \n1  https://api.github.com/repos/gaborcsardi/arguf...  ...          True   \n2  https://api.github.com/repos/gaborcsardi/ask/f...  ...          True   \n3  https://api.github.com/repos/gaborcsardi/basei...  ...          True   \n4  https://api.github.com/repos/gaborcsardi/cites...  ...          True   \n\n  has_wiki has_pages forks_count mirror_url open_issues_count forks  \\\n0     True     False           0       None                 0     0   \n1     True     False           1       None                 6     1   \n2     True     False           0       None                 4     0   \n3     True     False           0       None                 0     0   \n4     True     False           0       None                 0     0   \n\n  open_issues watchers default_branch  \n0           0        5         master  \n1           6       19         master  \n2           4        5         master  \n3           0        0         master  \n4           0        0         master  \n\n[5 rows x 68 columns]",
      "text/html": "<div>\n<style scoped>\n    .dataframe tbody tr th:only-of-type {\n        vertical-align: middle;\n    }\n\n    .dataframe tbody tr th {\n        vertical-align: top;\n    }\n\n    .dataframe thead th {\n        text-align: right;\n    }\n</style>\n<table border=\"1\" class=\"dataframe\">\n  <thead>\n    <tr style=\"text-align: right;\">\n      <th></th>\n      <th>id</th>\n      <th>name</th>\n      <th>full_name</th>\n      <th>owner</th>\n      <th>private</th>\n      <th>html_url</th>\n      <th>description</th>\n      <th>fork</th>\n      <th>url</th>\n      <th>forks_url</th>\n      <th>...</th>\n      <th>has_downloads</th>\n      <th>has_wiki</th>\n      <th>has_pages</th>\n      <th>forks_count</th>\n      <th>mirror_url</th>\n      <th>open_issues_count</th>\n      <th>forks</th>\n      <th>open_issues</th>\n      <th>watchers</th>\n      <th>default_branch</th>\n    </tr>\n  </thead>\n  <tbody>\n    <tr>\n      <th>0</th>\n      <td>61160198</td>\n      <td>after</td>\n      <td>gaborcsardi/after</td>\n      <td>{'login': 'gaborcsardi', 'id': 660288, 'avatar...</td>\n      <td>False</td>\n      <td>https://github.com/gaborcsardi/after</td>\n      <td>Run Code in the Background</td>\n      <td>False</td>\n      <td>https://api.github.com/repos/gaborcsardi/after</td>\n      <td>https://api.github.com/repos/gaborcsardi/after...</td>\n      <td>...</td>\n      <td>True</td>\n      <td>True</td>\n      <td>False</td>\n      <td>0</td>\n      <td>None</td>\n      <td>0</td>\n      <td>0</td>\n      <td>0</td>\n      <td>5</td>\n      <td>master</td>\n    </tr>\n    <tr>\n      <th>1</th>\n      <td>40500181</td>\n      <td>argufy</td>\n      <td>gaborcsardi/argufy</td>\n      <td>{'login': 'gaborcsardi', 'id': 660288, 'avatar...</td>\n      <td>False</td>\n      <td>https://github.com/gaborcsardi/argufy</td>\n      <td>Declarative function argument checks</td>\n      <td>False</td>\n      <td>https://api.github.com/repos/gaborcsardi/argufy</td>\n      <td>https://api.github.com/repos/gaborcsardi/arguf...</td>\n      <td>...</td>\n      <td>True</td>\n      <td>True</td>\n      <td>False</td>\n      <td>1</td>\n      <td>None</td>\n      <td>6</td>\n      <td>1</td>\n      <td>6</td>\n      <td>19</td>\n      <td>master</td>\n    </tr>\n    <tr>\n      <th>2</th>\n      <td>36442442</td>\n      <td>ask</td>\n      <td>gaborcsardi/ask</td>\n      <td>{'login': 'gaborcsardi', 'id': 660288, 'avatar...</td>\n      <td>False</td>\n      <td>https://github.com/gaborcsardi/ask</td>\n      <td>Friendly CLI interaction in R</td>\n      <td>False</td>\n      <td>https://api.github.com/repos/gaborcsardi/ask</td>\n      <td>https://api.github.com/repos/gaborcsardi/ask/f...</td>\n      <td>...</td>\n      <td>True</td>\n      <td>True</td>\n      <td>False</td>\n      <td>0</td>\n      <td>None</td>\n      <td>4</td>\n      <td>0</td>\n      <td>4</td>\n      <td>5</td>\n      <td>master</td>\n    </tr>\n    <tr>\n      <th>3</th>\n      <td>34924886</td>\n      <td>baseimports</td>\n      <td>gaborcsardi/baseimports</td>\n      <td>{'login': 'gaborcsardi', 'id': 660288, 'avatar...</td>\n      <td>False</td>\n      <td>https://github.com/gaborcsardi/baseimports</td>\n      <td>Do we get warnings for undeclared imports from...</td>\n      <td>False</td>\n      <td>https://api.github.com/repos/gaborcsardi/basei...</td>\n      <td>https://api.github.com/repos/gaborcsardi/basei...</td>\n      <td>...</td>\n      <td>True</td>\n      <td>True</td>\n      <td>False</td>\n      <td>0</td>\n      <td>None</td>\n      <td>0</td>\n      <td>0</td>\n      <td>0</td>\n      <td>0</td>\n      <td>master</td>\n    </tr>\n    <tr>\n      <th>4</th>\n      <td>61620661</td>\n      <td>citest</td>\n      <td>gaborcsardi/citest</td>\n      <td>{'login': 'gaborcsardi', 'id': 660288, 'avatar...</td>\n      <td>False</td>\n      <td>https://github.com/gaborcsardi/citest</td>\n      <td>Test R package and repo for the r-hub CI</td>\n      <td>True</td>\n      <td>https://api.github.com/repos/gaborcsardi/citest</td>\n      <td>https://api.github.com/repos/gaborcsardi/cites...</td>\n      <td>...</td>\n      <td>True</td>\n      <td>True</td>\n      <td>False</td>\n      <td>0</td>\n      <td>None</td>\n      <td>0</td>\n      <td>0</td>\n      <td>0</td>\n      <td>0</td>\n      <td>master</td>\n    </tr>\n  </tbody>\n</table>\n<p>5 rows × 68 columns</p>\n</div>"
     },
     "execution_count": 16,
     "metadata": {},
     "output_type": "execute_result"
    }
   ],
   "source": [
    "# The R function `unnest_longer()` is used to transform list-columns in a tibble to longer format.\n",
    "list_columns = [col for col in repos_df.columns if repos_df[col].apply(lambda x: isinstance(x, list)).any()]\n",
    "\n",
    "# If there are list-columns, we will expand the first one found into rows\n",
    "if list_columns:\n",
    "    # Expanding the first list-column found\n",
    "    list_column_to_expand = list_columns[0]\n",
    "    expanded_df = repos_df.explode(list_column_to_expand)\n",
    "else:\n",
    "    # If there are no list-columns, no action is needed\n",
    "    expanded_df = repos_df\n",
    "\n",
    "# Display the DataFrame after expansion to check the result\n",
    "expanded_df.head()"
   ],
   "metadata": {
    "collapsed": false,
    "ExecuteTime": {
     "end_time": "2023-11-02T02:09:37.762814Z",
     "start_time": "2023-11-02T02:09:37.671572Z"
    }
   },
   "id": "b54a2a1592b22a71"
  },
  {
   "cell_type": "code",
   "execution_count": 17,
   "outputs": [
    {
     "data": {
      "text/plain": "         id         name                full_name  private  \\\n0  61160198        after        gaborcsardi/after    False   \n1  40500181       argufy       gaborcsardi/argufy    False   \n2  36442442          ask          gaborcsardi/ask    False   \n3  34924886  baseimports  gaborcsardi/baseimports    False   \n4  61620661       citest       gaborcsardi/citest    False   \n\n                                     html_url  \\\n0        https://github.com/gaborcsardi/after   \n1       https://github.com/gaborcsardi/argufy   \n2          https://github.com/gaborcsardi/ask   \n3  https://github.com/gaborcsardi/baseimports   \n4       https://github.com/gaborcsardi/citest   \n\n                                         description   fork  \\\n0                         Run Code in the Background  False   \n1               Declarative function argument checks  False   \n2                      Friendly CLI interaction in R  False   \n3  Do we get warnings for undeclared imports from...  False   \n4           Test R package and repo for the r-hub CI   True   \n\n                                                 url  \\\n0     https://api.github.com/repos/gaborcsardi/after   \n1    https://api.github.com/repos/gaborcsardi/argufy   \n2       https://api.github.com/repos/gaborcsardi/ask   \n3  https://api.github.com/repos/gaborcsardi/basei...   \n4    https://api.github.com/repos/gaborcsardi/citest   \n\n                                           forks_url  \\\n0  https://api.github.com/repos/gaborcsardi/after...   \n1  https://api.github.com/repos/gaborcsardi/arguf...   \n2  https://api.github.com/repos/gaborcsardi/ask/f...   \n3  https://api.github.com/repos/gaborcsardi/basei...   \n4  https://api.github.com/repos/gaborcsardi/cites...   \n\n                                            keys_url  ...  \\\n0  https://api.github.com/repos/gaborcsardi/after...  ...   \n1  https://api.github.com/repos/gaborcsardi/arguf...  ...   \n2  https://api.github.com/repos/gaborcsardi/ask/k...  ...   \n3  https://api.github.com/repos/gaborcsardi/basei...  ...   \n4  https://api.github.com/repos/gaborcsardi/cites...  ...   \n\n                                 owner.following_url  \\\n0  https://api.github.com/users/gaborcsardi/follo...   \n1  https://api.github.com/users/gaborcsardi/follo...   \n2  https://api.github.com/users/gaborcsardi/follo...   \n3  https://api.github.com/users/gaborcsardi/follo...   \n4  https://api.github.com/users/gaborcsardi/follo...   \n\n                                     owner.gists_url  \\\n0  https://api.github.com/users/gaborcsardi/gists...   \n1  https://api.github.com/users/gaborcsardi/gists...   \n2  https://api.github.com/users/gaborcsardi/gists...   \n3  https://api.github.com/users/gaborcsardi/gists...   \n4  https://api.github.com/users/gaborcsardi/gists...   \n\n                                   owner.starred_url  \\\n0  https://api.github.com/users/gaborcsardi/starr...   \n1  https://api.github.com/users/gaborcsardi/starr...   \n2  https://api.github.com/users/gaborcsardi/starr...   \n3  https://api.github.com/users/gaborcsardi/starr...   \n4  https://api.github.com/users/gaborcsardi/starr...   \n\n                             owner.subscriptions_url  \\\n0  https://api.github.com/users/gaborcsardi/subsc...   \n1  https://api.github.com/users/gaborcsardi/subsc...   \n2  https://api.github.com/users/gaborcsardi/subsc...   \n3  https://api.github.com/users/gaborcsardi/subsc...   \n4  https://api.github.com/users/gaborcsardi/subsc...   \n\n                         owner.organizations_url  \\\n0  https://api.github.com/users/gaborcsardi/orgs   \n1  https://api.github.com/users/gaborcsardi/orgs   \n2  https://api.github.com/users/gaborcsardi/orgs   \n3  https://api.github.com/users/gaborcsardi/orgs   \n4  https://api.github.com/users/gaborcsardi/orgs   \n\n                                  owner.repos_url  \\\n0  https://api.github.com/users/gaborcsardi/repos   \n1  https://api.github.com/users/gaborcsardi/repos   \n2  https://api.github.com/users/gaborcsardi/repos   \n3  https://api.github.com/users/gaborcsardi/repos   \n4  https://api.github.com/users/gaborcsardi/repos   \n\n                                    owner.events_url  \\\n0  https://api.github.com/users/gaborcsardi/event...   \n1  https://api.github.com/users/gaborcsardi/event...   \n2  https://api.github.com/users/gaborcsardi/event...   \n3  https://api.github.com/users/gaborcsardi/event...   \n4  https://api.github.com/users/gaborcsardi/event...   \n\n                           owner.received_events_url owner.type  \\\n0  https://api.github.com/users/gaborcsardi/recei...       User   \n1  https://api.github.com/users/gaborcsardi/recei...       User   \n2  https://api.github.com/users/gaborcsardi/recei...       User   \n3  https://api.github.com/users/gaborcsardi/recei...       User   \n4  https://api.github.com/users/gaborcsardi/recei...       User   \n\n  owner.site_admin  \n0            False  \n1            False  \n2            False  \n3            False  \n4            False  \n\n[5 rows x 84 columns]",
      "text/html": "<div>\n<style scoped>\n    .dataframe tbody tr th:only-of-type {\n        vertical-align: middle;\n    }\n\n    .dataframe tbody tr th {\n        vertical-align: top;\n    }\n\n    .dataframe thead th {\n        text-align: right;\n    }\n</style>\n<table border=\"1\" class=\"dataframe\">\n  <thead>\n    <tr style=\"text-align: right;\">\n      <th></th>\n      <th>id</th>\n      <th>name</th>\n      <th>full_name</th>\n      <th>private</th>\n      <th>html_url</th>\n      <th>description</th>\n      <th>fork</th>\n      <th>url</th>\n      <th>forks_url</th>\n      <th>keys_url</th>\n      <th>...</th>\n      <th>owner.following_url</th>\n      <th>owner.gists_url</th>\n      <th>owner.starred_url</th>\n      <th>owner.subscriptions_url</th>\n      <th>owner.organizations_url</th>\n      <th>owner.repos_url</th>\n      <th>owner.events_url</th>\n      <th>owner.received_events_url</th>\n      <th>owner.type</th>\n      <th>owner.site_admin</th>\n    </tr>\n  </thead>\n  <tbody>\n    <tr>\n      <th>0</th>\n      <td>61160198</td>\n      <td>after</td>\n      <td>gaborcsardi/after</td>\n      <td>False</td>\n      <td>https://github.com/gaborcsardi/after</td>\n      <td>Run Code in the Background</td>\n      <td>False</td>\n      <td>https://api.github.com/repos/gaborcsardi/after</td>\n      <td>https://api.github.com/repos/gaborcsardi/after...</td>\n      <td>https://api.github.com/repos/gaborcsardi/after...</td>\n      <td>...</td>\n      <td>https://api.github.com/users/gaborcsardi/follo...</td>\n      <td>https://api.github.com/users/gaborcsardi/gists...</td>\n      <td>https://api.github.com/users/gaborcsardi/starr...</td>\n      <td>https://api.github.com/users/gaborcsardi/subsc...</td>\n      <td>https://api.github.com/users/gaborcsardi/orgs</td>\n      <td>https://api.github.com/users/gaborcsardi/repos</td>\n      <td>https://api.github.com/users/gaborcsardi/event...</td>\n      <td>https://api.github.com/users/gaborcsardi/recei...</td>\n      <td>User</td>\n      <td>False</td>\n    </tr>\n    <tr>\n      <th>1</th>\n      <td>40500181</td>\n      <td>argufy</td>\n      <td>gaborcsardi/argufy</td>\n      <td>False</td>\n      <td>https://github.com/gaborcsardi/argufy</td>\n      <td>Declarative function argument checks</td>\n      <td>False</td>\n      <td>https://api.github.com/repos/gaborcsardi/argufy</td>\n      <td>https://api.github.com/repos/gaborcsardi/arguf...</td>\n      <td>https://api.github.com/repos/gaborcsardi/arguf...</td>\n      <td>...</td>\n      <td>https://api.github.com/users/gaborcsardi/follo...</td>\n      <td>https://api.github.com/users/gaborcsardi/gists...</td>\n      <td>https://api.github.com/users/gaborcsardi/starr...</td>\n      <td>https://api.github.com/users/gaborcsardi/subsc...</td>\n      <td>https://api.github.com/users/gaborcsardi/orgs</td>\n      <td>https://api.github.com/users/gaborcsardi/repos</td>\n      <td>https://api.github.com/users/gaborcsardi/event...</td>\n      <td>https://api.github.com/users/gaborcsardi/recei...</td>\n      <td>User</td>\n      <td>False</td>\n    </tr>\n    <tr>\n      <th>2</th>\n      <td>36442442</td>\n      <td>ask</td>\n      <td>gaborcsardi/ask</td>\n      <td>False</td>\n      <td>https://github.com/gaborcsardi/ask</td>\n      <td>Friendly CLI interaction in R</td>\n      <td>False</td>\n      <td>https://api.github.com/repos/gaborcsardi/ask</td>\n      <td>https://api.github.com/repos/gaborcsardi/ask/f...</td>\n      <td>https://api.github.com/repos/gaborcsardi/ask/k...</td>\n      <td>...</td>\n      <td>https://api.github.com/users/gaborcsardi/follo...</td>\n      <td>https://api.github.com/users/gaborcsardi/gists...</td>\n      <td>https://api.github.com/users/gaborcsardi/starr...</td>\n      <td>https://api.github.com/users/gaborcsardi/subsc...</td>\n      <td>https://api.github.com/users/gaborcsardi/orgs</td>\n      <td>https://api.github.com/users/gaborcsardi/repos</td>\n      <td>https://api.github.com/users/gaborcsardi/event...</td>\n      <td>https://api.github.com/users/gaborcsardi/recei...</td>\n      <td>User</td>\n      <td>False</td>\n    </tr>\n    <tr>\n      <th>3</th>\n      <td>34924886</td>\n      <td>baseimports</td>\n      <td>gaborcsardi/baseimports</td>\n      <td>False</td>\n      <td>https://github.com/gaborcsardi/baseimports</td>\n      <td>Do we get warnings for undeclared imports from...</td>\n      <td>False</td>\n      <td>https://api.github.com/repos/gaborcsardi/basei...</td>\n      <td>https://api.github.com/repos/gaborcsardi/basei...</td>\n      <td>https://api.github.com/repos/gaborcsardi/basei...</td>\n      <td>...</td>\n      <td>https://api.github.com/users/gaborcsardi/follo...</td>\n      <td>https://api.github.com/users/gaborcsardi/gists...</td>\n      <td>https://api.github.com/users/gaborcsardi/starr...</td>\n      <td>https://api.github.com/users/gaborcsardi/subsc...</td>\n      <td>https://api.github.com/users/gaborcsardi/orgs</td>\n      <td>https://api.github.com/users/gaborcsardi/repos</td>\n      <td>https://api.github.com/users/gaborcsardi/event...</td>\n      <td>https://api.github.com/users/gaborcsardi/recei...</td>\n      <td>User</td>\n      <td>False</td>\n    </tr>\n    <tr>\n      <th>4</th>\n      <td>61620661</td>\n      <td>citest</td>\n      <td>gaborcsardi/citest</td>\n      <td>False</td>\n      <td>https://github.com/gaborcsardi/citest</td>\n      <td>Test R package and repo for the r-hub CI</td>\n      <td>True</td>\n      <td>https://api.github.com/repos/gaborcsardi/citest</td>\n      <td>https://api.github.com/repos/gaborcsardi/cites...</td>\n      <td>https://api.github.com/repos/gaborcsardi/cites...</td>\n      <td>...</td>\n      <td>https://api.github.com/users/gaborcsardi/follo...</td>\n      <td>https://api.github.com/users/gaborcsardi/gists...</td>\n      <td>https://api.github.com/users/gaborcsardi/starr...</td>\n      <td>https://api.github.com/users/gaborcsardi/subsc...</td>\n      <td>https://api.github.com/users/gaborcsardi/orgs</td>\n      <td>https://api.github.com/users/gaborcsardi/repos</td>\n      <td>https://api.github.com/users/gaborcsardi/event...</td>\n      <td>https://api.github.com/users/gaborcsardi/recei...</td>\n      <td>User</td>\n      <td>False</td>\n    </tr>\n  </tbody>\n</table>\n<p>5 rows × 84 columns</p>\n</div>"
     },
     "execution_count": 17,
     "metadata": {},
     "output_type": "execute_result"
    }
   ],
   "source": [
    "# In the previous step, there were no list-columns to expand with `explode`, which is the pandas equivalent of `unnest_longer()`.\n",
    "# However, if we were to follow the intent of the R code to unnest any possible nested structures (which `unnest_wider()` would do in R),\n",
    "\n",
    "repos_df_expanded = pd.json_normalize(repos_df.to_dict(orient='records'))\n",
    "\n",
    "# Now let's display the first few rows to check the expanded DataFrame structure\n",
    "repos_df_expanded.head()"
   ],
   "metadata": {
    "collapsed": false,
    "ExecuteTime": {
     "end_time": "2023-11-02T02:11:21.078896Z",
     "start_time": "2023-11-02T02:11:20.973116Z"
    }
   },
   "id": "6d2adbbfd54c65aa"
  },
  {
   "cell_type": "code",
   "execution_count": 18,
   "outputs": [
    {
     "data": {
      "text/plain": "['id',\n 'name',\n 'full_name',\n 'private',\n 'html_url',\n 'description',\n 'fork',\n 'url',\n 'forks_url',\n 'keys_url']"
     },
     "execution_count": 18,
     "metadata": {},
     "output_type": "execute_result"
    }
   ],
   "source": [
    "# The equivalent of R's names() function in pandas is to get the column names of the DataFrame.\n",
    "# The equivalent of R's head(10) is to get the first 10 items of an iterable.\n",
    "# We will get the first 10 column names of the expanded DataFrame.\n",
    "\n",
    "first_10_column_names = repos_df_expanded.columns.tolist()[:10]\n",
    "first_10_column_names\n"
   ],
   "metadata": {
    "collapsed": false,
    "ExecuteTime": {
     "end_time": "2023-11-02T02:12:41.635079Z",
     "start_time": "2023-11-02T02:12:41.559695Z"
    }
   },
   "id": "9be1b250b7c54866"
  },
  {
   "cell_type": "code",
   "execution_count": 19,
   "outputs": [
    {
     "data": {
      "text/plain": "         id                full_name  owner.login  \\\n0  61160198        gaborcsardi/after  gaborcsardi   \n1  40500181       gaborcsardi/argufy  gaborcsardi   \n2  36442442          gaborcsardi/ask  gaborcsardi   \n3  34924886  gaborcsardi/baseimports  gaborcsardi   \n4  61620661       gaborcsardi/citest  gaborcsardi   \n\n                                         description  \n0                         Run Code in the Background  \n1               Declarative function argument checks  \n2                      Friendly CLI interaction in R  \n3  Do we get warnings for undeclared imports from...  \n4           Test R package and repo for the r-hub CI  ",
      "text/html": "<div>\n<style scoped>\n    .dataframe tbody tr th:only-of-type {\n        vertical-align: middle;\n    }\n\n    .dataframe tbody tr th {\n        vertical-align: top;\n    }\n\n    .dataframe thead th {\n        text-align: right;\n    }\n</style>\n<table border=\"1\" class=\"dataframe\">\n  <thead>\n    <tr style=\"text-align: right;\">\n      <th></th>\n      <th>id</th>\n      <th>full_name</th>\n      <th>owner.login</th>\n      <th>description</th>\n    </tr>\n  </thead>\n  <tbody>\n    <tr>\n      <th>0</th>\n      <td>61160198</td>\n      <td>gaborcsardi/after</td>\n      <td>gaborcsardi</td>\n      <td>Run Code in the Background</td>\n    </tr>\n    <tr>\n      <th>1</th>\n      <td>40500181</td>\n      <td>gaborcsardi/argufy</td>\n      <td>gaborcsardi</td>\n      <td>Declarative function argument checks</td>\n    </tr>\n    <tr>\n      <th>2</th>\n      <td>36442442</td>\n      <td>gaborcsardi/ask</td>\n      <td>gaborcsardi</td>\n      <td>Friendly CLI interaction in R</td>\n    </tr>\n    <tr>\n      <th>3</th>\n      <td>34924886</td>\n      <td>gaborcsardi/baseimports</td>\n      <td>gaborcsardi</td>\n      <td>Do we get warnings for undeclared imports from...</td>\n    </tr>\n    <tr>\n      <th>4</th>\n      <td>61620661</td>\n      <td>gaborcsardi/citest</td>\n      <td>gaborcsardi</td>\n      <td>Test R package and repo for the r-hub CI</td>\n    </tr>\n  </tbody>\n</table>\n</div>"
     },
     "execution_count": 19,
     "metadata": {},
     "output_type": "execute_result"
    }
   ],
   "source": [
    "# To select specific columns from the DataFrame, we use the indexing method in pandas.\n",
    "# This is equivalent to the `select()` function in R.\n",
    "\n",
    "# Selecting the specified columns from the expanded DataFrame\n",
    "selected_columns_df = repos_df_expanded[['id', 'full_name', 'owner.login', 'description']]\n",
    "\n",
    "# Displaying the selected columns to verify\n",
    "selected_columns_df.head()\n"
   ],
   "metadata": {
    "collapsed": false,
    "ExecuteTime": {
     "end_time": "2023-11-02T02:13:52.121787Z",
     "start_time": "2023-11-02T02:13:52.020420Z"
    }
   },
   "id": "29b14e283b598444"
  },
  {
   "cell_type": "code",
   "execution_count": 20,
   "outputs": [
    {
     "data": {
      "text/plain": "         id                full_name  \\\n0  61160198        gaborcsardi/after   \n1  40500181       gaborcsardi/argufy   \n2  36442442          gaborcsardi/ask   \n3  34924886  gaborcsardi/baseimports   \n4  61620661       gaborcsardi/citest   \n\n                                         description  owner.login  owner.id  \\\n0                         Run Code in the Background  gaborcsardi    660288   \n1               Declarative function argument checks  gaborcsardi    660288   \n2                      Friendly CLI interaction in R  gaborcsardi    660288   \n3  Do we get warnings for undeclared imports from...  gaborcsardi    660288   \n4           Test R package and repo for the r-hub CI  gaborcsardi    660288   \n\n                                    owner.avatar_url owner.gravatar_id  \\\n0  https://avatars.githubusercontent.com/u/660288...                     \n1  https://avatars.githubusercontent.com/u/660288...                     \n2  https://avatars.githubusercontent.com/u/660288...                     \n3  https://avatars.githubusercontent.com/u/660288...                     \n4  https://avatars.githubusercontent.com/u/660288...                     \n\n                                  owner.url                  owner.html_url  \\\n0  https://api.github.com/users/gaborcsardi  https://github.com/gaborcsardi   \n1  https://api.github.com/users/gaborcsardi  https://github.com/gaborcsardi   \n2  https://api.github.com/users/gaborcsardi  https://github.com/gaborcsardi   \n3  https://api.github.com/users/gaborcsardi  https://github.com/gaborcsardi   \n4  https://api.github.com/users/gaborcsardi  https://github.com/gaborcsardi   \n\n                                 owner.followers_url  \\\n0  https://api.github.com/users/gaborcsardi/follo...   \n1  https://api.github.com/users/gaborcsardi/follo...   \n2  https://api.github.com/users/gaborcsardi/follo...   \n3  https://api.github.com/users/gaborcsardi/follo...   \n4  https://api.github.com/users/gaborcsardi/follo...   \n\n                                 owner.following_url  \\\n0  https://api.github.com/users/gaborcsardi/follo...   \n1  https://api.github.com/users/gaborcsardi/follo...   \n2  https://api.github.com/users/gaborcsardi/follo...   \n3  https://api.github.com/users/gaborcsardi/follo...   \n4  https://api.github.com/users/gaborcsardi/follo...   \n\n                                     owner.gists_url  \\\n0  https://api.github.com/users/gaborcsardi/gists...   \n1  https://api.github.com/users/gaborcsardi/gists...   \n2  https://api.github.com/users/gaborcsardi/gists...   \n3  https://api.github.com/users/gaborcsardi/gists...   \n4  https://api.github.com/users/gaborcsardi/gists...   \n\n                                   owner.starred_url  \\\n0  https://api.github.com/users/gaborcsardi/starr...   \n1  https://api.github.com/users/gaborcsardi/starr...   \n2  https://api.github.com/users/gaborcsardi/starr...   \n3  https://api.github.com/users/gaborcsardi/starr...   \n4  https://api.github.com/users/gaborcsardi/starr...   \n\n                             owner.subscriptions_url  \\\n0  https://api.github.com/users/gaborcsardi/subsc...   \n1  https://api.github.com/users/gaborcsardi/subsc...   \n2  https://api.github.com/users/gaborcsardi/subsc...   \n3  https://api.github.com/users/gaborcsardi/subsc...   \n4  https://api.github.com/users/gaborcsardi/subsc...   \n\n                         owner.organizations_url  \\\n0  https://api.github.com/users/gaborcsardi/orgs   \n1  https://api.github.com/users/gaborcsardi/orgs   \n2  https://api.github.com/users/gaborcsardi/orgs   \n3  https://api.github.com/users/gaborcsardi/orgs   \n4  https://api.github.com/users/gaborcsardi/orgs   \n\n                                  owner.repos_url  \\\n0  https://api.github.com/users/gaborcsardi/repos   \n1  https://api.github.com/users/gaborcsardi/repos   \n2  https://api.github.com/users/gaborcsardi/repos   \n3  https://api.github.com/users/gaborcsardi/repos   \n4  https://api.github.com/users/gaborcsardi/repos   \n\n                                    owner.events_url  \\\n0  https://api.github.com/users/gaborcsardi/event...   \n1  https://api.github.com/users/gaborcsardi/event...   \n2  https://api.github.com/users/gaborcsardi/event...   \n3  https://api.github.com/users/gaborcsardi/event...   \n4  https://api.github.com/users/gaborcsardi/event...   \n\n                           owner.received_events_url owner.type  \\\n0  https://api.github.com/users/gaborcsardi/recei...       User   \n1  https://api.github.com/users/gaborcsardi/recei...       User   \n2  https://api.github.com/users/gaborcsardi/recei...       User   \n3  https://api.github.com/users/gaborcsardi/recei...       User   \n4  https://api.github.com/users/gaborcsardi/recei...       User   \n\n   owner.site_admin  \n0             False  \n1             False  \n2             False  \n3             False  \n4             False  ",
      "text/html": "<div>\n<style scoped>\n    .dataframe tbody tr th:only-of-type {\n        vertical-align: middle;\n    }\n\n    .dataframe tbody tr th {\n        vertical-align: top;\n    }\n\n    .dataframe thead th {\n        text-align: right;\n    }\n</style>\n<table border=\"1\" class=\"dataframe\">\n  <thead>\n    <tr style=\"text-align: right;\">\n      <th></th>\n      <th>id</th>\n      <th>full_name</th>\n      <th>description</th>\n      <th>owner.login</th>\n      <th>owner.id</th>\n      <th>owner.avatar_url</th>\n      <th>owner.gravatar_id</th>\n      <th>owner.url</th>\n      <th>owner.html_url</th>\n      <th>owner.followers_url</th>\n      <th>owner.following_url</th>\n      <th>owner.gists_url</th>\n      <th>owner.starred_url</th>\n      <th>owner.subscriptions_url</th>\n      <th>owner.organizations_url</th>\n      <th>owner.repos_url</th>\n      <th>owner.events_url</th>\n      <th>owner.received_events_url</th>\n      <th>owner.type</th>\n      <th>owner.site_admin</th>\n    </tr>\n  </thead>\n  <tbody>\n    <tr>\n      <th>0</th>\n      <td>61160198</td>\n      <td>gaborcsardi/after</td>\n      <td>Run Code in the Background</td>\n      <td>gaborcsardi</td>\n      <td>660288</td>\n      <td>https://avatars.githubusercontent.com/u/660288...</td>\n      <td></td>\n      <td>https://api.github.com/users/gaborcsardi</td>\n      <td>https://github.com/gaborcsardi</td>\n      <td>https://api.github.com/users/gaborcsardi/follo...</td>\n      <td>https://api.github.com/users/gaborcsardi/follo...</td>\n      <td>https://api.github.com/users/gaborcsardi/gists...</td>\n      <td>https://api.github.com/users/gaborcsardi/starr...</td>\n      <td>https://api.github.com/users/gaborcsardi/subsc...</td>\n      <td>https://api.github.com/users/gaborcsardi/orgs</td>\n      <td>https://api.github.com/users/gaborcsardi/repos</td>\n      <td>https://api.github.com/users/gaborcsardi/event...</td>\n      <td>https://api.github.com/users/gaborcsardi/recei...</td>\n      <td>User</td>\n      <td>False</td>\n    </tr>\n    <tr>\n      <th>1</th>\n      <td>40500181</td>\n      <td>gaborcsardi/argufy</td>\n      <td>Declarative function argument checks</td>\n      <td>gaborcsardi</td>\n      <td>660288</td>\n      <td>https://avatars.githubusercontent.com/u/660288...</td>\n      <td></td>\n      <td>https://api.github.com/users/gaborcsardi</td>\n      <td>https://github.com/gaborcsardi</td>\n      <td>https://api.github.com/users/gaborcsardi/follo...</td>\n      <td>https://api.github.com/users/gaborcsardi/follo...</td>\n      <td>https://api.github.com/users/gaborcsardi/gists...</td>\n      <td>https://api.github.com/users/gaborcsardi/starr...</td>\n      <td>https://api.github.com/users/gaborcsardi/subsc...</td>\n      <td>https://api.github.com/users/gaborcsardi/orgs</td>\n      <td>https://api.github.com/users/gaborcsardi/repos</td>\n      <td>https://api.github.com/users/gaborcsardi/event...</td>\n      <td>https://api.github.com/users/gaborcsardi/recei...</td>\n      <td>User</td>\n      <td>False</td>\n    </tr>\n    <tr>\n      <th>2</th>\n      <td>36442442</td>\n      <td>gaborcsardi/ask</td>\n      <td>Friendly CLI interaction in R</td>\n      <td>gaborcsardi</td>\n      <td>660288</td>\n      <td>https://avatars.githubusercontent.com/u/660288...</td>\n      <td></td>\n      <td>https://api.github.com/users/gaborcsardi</td>\n      <td>https://github.com/gaborcsardi</td>\n      <td>https://api.github.com/users/gaborcsardi/follo...</td>\n      <td>https://api.github.com/users/gaborcsardi/follo...</td>\n      <td>https://api.github.com/users/gaborcsardi/gists...</td>\n      <td>https://api.github.com/users/gaborcsardi/starr...</td>\n      <td>https://api.github.com/users/gaborcsardi/subsc...</td>\n      <td>https://api.github.com/users/gaborcsardi/orgs</td>\n      <td>https://api.github.com/users/gaborcsardi/repos</td>\n      <td>https://api.github.com/users/gaborcsardi/event...</td>\n      <td>https://api.github.com/users/gaborcsardi/recei...</td>\n      <td>User</td>\n      <td>False</td>\n    </tr>\n    <tr>\n      <th>3</th>\n      <td>34924886</td>\n      <td>gaborcsardi/baseimports</td>\n      <td>Do we get warnings for undeclared imports from...</td>\n      <td>gaborcsardi</td>\n      <td>660288</td>\n      <td>https://avatars.githubusercontent.com/u/660288...</td>\n      <td></td>\n      <td>https://api.github.com/users/gaborcsardi</td>\n      <td>https://github.com/gaborcsardi</td>\n      <td>https://api.github.com/users/gaborcsardi/follo...</td>\n      <td>https://api.github.com/users/gaborcsardi/follo...</td>\n      <td>https://api.github.com/users/gaborcsardi/gists...</td>\n      <td>https://api.github.com/users/gaborcsardi/starr...</td>\n      <td>https://api.github.com/users/gaborcsardi/subsc...</td>\n      <td>https://api.github.com/users/gaborcsardi/orgs</td>\n      <td>https://api.github.com/users/gaborcsardi/repos</td>\n      <td>https://api.github.com/users/gaborcsardi/event...</td>\n      <td>https://api.github.com/users/gaborcsardi/recei...</td>\n      <td>User</td>\n      <td>False</td>\n    </tr>\n    <tr>\n      <th>4</th>\n      <td>61620661</td>\n      <td>gaborcsardi/citest</td>\n      <td>Test R package and repo for the r-hub CI</td>\n      <td>gaborcsardi</td>\n      <td>660288</td>\n      <td>https://avatars.githubusercontent.com/u/660288...</td>\n      <td></td>\n      <td>https://api.github.com/users/gaborcsardi</td>\n      <td>https://github.com/gaborcsardi</td>\n      <td>https://api.github.com/users/gaborcsardi/follo...</td>\n      <td>https://api.github.com/users/gaborcsardi/follo...</td>\n      <td>https://api.github.com/users/gaborcsardi/gists...</td>\n      <td>https://api.github.com/users/gaborcsardi/starr...</td>\n      <td>https://api.github.com/users/gaborcsardi/subsc...</td>\n      <td>https://api.github.com/users/gaborcsardi/orgs</td>\n      <td>https://api.github.com/users/gaborcsardi/repos</td>\n      <td>https://api.github.com/users/gaborcsardi/event...</td>\n      <td>https://api.github.com/users/gaborcsardi/recei...</td>\n      <td>User</td>\n      <td>False</td>\n    </tr>\n  </tbody>\n</table>\n</div>"
     },
     "execution_count": 20,
     "metadata": {},
     "output_type": "execute_result"
    }
   ],
   "source": [
    "# We will build a list of column names that start with 'owner.' to select all owner-related columns\n",
    "owner_columns = [col for col in repos_df_expanded.columns if col.startswith('owner.')]\n",
    "\n",
    "# Selecting the specified columns along with all owner-related columns from the expanded DataFrame\n",
    "selected_columns_with_owner_df = repos_df_expanded[['id', 'full_name', 'description'] + owner_columns]\n",
    "\n",
    "# Displaying the selected columns to verify\n",
    "selected_columns_with_owner_df.head()"
   ],
   "metadata": {
    "collapsed": false,
    "ExecuteTime": {
     "end_time": "2023-11-02T02:15:28.213956Z",
     "start_time": "2023-11-02T02:15:28.131028Z"
    }
   },
   "id": "b2a685959eb32d8d"
  },
  {
   "cell_type": "code",
   "execution_count": 21,
   "outputs": [
    {
     "data": {
      "text/plain": "         id                full_name  \\\n0  61160198        gaborcsardi/after   \n1  40500181       gaborcsardi/argufy   \n2  36442442          gaborcsardi/ask   \n3  34924886  gaborcsardi/baseimports   \n4  61620661       gaborcsardi/citest   \n\n                                         description  owner_login  owner_id  \\\n0                         Run Code in the Background  gaborcsardi    660288   \n1               Declarative function argument checks  gaborcsardi    660288   \n2                      Friendly CLI interaction in R  gaborcsardi    660288   \n3  Do we get warnings for undeclared imports from...  gaborcsardi    660288   \n4           Test R package and repo for the r-hub CI  gaborcsardi    660288   \n\n                                    owner_avatar_url owner_gravatar_id  \\\n0  https://avatars.githubusercontent.com/u/660288...                     \n1  https://avatars.githubusercontent.com/u/660288...                     \n2  https://avatars.githubusercontent.com/u/660288...                     \n3  https://avatars.githubusercontent.com/u/660288...                     \n4  https://avatars.githubusercontent.com/u/660288...                     \n\n                                  owner_url                  owner_html_url  \\\n0  https://api.github.com/users/gaborcsardi  https://github.com/gaborcsardi   \n1  https://api.github.com/users/gaborcsardi  https://github.com/gaborcsardi   \n2  https://api.github.com/users/gaborcsardi  https://github.com/gaborcsardi   \n3  https://api.github.com/users/gaborcsardi  https://github.com/gaborcsardi   \n4  https://api.github.com/users/gaborcsardi  https://github.com/gaborcsardi   \n\n                                 owner_followers_url  \\\n0  https://api.github.com/users/gaborcsardi/follo...   \n1  https://api.github.com/users/gaborcsardi/follo...   \n2  https://api.github.com/users/gaborcsardi/follo...   \n3  https://api.github.com/users/gaborcsardi/follo...   \n4  https://api.github.com/users/gaborcsardi/follo...   \n\n                                 owner_following_url  \\\n0  https://api.github.com/users/gaborcsardi/follo...   \n1  https://api.github.com/users/gaborcsardi/follo...   \n2  https://api.github.com/users/gaborcsardi/follo...   \n3  https://api.github.com/users/gaborcsardi/follo...   \n4  https://api.github.com/users/gaborcsardi/follo...   \n\n                                     owner_gists_url  \\\n0  https://api.github.com/users/gaborcsardi/gists...   \n1  https://api.github.com/users/gaborcsardi/gists...   \n2  https://api.github.com/users/gaborcsardi/gists...   \n3  https://api.github.com/users/gaborcsardi/gists...   \n4  https://api.github.com/users/gaborcsardi/gists...   \n\n                                   owner_starred_url  \\\n0  https://api.github.com/users/gaborcsardi/starr...   \n1  https://api.github.com/users/gaborcsardi/starr...   \n2  https://api.github.com/users/gaborcsardi/starr...   \n3  https://api.github.com/users/gaborcsardi/starr...   \n4  https://api.github.com/users/gaborcsardi/starr...   \n\n                             owner_subscriptions_url  \\\n0  https://api.github.com/users/gaborcsardi/subsc...   \n1  https://api.github.com/users/gaborcsardi/subsc...   \n2  https://api.github.com/users/gaborcsardi/subsc...   \n3  https://api.github.com/users/gaborcsardi/subsc...   \n4  https://api.github.com/users/gaborcsardi/subsc...   \n\n                         owner_organizations_url  \\\n0  https://api.github.com/users/gaborcsardi/orgs   \n1  https://api.github.com/users/gaborcsardi/orgs   \n2  https://api.github.com/users/gaborcsardi/orgs   \n3  https://api.github.com/users/gaborcsardi/orgs   \n4  https://api.github.com/users/gaborcsardi/orgs   \n\n                                  owner_repos_url  \\\n0  https://api.github.com/users/gaborcsardi/repos   \n1  https://api.github.com/users/gaborcsardi/repos   \n2  https://api.github.com/users/gaborcsardi/repos   \n3  https://api.github.com/users/gaborcsardi/repos   \n4  https://api.github.com/users/gaborcsardi/repos   \n\n                                    owner_events_url  \\\n0  https://api.github.com/users/gaborcsardi/event...   \n1  https://api.github.com/users/gaborcsardi/event...   \n2  https://api.github.com/users/gaborcsardi/event...   \n3  https://api.github.com/users/gaborcsardi/event...   \n4  https://api.github.com/users/gaborcsardi/event...   \n\n                           owner_received_events_url owner_type  \\\n0  https://api.github.com/users/gaborcsardi/recei...       User   \n1  https://api.github.com/users/gaborcsardi/recei...       User   \n2  https://api.github.com/users/gaborcsardi/recei...       User   \n3  https://api.github.com/users/gaborcsardi/recei...       User   \n4  https://api.github.com/users/gaborcsardi/recei...       User   \n\n   owner_site_admin  \n0             False  \n1             False  \n2             False  \n3             False  \n4             False  ",
      "text/html": "<div>\n<style scoped>\n    .dataframe tbody tr th:only-of-type {\n        vertical-align: middle;\n    }\n\n    .dataframe tbody tr th {\n        vertical-align: top;\n    }\n\n    .dataframe thead th {\n        text-align: right;\n    }\n</style>\n<table border=\"1\" class=\"dataframe\">\n  <thead>\n    <tr style=\"text-align: right;\">\n      <th></th>\n      <th>id</th>\n      <th>full_name</th>\n      <th>description</th>\n      <th>owner_login</th>\n      <th>owner_id</th>\n      <th>owner_avatar_url</th>\n      <th>owner_gravatar_id</th>\n      <th>owner_url</th>\n      <th>owner_html_url</th>\n      <th>owner_followers_url</th>\n      <th>owner_following_url</th>\n      <th>owner_gists_url</th>\n      <th>owner_starred_url</th>\n      <th>owner_subscriptions_url</th>\n      <th>owner_organizations_url</th>\n      <th>owner_repos_url</th>\n      <th>owner_events_url</th>\n      <th>owner_received_events_url</th>\n      <th>owner_type</th>\n      <th>owner_site_admin</th>\n    </tr>\n  </thead>\n  <tbody>\n    <tr>\n      <th>0</th>\n      <td>61160198</td>\n      <td>gaborcsardi/after</td>\n      <td>Run Code in the Background</td>\n      <td>gaborcsardi</td>\n      <td>660288</td>\n      <td>https://avatars.githubusercontent.com/u/660288...</td>\n      <td></td>\n      <td>https://api.github.com/users/gaborcsardi</td>\n      <td>https://github.com/gaborcsardi</td>\n      <td>https://api.github.com/users/gaborcsardi/follo...</td>\n      <td>https://api.github.com/users/gaborcsardi/follo...</td>\n      <td>https://api.github.com/users/gaborcsardi/gists...</td>\n      <td>https://api.github.com/users/gaborcsardi/starr...</td>\n      <td>https://api.github.com/users/gaborcsardi/subsc...</td>\n      <td>https://api.github.com/users/gaborcsardi/orgs</td>\n      <td>https://api.github.com/users/gaborcsardi/repos</td>\n      <td>https://api.github.com/users/gaborcsardi/event...</td>\n      <td>https://api.github.com/users/gaborcsardi/recei...</td>\n      <td>User</td>\n      <td>False</td>\n    </tr>\n    <tr>\n      <th>1</th>\n      <td>40500181</td>\n      <td>gaborcsardi/argufy</td>\n      <td>Declarative function argument checks</td>\n      <td>gaborcsardi</td>\n      <td>660288</td>\n      <td>https://avatars.githubusercontent.com/u/660288...</td>\n      <td></td>\n      <td>https://api.github.com/users/gaborcsardi</td>\n      <td>https://github.com/gaborcsardi</td>\n      <td>https://api.github.com/users/gaborcsardi/follo...</td>\n      <td>https://api.github.com/users/gaborcsardi/follo...</td>\n      <td>https://api.github.com/users/gaborcsardi/gists...</td>\n      <td>https://api.github.com/users/gaborcsardi/starr...</td>\n      <td>https://api.github.com/users/gaborcsardi/subsc...</td>\n      <td>https://api.github.com/users/gaborcsardi/orgs</td>\n      <td>https://api.github.com/users/gaborcsardi/repos</td>\n      <td>https://api.github.com/users/gaborcsardi/event...</td>\n      <td>https://api.github.com/users/gaborcsardi/recei...</td>\n      <td>User</td>\n      <td>False</td>\n    </tr>\n    <tr>\n      <th>2</th>\n      <td>36442442</td>\n      <td>gaborcsardi/ask</td>\n      <td>Friendly CLI interaction in R</td>\n      <td>gaborcsardi</td>\n      <td>660288</td>\n      <td>https://avatars.githubusercontent.com/u/660288...</td>\n      <td></td>\n      <td>https://api.github.com/users/gaborcsardi</td>\n      <td>https://github.com/gaborcsardi</td>\n      <td>https://api.github.com/users/gaborcsardi/follo...</td>\n      <td>https://api.github.com/users/gaborcsardi/follo...</td>\n      <td>https://api.github.com/users/gaborcsardi/gists...</td>\n      <td>https://api.github.com/users/gaborcsardi/starr...</td>\n      <td>https://api.github.com/users/gaborcsardi/subsc...</td>\n      <td>https://api.github.com/users/gaborcsardi/orgs</td>\n      <td>https://api.github.com/users/gaborcsardi/repos</td>\n      <td>https://api.github.com/users/gaborcsardi/event...</td>\n      <td>https://api.github.com/users/gaborcsardi/recei...</td>\n      <td>User</td>\n      <td>False</td>\n    </tr>\n    <tr>\n      <th>3</th>\n      <td>34924886</td>\n      <td>gaborcsardi/baseimports</td>\n      <td>Do we get warnings for undeclared imports from...</td>\n      <td>gaborcsardi</td>\n      <td>660288</td>\n      <td>https://avatars.githubusercontent.com/u/660288...</td>\n      <td></td>\n      <td>https://api.github.com/users/gaborcsardi</td>\n      <td>https://github.com/gaborcsardi</td>\n      <td>https://api.github.com/users/gaborcsardi/follo...</td>\n      <td>https://api.github.com/users/gaborcsardi/follo...</td>\n      <td>https://api.github.com/users/gaborcsardi/gists...</td>\n      <td>https://api.github.com/users/gaborcsardi/starr...</td>\n      <td>https://api.github.com/users/gaborcsardi/subsc...</td>\n      <td>https://api.github.com/users/gaborcsardi/orgs</td>\n      <td>https://api.github.com/users/gaborcsardi/repos</td>\n      <td>https://api.github.com/users/gaborcsardi/event...</td>\n      <td>https://api.github.com/users/gaborcsardi/recei...</td>\n      <td>User</td>\n      <td>False</td>\n    </tr>\n    <tr>\n      <th>4</th>\n      <td>61620661</td>\n      <td>gaborcsardi/citest</td>\n      <td>Test R package and repo for the r-hub CI</td>\n      <td>gaborcsardi</td>\n      <td>660288</td>\n      <td>https://avatars.githubusercontent.com/u/660288...</td>\n      <td></td>\n      <td>https://api.github.com/users/gaborcsardi</td>\n      <td>https://github.com/gaborcsardi</td>\n      <td>https://api.github.com/users/gaborcsardi/follo...</td>\n      <td>https://api.github.com/users/gaborcsardi/follo...</td>\n      <td>https://api.github.com/users/gaborcsardi/gists...</td>\n      <td>https://api.github.com/users/gaborcsardi/starr...</td>\n      <td>https://api.github.com/users/gaborcsardi/subsc...</td>\n      <td>https://api.github.com/users/gaborcsardi/orgs</td>\n      <td>https://api.github.com/users/gaborcsardi/repos</td>\n      <td>https://api.github.com/users/gaborcsardi/event...</td>\n      <td>https://api.github.com/users/gaborcsardi/recei...</td>\n      <td>User</td>\n      <td>False</td>\n    </tr>\n  </tbody>\n</table>\n</div>"
     },
     "execution_count": 21,
     "metadata": {},
     "output_type": "execute_result"
    }
   ],
   "source": [
    "# The 'json_normalize' function already uses a separator for nested fields which is by default '.',\n",
    "# but we can specify a different separator if needed.\n",
    "# Since we want the separator to be '_', we'll need to redefine the DataFrame with the correct separator.\n",
    "\n",
    "# Redefining the DataFrame with the specified separator '_'\n",
    "repos_df_expanded_with_underscore = pd.json_normalize(repos_df.to_dict(orient='records'), sep='_')\n",
    "\n",
    "# Selecting the specified columns from the expanded DataFrame with the new separator for 'owner' fields\n",
    "selected_columns_with_underscore_df = repos_df_expanded_with_underscore[\n",
    "    ['id', 'full_name', 'description'] + [col for col in repos_df_expanded_with_underscore.columns if col.startswith('owner_')]\n",
    "]\n",
    "\n",
    "# Displaying the selected columns to verify\n",
    "selected_columns_with_underscore_df.head()\n"
   ],
   "metadata": {
    "collapsed": false,
    "ExecuteTime": {
     "end_time": "2023-11-02T02:16:53.415132Z",
     "start_time": "2023-11-02T02:16:53.324504Z"
    }
   },
   "id": "aced749edd3b3a80"
  },
  {
   "cell_type": "code",
   "execution_count": 25,
   "outputs": [
    {
     "data": {
      "text/plain": "((30, 18),\n                                                  url    id               name  \\\n 0  https://www.anapioficeandfire.com/api/characte...  1022      Theon Greyjoy   \n 1  https://www.anapioficeandfire.com/api/characte...  1052   Tyrion Lannister   \n 2  https://www.anapioficeandfire.com/api/characte...  1074  Victarion Greyjoy   \n 3  https://www.anapioficeandfire.com/api/characte...  1109               Will   \n 4  https://www.anapioficeandfire.com/api/characte...  1166         Areo Hotah   \n \n   gender   culture                            born  \\\n 0   Male  Ironborn    In 278 AC or 279 AC, at Pyke   \n 1   Male               In 273 AC, at Casterly Rock   \n 2   Male  Ironborn    In 268 AC or before, at Pyke   \n 3   Male                                             \n 4   Male  Norvoshi  In 257 AC or before, at Norvos   \n \n                            died  alive  \\\n 0                                 True   \n 1                                 True   \n 2                                 True   \n 3  In 297 AC, at Haunted Forest  False   \n 4                                 True   \n \n                                               titles  \\\n 0  [Prince of Winterfell, Lord of the Iron Island...   \n 1  [Acting Hand of the King (former), Master of C...   \n 2  [Lord Captain of the Iron Fleet, Master of the...   \n 3                                                      \n 4                   Captain of the Guard at Sunspear   \n \n                                              aliases father mother  \\\n 0  [Prince of Fools, Theon Turncloak, Reek, Theon...                 \n 1  [The Imp, Halfman, The boyman, Giant of Lannis...                 \n 2                                   The Iron Captain                 \n 3                                                                    \n 4                                                                    \n \n                                               spouse  \\\n 0                                                      \n 1  https://www.anapioficeandfire.com/api/characte...   \n 2                                                      \n 3                                                      \n 4                                                      \n \n                          allegiances  \\\n 0              House Greyjoy of Pyke   \n 1   House Lannister of Casterly Rock   \n 2              House Greyjoy of Pyke   \n 3                                 []   \n 4  House Nymeros Martell of Sunspear   \n \n                                                books  \\\n 0  [A Game of Thrones, A Storm of Swords, A Feast...   \n 1     [A Feast for Crows, The World of Ice and Fire]   \n 2  [A Game of Thrones, A Clash of Kings, A Storm ...   \n 3                                   A Clash of Kings   \n 4  [A Game of Thrones, A Clash of Kings, A Storm ...   \n \n                                             povBooks  \\\n 0           [A Clash of Kings, A Dance with Dragons]   \n 1  [A Game of Thrones, A Clash of Kings, A Storm ...   \n 2          [A Feast for Crows, A Dance with Dragons]   \n 3                                  A Game of Thrones   \n 4          [A Feast for Crows, A Dance with Dragons]   \n \n                                             tvSeries        playedBy  \n 0  [Season 1, Season 2, Season 3, Season 4, Seaso...     Alfie Allen  \n 1  [Season 1, Season 2, Season 3, Season 4, Seaso...  Peter Dinklage  \n 2                                                                     \n 3                                                       Bronson Webb  \n 4                               [Season 5, Season 6]   DeObia Oparei  )"
     },
     "execution_count": 25,
     "metadata": {},
     "output_type": "execute_result"
    }
   ],
   "source": [
    "# Load the JSON file into a pandas DataFrame\n",
    "chars_path = 'data/got_chars.json'\n",
    "chars = pd.read_json(chars_path)\n",
    "\n",
    "# Since in R the tibble is 30 by 1, it suggests that the JSON data is a list of 30 items\n",
    "# We need to ensure that the DataFrame in Python also reflects this structure\n",
    "# Each item in the list should be a row in the DataFrame, and there should be only one column\n",
    "\n",
    "# If the JSON is a list of dicts, pd.read_json should handle this correctly by default\n",
    "# However, if the JSON is nested deeper or in a different format, we may need to adjust the approach\n",
    "# First, let's check the shape of the DataFrame to see if it matches the expected 30x1 structure\n",
    "chars_shape = chars.shape\n",
    "chars_head = chars.head()  # Display the first few rows for inspection\n",
    "\n",
    "chars_shape, chars_head\n"
   ],
   "metadata": {
    "collapsed": false,
    "ExecuteTime": {
     "end_time": "2023-11-02T02:30:33.867620Z",
     "start_time": "2023-11-02T02:30:33.751827Z"
    }
   },
   "id": "4424912d4db2e4db"
  },
  {
   "cell_type": "code",
   "execution_count": 26,
   "outputs": [
    {
     "data": {
      "text/plain": "((30, 1),\n                                                 json\n 0  {\"url\":\"https:\\/\\/www.anapioficeandfire.com\\/a...\n 1  {\"url\":\"https:\\/\\/www.anapioficeandfire.com\\/a...\n 2  {\"url\":\"https:\\/\\/www.anapioficeandfire.com\\/a...\n 3  {\"url\":\"https:\\/\\/www.anapioficeandfire.com\\/a...\n 4  {\"url\":\"https:\\/\\/www.anapioficeandfire.com\\/a...)"
     },
     "execution_count": 26,
     "metadata": {},
     "output_type": "execute_result"
    }
   ],
   "source": [
    "# Create a new DataFrame with a single column 'json' that contains the JSON representation of each character\n",
    "chars_single_col = pd.DataFrame({\n",
    "    'json': chars.apply(lambda x: x.to_json(), axis=1)\n",
    "})\n",
    "\n",
    "# Verify the new structure\n",
    "chars_single_col_shape = chars_single_col.shape\n",
    "chars_single_col_head = chars_single_col.head()  # Display the first few rows for inspection\n",
    "\n",
    "chars_single_col_shape, chars_single_col_head"
   ],
   "metadata": {
    "collapsed": false,
    "ExecuteTime": {
     "end_time": "2023-11-02T02:31:01.417141Z",
     "start_time": "2023-11-02T02:31:01.334467Z"
    }
   },
   "id": "7c6e5878efc32db5"
  },
  {
   "cell_type": "code",
   "execution_count": 27,
   "outputs": [
    {
     "data": {
      "text/plain": "((30, 18),\n                                                  url    id               name  \\\n 0  https://www.anapioficeandfire.com/api/characte...  1022      Theon Greyjoy   \n 1  https://www.anapioficeandfire.com/api/characte...  1052   Tyrion Lannister   \n 2  https://www.anapioficeandfire.com/api/characte...  1074  Victarion Greyjoy   \n 3  https://www.anapioficeandfire.com/api/characte...  1109               Will   \n 4  https://www.anapioficeandfire.com/api/characte...  1166         Areo Hotah   \n \n   gender   culture                            born  \\\n 0   Male  Ironborn    In 278 AC or 279 AC, at Pyke   \n 1   Male               In 273 AC, at Casterly Rock   \n 2   Male  Ironborn    In 268 AC or before, at Pyke   \n 3   Male                                             \n 4   Male  Norvoshi  In 257 AC or before, at Norvos   \n \n                            died  alive  \\\n 0                                 True   \n 1                                 True   \n 2                                 True   \n 3  In 297 AC, at Haunted Forest  False   \n 4                                 True   \n \n                                               titles  \\\n 0  [Prince of Winterfell, Lord of the Iron Island...   \n 1  [Acting Hand of the King (former), Master of C...   \n 2  [Lord Captain of the Iron Fleet, Master of the...   \n 3                                                      \n 4                   Captain of the Guard at Sunspear   \n \n                                              aliases father mother  \\\n 0  [Prince of Fools, Theon Turncloak, Reek, Theon...                 \n 1  [The Imp, Halfman, The boyman, Giant of Lannis...                 \n 2                                   The Iron Captain                 \n 3                                                                    \n 4                                                                    \n \n                                               spouse  \\\n 0                                                      \n 1  https://www.anapioficeandfire.com/api/characte...   \n 2                                                      \n 3                                                      \n 4                                                      \n \n                          allegiances  \\\n 0              House Greyjoy of Pyke   \n 1   House Lannister of Casterly Rock   \n 2              House Greyjoy of Pyke   \n 3                                 []   \n 4  House Nymeros Martell of Sunspear   \n \n                                                books  \\\n 0  [A Game of Thrones, A Storm of Swords, A Feast...   \n 1     [A Feast for Crows, The World of Ice and Fire]   \n 2  [A Game of Thrones, A Clash of Kings, A Storm ...   \n 3                                   A Clash of Kings   \n 4  [A Game of Thrones, A Clash of Kings, A Storm ...   \n \n                                             povBooks  \\\n 0           [A Clash of Kings, A Dance with Dragons]   \n 1  [A Game of Thrones, A Clash of Kings, A Storm ...   \n 2          [A Feast for Crows, A Dance with Dragons]   \n 3                                  A Game of Thrones   \n 4          [A Feast for Crows, A Dance with Dragons]   \n \n                                             tvSeries        playedBy  \n 0  [Season 1, Season 2, Season 3, Season 4, Seaso...     Alfie Allen  \n 1  [Season 1, Season 2, Season 3, Season 4, Seaso...  Peter Dinklage  \n 2                                                                     \n 3                                                       Bronson Webb  \n 4                               [Season 5, Season 6]   DeObia Oparei  )"
     },
     "execution_count": 27,
     "metadata": {},
     "output_type": "execute_result"
    }
   ],
   "source": [
    "# To unnest the 'json' column into a wider format, we'll need to convert the JSON strings back to dictionaries\n",
    "# and then use json_normalize to create a DataFrame with each key in the JSON object as a column.\n",
    "\n",
    "# Import the json module to parse JSON strings\n",
    "import json\n",
    "\n",
    "# Convert the JSON strings in the 'json' column back to dictionaries\n",
    "chars_dicts = chars_single_col['json'].apply(json.loads)\n",
    "\n",
    "# Use json_normalize to create a wider DataFrame\n",
    "chars_wider = pd.json_normalize(chars_dicts)\n",
    "\n",
    "# Verify the result\n",
    "chars_wider_shape = chars_wider.shape\n",
    "chars_wider_head = chars_wider.head()  # Display the first few rows for inspection\n",
    "\n",
    "chars_wider_shape, chars_wider_head"
   ],
   "metadata": {
    "collapsed": false,
    "ExecuteTime": {
     "end_time": "2023-11-02T02:33:53.350484Z",
     "start_time": "2023-11-02T02:33:53.294342Z"
    }
   },
   "id": "ecdb661923cfad68"
  },
  {
   "cell_type": "code",
   "execution_count": 28,
   "outputs": [
    {
     "data": {
      "text/plain": "((30, 7),\n      id               name gender   culture                            born  \\\n 0  1022      Theon Greyjoy   Male  Ironborn    In 278 AC or 279 AC, at Pyke   \n 1  1052   Tyrion Lannister   Male               In 273 AC, at Casterly Rock   \n 2  1074  Victarion Greyjoy   Male  Ironborn    In 268 AC or before, at Pyke   \n 3  1109               Will   Male                                             \n 4  1166         Areo Hotah   Male  Norvoshi  In 257 AC or before, at Norvos   \n \n                            died  alive  \n 0                                 True  \n 1                                 True  \n 2                                 True  \n 3  In 297 AC, at Haunted Forest  False  \n 4                                 True  )"
     },
     "execution_count": 28,
     "metadata": {},
     "output_type": "execute_result"
    }
   ],
   "source": [
    "# Using the chars_wider DataFrame, we can select the specified columns: 'id', 'name', 'gender', 'culture', 'born', 'died', and 'alive'.\n",
    "# This is done using the DataFrame's indexing method with a list of column names.\n",
    "\n",
    "characters = chars_wider[['id', 'name', 'gender', 'culture', 'born', 'died', 'alive']]\n",
    "\n",
    "# Verify the result\n",
    "characters_shape = characters.shape\n",
    "characters_head = characters.head()  # Display the first few rows for inspection\n",
    "\n",
    "characters_shape, characters_head\n"
   ],
   "metadata": {
    "collapsed": false,
    "ExecuteTime": {
     "end_time": "2023-11-02T02:34:50.044524Z",
     "start_time": "2023-11-02T02:34:49.965615Z"
    }
   },
   "id": "f9b3cb7fd4267add"
  },
  {
   "cell_type": "code",
   "execution_count": 29,
   "outputs": [
    {
     "data": {
      "text/plain": "      id                name  gender      culture  \\\n0   1022       Theon Greyjoy    Male     Ironborn   \n1   1052    Tyrion Lannister    Male                \n2   1074   Victarion Greyjoy    Male     Ironborn   \n3   1109                Will    Male                \n4   1166          Areo Hotah    Male     Norvoshi   \n5   1267               Chett    Male                \n6   1295             Cressen    Male                \n7    130     Arianne Martell  Female      Dornish   \n8   1303  Daenerys Targaryen  Female     Valyrian   \n9   1319      Davos Seaworth    Male     Westeros   \n10   148          Arya Stark  Female     Northmen   \n11   149       Arys Oakheart    Male        Reach   \n12   150        Asha Greyjoy  Female     Ironborn   \n13   168     Barristan Selmy    Male     Westeros   \n14  2066             Varamyr    Male    Free Folk   \n15   208       Brandon Stark    Male     Northmen   \n16   216    Brienne of Tarth  Female                \n17   232       Catelyn Stark  Female     Rivermen   \n18   238    Cersei Lannister  Female    Westerman   \n19   339        Eddard Stark    Male     Northmen   \n20   529     Jaime Lannister    Male  Westerlands   \n21   576      Jon Connington    Male   Stormlands   \n22   583            Jon Snow    Male     Northmen   \n23    60       Aeron Greyjoy    Male     Ironborn   \n24   605     Kevan Lannister    Male                \n25   743          Melisandre  Female       Asshai   \n26   751        Merrett Frey    Male     Rivermen   \n27   844     Quentyn Martell    Male      Dornish   \n28   954       Samwell Tarly    Male        Andal   \n29   957         Sansa Stark  Female     Northmen   \n\n                                        born  \\\n0               In 278 AC or 279 AC, at Pyke   \n1                In 273 AC, at Casterly Rock   \n2               In 268 AC or before, at Pyke   \n3                                              \n4             In 257 AC or before, at Norvos   \n5                              At Hag's Mire   \n6                        In 219 AC or 220 AC   \n7                     In 276 AC, at Sunspear   \n8                  In 284 AC, at Dragonstone   \n9     In 260 AC or before, at King's Landing   \n10                  In 289 AC, at Winterfell   \n11                                At Old Oak   \n12              In 275 AC or 276 AC, at Pyke   \n13                                 In 237 AC   \n14              At a village Beyond the Wall   \n15                  In 290 AC, at Winterfell   \n16                                 In 280 AC   \n17                    In 264 AC, at Riverrun   \n18               In 266 AC, at Casterly Rock   \n19                  In 263 AC, at Winterfell   \n20               In 266 AC, at Casterly Rock   \n21           In or between 263 AC and 265 AC   \n22                                 In 283 AC   \n23  In or between 269 AC and 273 AC, at Pyke   \n24                                 In 244 AC   \n25                                At Unknown   \n26                                 In 262 AC   \n27             In 281 AC, at Sunspear, Dorne   \n28                   In 283 AC, at Horn Hill   \n29                  In 286 AC, at Winterfell   \n\n                                                 died  alive  \n0                                                       True  \n1                                                       True  \n2                                                       True  \n3                        In 297 AC, at Haunted Forest  False  \n4                                                       True  \n5                 In 299 AC, at Fist of the First Men  False  \n6                           In 299 AC, at Dragonstone  False  \n7                                                       True  \n8                                                       True  \n9                                                       True  \n10                                                      True  \n11                       In 300 AC, at the Greenblood  False  \n12                                                      True  \n13                                                      True  \n14            In 300 AC, at a village Beyond the Wall  False  \n15                                                      True  \n16                                                      True  \n17                            In 299 AC, at the Twins  False  \n18                                                      True  \n19  In 299 AC, at Great Sept of Baelor in King's L...  False  \n20                                                      True  \n21                                                      True  \n22                                                      True  \n23                                                      True  \n24                       In 300 AC, at King's Landing  False  \n25                                                      True  \n26                       In 300 AC, at Near Oldstones  False  \n27                              In 300 AC, at Meereen  False  \n28                                                      True  \n29                                                      True  ",
      "text/html": "<div>\n<style scoped>\n    .dataframe tbody tr th:only-of-type {\n        vertical-align: middle;\n    }\n\n    .dataframe tbody tr th {\n        vertical-align: top;\n    }\n\n    .dataframe thead th {\n        text-align: right;\n    }\n</style>\n<table border=\"1\" class=\"dataframe\">\n  <thead>\n    <tr style=\"text-align: right;\">\n      <th></th>\n      <th>id</th>\n      <th>name</th>\n      <th>gender</th>\n      <th>culture</th>\n      <th>born</th>\n      <th>died</th>\n      <th>alive</th>\n    </tr>\n  </thead>\n  <tbody>\n    <tr>\n      <th>0</th>\n      <td>1022</td>\n      <td>Theon Greyjoy</td>\n      <td>Male</td>\n      <td>Ironborn</td>\n      <td>In 278 AC or 279 AC, at Pyke</td>\n      <td></td>\n      <td>True</td>\n    </tr>\n    <tr>\n      <th>1</th>\n      <td>1052</td>\n      <td>Tyrion Lannister</td>\n      <td>Male</td>\n      <td></td>\n      <td>In 273 AC, at Casterly Rock</td>\n      <td></td>\n      <td>True</td>\n    </tr>\n    <tr>\n      <th>2</th>\n      <td>1074</td>\n      <td>Victarion Greyjoy</td>\n      <td>Male</td>\n      <td>Ironborn</td>\n      <td>In 268 AC or before, at Pyke</td>\n      <td></td>\n      <td>True</td>\n    </tr>\n    <tr>\n      <th>3</th>\n      <td>1109</td>\n      <td>Will</td>\n      <td>Male</td>\n      <td></td>\n      <td></td>\n      <td>In 297 AC, at Haunted Forest</td>\n      <td>False</td>\n    </tr>\n    <tr>\n      <th>4</th>\n      <td>1166</td>\n      <td>Areo Hotah</td>\n      <td>Male</td>\n      <td>Norvoshi</td>\n      <td>In 257 AC or before, at Norvos</td>\n      <td></td>\n      <td>True</td>\n    </tr>\n    <tr>\n      <th>5</th>\n      <td>1267</td>\n      <td>Chett</td>\n      <td>Male</td>\n      <td></td>\n      <td>At Hag's Mire</td>\n      <td>In 299 AC, at Fist of the First Men</td>\n      <td>False</td>\n    </tr>\n    <tr>\n      <th>6</th>\n      <td>1295</td>\n      <td>Cressen</td>\n      <td>Male</td>\n      <td></td>\n      <td>In 219 AC or 220 AC</td>\n      <td>In 299 AC, at Dragonstone</td>\n      <td>False</td>\n    </tr>\n    <tr>\n      <th>7</th>\n      <td>130</td>\n      <td>Arianne Martell</td>\n      <td>Female</td>\n      <td>Dornish</td>\n      <td>In 276 AC, at Sunspear</td>\n      <td></td>\n      <td>True</td>\n    </tr>\n    <tr>\n      <th>8</th>\n      <td>1303</td>\n      <td>Daenerys Targaryen</td>\n      <td>Female</td>\n      <td>Valyrian</td>\n      <td>In 284 AC, at Dragonstone</td>\n      <td></td>\n      <td>True</td>\n    </tr>\n    <tr>\n      <th>9</th>\n      <td>1319</td>\n      <td>Davos Seaworth</td>\n      <td>Male</td>\n      <td>Westeros</td>\n      <td>In 260 AC or before, at King's Landing</td>\n      <td></td>\n      <td>True</td>\n    </tr>\n    <tr>\n      <th>10</th>\n      <td>148</td>\n      <td>Arya Stark</td>\n      <td>Female</td>\n      <td>Northmen</td>\n      <td>In 289 AC, at Winterfell</td>\n      <td></td>\n      <td>True</td>\n    </tr>\n    <tr>\n      <th>11</th>\n      <td>149</td>\n      <td>Arys Oakheart</td>\n      <td>Male</td>\n      <td>Reach</td>\n      <td>At Old Oak</td>\n      <td>In 300 AC, at the Greenblood</td>\n      <td>False</td>\n    </tr>\n    <tr>\n      <th>12</th>\n      <td>150</td>\n      <td>Asha Greyjoy</td>\n      <td>Female</td>\n      <td>Ironborn</td>\n      <td>In 275 AC or 276 AC, at Pyke</td>\n      <td></td>\n      <td>True</td>\n    </tr>\n    <tr>\n      <th>13</th>\n      <td>168</td>\n      <td>Barristan Selmy</td>\n      <td>Male</td>\n      <td>Westeros</td>\n      <td>In 237 AC</td>\n      <td></td>\n      <td>True</td>\n    </tr>\n    <tr>\n      <th>14</th>\n      <td>2066</td>\n      <td>Varamyr</td>\n      <td>Male</td>\n      <td>Free Folk</td>\n      <td>At a village Beyond the Wall</td>\n      <td>In 300 AC, at a village Beyond the Wall</td>\n      <td>False</td>\n    </tr>\n    <tr>\n      <th>15</th>\n      <td>208</td>\n      <td>Brandon Stark</td>\n      <td>Male</td>\n      <td>Northmen</td>\n      <td>In 290 AC, at Winterfell</td>\n      <td></td>\n      <td>True</td>\n    </tr>\n    <tr>\n      <th>16</th>\n      <td>216</td>\n      <td>Brienne of Tarth</td>\n      <td>Female</td>\n      <td></td>\n      <td>In 280 AC</td>\n      <td></td>\n      <td>True</td>\n    </tr>\n    <tr>\n      <th>17</th>\n      <td>232</td>\n      <td>Catelyn Stark</td>\n      <td>Female</td>\n      <td>Rivermen</td>\n      <td>In 264 AC, at Riverrun</td>\n      <td>In 299 AC, at the Twins</td>\n      <td>False</td>\n    </tr>\n    <tr>\n      <th>18</th>\n      <td>238</td>\n      <td>Cersei Lannister</td>\n      <td>Female</td>\n      <td>Westerman</td>\n      <td>In 266 AC, at Casterly Rock</td>\n      <td></td>\n      <td>True</td>\n    </tr>\n    <tr>\n      <th>19</th>\n      <td>339</td>\n      <td>Eddard Stark</td>\n      <td>Male</td>\n      <td>Northmen</td>\n      <td>In 263 AC, at Winterfell</td>\n      <td>In 299 AC, at Great Sept of Baelor in King's L...</td>\n      <td>False</td>\n    </tr>\n    <tr>\n      <th>20</th>\n      <td>529</td>\n      <td>Jaime Lannister</td>\n      <td>Male</td>\n      <td>Westerlands</td>\n      <td>In 266 AC, at Casterly Rock</td>\n      <td></td>\n      <td>True</td>\n    </tr>\n    <tr>\n      <th>21</th>\n      <td>576</td>\n      <td>Jon Connington</td>\n      <td>Male</td>\n      <td>Stormlands</td>\n      <td>In or between 263 AC and 265 AC</td>\n      <td></td>\n      <td>True</td>\n    </tr>\n    <tr>\n      <th>22</th>\n      <td>583</td>\n      <td>Jon Snow</td>\n      <td>Male</td>\n      <td>Northmen</td>\n      <td>In 283 AC</td>\n      <td></td>\n      <td>True</td>\n    </tr>\n    <tr>\n      <th>23</th>\n      <td>60</td>\n      <td>Aeron Greyjoy</td>\n      <td>Male</td>\n      <td>Ironborn</td>\n      <td>In or between 269 AC and 273 AC, at Pyke</td>\n      <td></td>\n      <td>True</td>\n    </tr>\n    <tr>\n      <th>24</th>\n      <td>605</td>\n      <td>Kevan Lannister</td>\n      <td>Male</td>\n      <td></td>\n      <td>In 244 AC</td>\n      <td>In 300 AC, at King's Landing</td>\n      <td>False</td>\n    </tr>\n    <tr>\n      <th>25</th>\n      <td>743</td>\n      <td>Melisandre</td>\n      <td>Female</td>\n      <td>Asshai</td>\n      <td>At Unknown</td>\n      <td></td>\n      <td>True</td>\n    </tr>\n    <tr>\n      <th>26</th>\n      <td>751</td>\n      <td>Merrett Frey</td>\n      <td>Male</td>\n      <td>Rivermen</td>\n      <td>In 262 AC</td>\n      <td>In 300 AC, at Near Oldstones</td>\n      <td>False</td>\n    </tr>\n    <tr>\n      <th>27</th>\n      <td>844</td>\n      <td>Quentyn Martell</td>\n      <td>Male</td>\n      <td>Dornish</td>\n      <td>In 281 AC, at Sunspear, Dorne</td>\n      <td>In 300 AC, at Meereen</td>\n      <td>False</td>\n    </tr>\n    <tr>\n      <th>28</th>\n      <td>954</td>\n      <td>Samwell Tarly</td>\n      <td>Male</td>\n      <td>Andal</td>\n      <td>In 283 AC, at Horn Hill</td>\n      <td></td>\n      <td>True</td>\n    </tr>\n    <tr>\n      <th>29</th>\n      <td>957</td>\n      <td>Sansa Stark</td>\n      <td>Female</td>\n      <td>Northmen</td>\n      <td>In 286 AC, at Winterfell</td>\n      <td></td>\n      <td>True</td>\n    </tr>\n  </tbody>\n</table>\n</div>"
     },
     "execution_count": 29,
     "metadata": {},
     "output_type": "execute_result"
    }
   ],
   "source": [
    "characters"
   ],
   "metadata": {
    "collapsed": false,
    "ExecuteTime": {
     "end_time": "2023-11-02T02:34:56.000391Z",
     "start_time": "2023-11-02T02:34:55.909668Z"
    }
   },
   "id": "80b727151e6fc473"
  },
  {
   "cell_type": "code",
   "execution_count": 31,
   "outputs": [
    {
     "data": {
      "text/plain": "((30, 8),\n      id                                             titles  \\\n 0  1022  [Prince of Winterfell, Lord of the Iron Island...   \n 1  1052  [Acting Hand of the King (former), Master of C...   \n 2  1074  [Lord Captain of the Iron Fleet, Master of the...   \n 3  1109                                                      \n 4  1166                   Captain of the Guard at Sunspear   \n \n                                              aliases  \\\n 0  [Prince of Fools, Theon Turncloak, Reek, Theon...   \n 1  [The Imp, Halfman, The boyman, Giant of Lannis...   \n 2                                   The Iron Captain   \n 3                                                      \n 4                                                      \n \n                          allegiances  \\\n 0              House Greyjoy of Pyke   \n 1   House Lannister of Casterly Rock   \n 2              House Greyjoy of Pyke   \n 3                                 []   \n 4  House Nymeros Martell of Sunspear   \n \n                                                books  \\\n 0  [A Game of Thrones, A Storm of Swords, A Feast...   \n 1     [A Feast for Crows, The World of Ice and Fire]   \n 2  [A Game of Thrones, A Clash of Kings, A Storm ...   \n 3                                   A Clash of Kings   \n 4  [A Game of Thrones, A Clash of Kings, A Storm ...   \n \n                                             povBooks  \\\n 0           [A Clash of Kings, A Dance with Dragons]   \n 1  [A Game of Thrones, A Clash of Kings, A Storm ...   \n 2          [A Feast for Crows, A Dance with Dragons]   \n 3                                  A Game of Thrones   \n 4          [A Feast for Crows, A Dance with Dragons]   \n \n                                             tvSeries        playedBy  \n 0  [Season 1, Season 2, Season 3, Season 4, Seaso...     Alfie Allen  \n 1  [Season 1, Season 2, Season 3, Season 4, Seaso...  Peter Dinklage  \n 2                                                                     \n 3                                                       Bronson Webb  \n 4                               [Season 5, Season 6]   DeObia Oparei  )"
     },
     "execution_count": 31,
     "metadata": {},
     "output_type": "execute_result"
    }
   ],
   "source": [
    "# We need to find columns where the data type is 'object' which can contain lists\n",
    "# and then check if any cell in the column is actually a list.\n",
    "\n",
    "# Select columns with 'object' dtype which can potentially contain lists\n",
    "object_columns = chars_wider.select_dtypes(include=['object'])\n",
    "\n",
    "# Now filter these columns to find which ones contain lists\n",
    "columns_with_lists = object_columns.applymap(lambda x: isinstance(x, list)).any()\n",
    "\n",
    "# Create a list of column names that contain lists\n",
    "list_column_names = columns_with_lists[columns_with_lists].index.tolist()\n",
    "\n",
    "# Now select the 'id' column and the columns that contain lists\n",
    "characters_with_list_data = chars_wider[['id'] + list_column_names]\n",
    "\n",
    "# Verify the result\n",
    "characters_with_list_data_shape = characters_with_list_data.shape\n",
    "characters_with_list_data_head = characters_with_list_data.head()  # Display the first few rows for inspection\n",
    "\n",
    "characters_with_list_data_shape, characters_with_list_data_head"
   ],
   "metadata": {
    "collapsed": false,
    "ExecuteTime": {
     "end_time": "2023-11-02T02:36:43.551272Z",
     "start_time": "2023-11-02T02:36:43.538634Z"
    }
   },
   "id": "9528344cbd37ea2a"
  },
  {
   "cell_type": "code",
   "execution_count": 32,
   "outputs": [
    {
     "data": {
      "text/plain": "((59, 2),\n      id                                             titles\n 0  1022                               Prince of Winterfell\n 0  1022  Lord of the Iron Islands (by law of the green ...\n 1  1052                   Acting Hand of the King (former)\n 1  1052                            Master of Coin (former)\n 2  1074                     Lord Captain of the Iron Fleet)"
     },
     "execution_count": 32,
     "metadata": {},
     "output_type": "execute_result"
    }
   ],
   "source": [
    "# To unnest the 'titles' column into a longer format, where each title has its own row,\n",
    "# we will use the DataFrame's explode method. This method transforms each element of a list-like\n",
    "# into a row, replicating the index values.\n",
    "\n",
    "# First, select the 'id' and 'titles' columns from chars_wider DataFrame\n",
    "chars_id_titles = chars_wider[['id', 'titles']]\n",
    "\n",
    "# Now, use explode on the 'titles' column\n",
    "chars_longer_titles = chars_id_titles.explode('titles')\n",
    "\n",
    "# Verify the result\n",
    "chars_longer_titles_shape = chars_longer_titles.shape\n",
    "chars_longer_titles_head = chars_longer_titles.head()  # Display the first few rows for inspection\n",
    "\n",
    "chars_longer_titles_shape, chars_longer_titles_head"
   ],
   "metadata": {
    "collapsed": false,
    "ExecuteTime": {
     "end_time": "2023-11-02T02:37:56.262565Z",
     "start_time": "2023-11-02T02:37:56.098997Z"
    }
   },
   "id": "f4131be678d907b8"
  },
  {
   "cell_type": "code",
   "execution_count": 33,
   "outputs": [
    {
     "data": {
      "text/plain": "((52, 2),\n      id                                              title\n 0  1022                               Prince of Winterfell\n 0  1022  Lord of the Iron Islands (by law of the green ...\n 1  1052                   Acting Hand of the King (former)\n 1  1052                            Master of Coin (former)\n 2  1074                     Lord Captain of the Iron Fleet)"
     },
     "execution_count": 33,
     "metadata": {},
     "output_type": "execute_result"
    }
   ],
   "source": [
    "# To filter out rows where 'titles' is an empty string, we will use the DataFrame's query method.\n",
    "# After that, we will rename the 'titles' column to 'title'.\n",
    "\n",
    "# Filter out the rows where 'titles' column is an empty string\n",
    "chars_titles_filtered = chars_longer_titles.query(\"titles != ''\")\n",
    "\n",
    "# Rename the 'titles' column to 'title'\n",
    "chars_titles_filtered = chars_titles_filtered.rename(columns={'titles': 'title'})\n",
    "\n",
    "# Verify the result\n",
    "titles_shape = chars_titles_filtered.shape\n",
    "titles_head = chars_titles_filtered.head()  # Display the first few rows for inspection\n",
    "\n",
    "titles_shape, titles_head"
   ],
   "metadata": {
    "collapsed": false,
    "ExecuteTime": {
     "end_time": "2023-11-02T02:38:53.600948Z",
     "start_time": "2023-11-02T02:38:53.424197Z"
    }
   },
   "id": "f2b154f22b4def07"
  },
  {
   "cell_type": "code",
   "execution_count": null,
   "outputs": [],
   "source": [],
   "metadata": {
    "collapsed": false
   },
   "id": "5936197d9442d81c"
  },
  {
   "cell_type": "code",
   "execution_count": 36,
   "outputs": [
    {
     "data": {
      "text/plain": "     id    name                                              value\n0  1022  titles                               Prince of Winterfell\n0  1022  titles  Lord of the Iron Islands (by law of the green ...\n1  1052  titles                   Acting Hand of the King (former)\n1  1052  titles                            Master of Coin (former)\n2  1074  titles                     Lord Captain of the Iron Fleet",
      "text/html": "<div>\n<style scoped>\n    .dataframe tbody tr th:only-of-type {\n        vertical-align: middle;\n    }\n\n    .dataframe tbody tr th {\n        vertical-align: top;\n    }\n\n    .dataframe thead th {\n        text-align: right;\n    }\n</style>\n<table border=\"1\" class=\"dataframe\">\n  <thead>\n    <tr style=\"text-align: right;\">\n      <th></th>\n      <th>id</th>\n      <th>name</th>\n      <th>value</th>\n    </tr>\n  </thead>\n  <tbody>\n    <tr>\n      <th>0</th>\n      <td>1022</td>\n      <td>titles</td>\n      <td>Prince of Winterfell</td>\n    </tr>\n    <tr>\n      <th>0</th>\n      <td>1022</td>\n      <td>titles</td>\n      <td>Lord of the Iron Islands (by law of the green ...</td>\n    </tr>\n    <tr>\n      <th>1</th>\n      <td>1052</td>\n      <td>titles</td>\n      <td>Acting Hand of the King (former)</td>\n    </tr>\n    <tr>\n      <th>1</th>\n      <td>1052</td>\n      <td>titles</td>\n      <td>Master of Coin (former)</td>\n    </tr>\n    <tr>\n      <th>2</th>\n      <td>1074</td>\n      <td>titles</td>\n      <td>Lord Captain of the Iron Fleet</td>\n    </tr>\n  </tbody>\n</table>\n</div>"
     },
     "execution_count": 36,
     "metadata": {},
     "output_type": "execute_result"
    }
   ],
   "source": [
    "# First, let's recreate the dataframe from the 'got_chars' json, similar to the earlier steps.\n",
    "# Then, we will perform the equivalent operations in Python as described in the R code.\n",
    "\n",
    "# Assuming 'got_chars' is a JSON string or a path to a .json file containing the Game of Thrones characters data.\n",
    "\n",
    "# Read the JSON data into a DataFrame\n",
    "got_chars_df = pd.read_json('data/got_chars.json')\n",
    "\n",
    "# Filter out the columns where the data type is list\n",
    "is_list = lambda x: isinstance(x, list)\n",
    "list_columns = got_chars_df.applymap(is_list).any()\n",
    "list_column_names = list_columns[list_columns].index.tolist()\n",
    "\n",
    "# Select the 'id' column and the columns that contain lists\n",
    "df_with_lists = got_chars_df[['id'] + list_column_names]\n",
    "\n",
    "# Pivot longer, where each list becomes a row, and the list's original column name becomes a value in the 'name' column\n",
    "df_pivot_longer = df_with_lists.melt(id_vars=['id'], value_vars=list_column_names, var_name='name', value_name='value')\n",
    "\n",
    "# Unnest the 'value' column which contains lists into longer format\n",
    "df_unnest_longer = df_pivot_longer.explode('value')\n",
    "\n",
    "df_unnest_longer.head()"
   ],
   "metadata": {
    "collapsed": false,
    "ExecuteTime": {
     "end_time": "2023-11-02T02:53:58.338496Z",
     "start_time": "2023-11-02T02:53:58.215332Z"
    }
   },
   "id": "f196ebea37fec462"
  },
  {
   "cell_type": "code",
   "execution_count": 34,
   "outputs": [
    {
     "data": {
      "text/plain": "((1, int),\n ([1, 2, 3], list),\n ({'x': [1, 2, 3]}, dict),\n     name  age\n 0   John   34\n 1  Susan   27,\n     name  age\n 0   John   34\n 1  Susan   27,\n     name  age\n 0   John   34\n 1  Susan   27,\n                                          json\n 0  {'x': ['a', 'x', 'z'], 'y': [10, None, 3]},\n    x     y\n 0  a  10.0\n 1  x   NaN\n 2  z   3.0)"
     },
     "execution_count": 34,
     "metadata": {},
     "output_type": "execute_result"
    }
   ],
   "source": [
    "import json\n",
    "import pandas as pd\n",
    "\n",
    "# Parsing JSON strings and printing their data types using Python's json.loads() and type()\n",
    "parsed_json_1 = json.loads('1')\n",
    "parsed_json_array = json.loads('[1, 2, 3]')\n",
    "parsed_json_object = json.loads('{\"x\": [1, 2, 3]}')\n",
    "\n",
    "# Creating a DataFrame from a JSON string that represents an array of objects\n",
    "json_array = '[{\"name\": \"John\", \"age\": 34}, {\"name\": \"Susan\", \"age\": 27}]'\n",
    "df_array = pd.DataFrame(json.loads(json_array))\n",
    "\n",
    "# Unnesting a wider DataFrame directly from the parsed JSON\n",
    "df_array_wider = pd.json_normalize(json.loads(json_array))\n",
    "\n",
    "# Creating a DataFrame from a JSON string that represents an object containing an array of objects\n",
    "json_object = '''\n",
    "{\n",
    "  \"status\": \"OK\",\n",
    "  \"results\": [\n",
    "    {\"name\": \"John\", \"age\": 34},\n",
    "    {\"name\": \"Susan\", \"age\": 27}\n",
    "  ]\n",
    "}\n",
    "'''\n",
    "df_object = pd.DataFrame({'json': [json.loads(json_object)]})\n",
    "\n",
    "# Unnesting the 'results' field from the JSON object into a DataFrame, then unnesting it longer and wider\n",
    "df_results_longer_wider = pd.json_normalize(json.loads(json_object), 'results')\n",
    "\n",
    "# Creating a DataFrame directly from the 'results' field in the parsed JSON object\n",
    "df_results = pd.json_normalize(json.loads(json_object), 'results')\n",
    "\n",
    "# Creating DataFrames from JSON strings that represent an object and an array of objects, respectively\n",
    "json_col = '''\n",
    "{\n",
    "  \"x\": [\"a\", \"x\", \"z\"],\n",
    "  \"y\": [10, null, 3]\n",
    "}\n",
    "'''\n",
    "json_row = '''\n",
    "[\n",
    "  {\"x\": \"a\", \"y\": 10},\n",
    "  {\"x\": \"x\", \"y\": null},\n",
    "  {\"x\": \"z\", \"y\": 3}\n",
    "]\n",
    "'''\n",
    "df_col = pd.DataFrame({'json': [json.loads(json_col)]})\n",
    "df_row = pd.DataFrame(json.loads(json_row))\n",
    "\n",
    "# Display the types of the parsed JSON and the DataFrames created\n",
    "(parsed_json_1, type(parsed_json_1)), (parsed_json_array, type(parsed_json_array)), (parsed_json_object, type(parsed_json_object)), df_array, df_array_wider, df_results_longer_wider, df_col, df_row\n"
   ],
   "metadata": {
    "collapsed": false,
    "ExecuteTime": {
     "end_time": "2023-11-02T02:50:27.326281Z",
     "start_time": "2023-11-02T02:50:27.267016Z"
    }
   },
   "id": "bea9d04d8ea877af"
  },
  {
   "cell_type": "code",
   "execution_count": 38,
   "outputs": [
    {
     "ename": "AttributeError",
     "evalue": "module 'rpy2.robjects.pandas2ri' has no attribute 'ri2py'",
     "output_type": "error",
     "traceback": [
      "\u001B[0;31m---------------------------------------------------------------------------\u001B[0m",
      "\u001B[0;31mAttributeError\u001B[0m                            Traceback (most recent call last)",
      "Input \u001B[0;32mIn [38]\u001B[0m, in \u001B[0;36m<cell line: 15>\u001B[0;34m()\u001B[0m\n\u001B[1;32m     12\u001B[0m gmaps_cities_r \u001B[38;5;241m=\u001B[39m ro\u001B[38;5;241m.\u001B[39mr(\u001B[38;5;124m'\u001B[39m\u001B[38;5;124mgmaps_cities\u001B[39m\u001B[38;5;124m'\u001B[39m)\n\u001B[1;32m     14\u001B[0m \u001B[38;5;66;03m# Convert to a pandas DataFrame\u001B[39;00m\n\u001B[0;32m---> 15\u001B[0m gmaps_cities_df \u001B[38;5;241m=\u001B[39m \u001B[43mpandas2ri\u001B[49m\u001B[38;5;241;43m.\u001B[39;49m\u001B[43mri2py\u001B[49m(gmaps_cities_r)\n",
      "\u001B[0;31mAttributeError\u001B[0m: module 'rpy2.robjects.pandas2ri' has no attribute 'ri2py'"
     ]
    }
   ],
   "source": [
    "import rpy2.robjects as ro\n",
    "from rpy2.robjects import pandas2ri\n",
    "from rpy2.robjects.packages import importr\n",
    "\n",
    "# Activate the automatic conversion of rpy2 objects to pandas objects\n",
    "pandas2ri.activate()\n",
    "\n",
    "# Import the R package\n",
    "repurrrsive = importr('repurrrsive')\n",
    "\n",
    "# Load the gmaps_cities dataset\n",
    "gmaps_cities_r = ro.r('gmaps_cities')\n",
    "\n",
    "# Convert to a pandas DataFrame\n",
    "gmaps_cities_df = pandas2ri.ri2py(gmaps_cities_r)\n"
   ],
   "metadata": {
    "collapsed": false,
    "ExecuteTime": {
     "end_time": "2023-11-02T03:14:01.810515Z",
     "start_time": "2023-11-02T03:13:56.038950Z"
    }
   },
   "id": "45135d50721d7dc5"
  },
  {
   "cell_type": "code",
   "execution_count": 40,
   "outputs": [
    {
     "ename": "TypeError",
     "evalue": "'NULLType' object is not iterable",
     "output_type": "error",
     "traceback": [
      "\u001B[0;31m---------------------------------------------------------------------------\u001B[0m",
      "\u001B[0;31mTypeError\u001B[0m                                 Traceback (most recent call last)",
      "Input \u001B[0;32mIn [40]\u001B[0m, in \u001B[0;36m<cell line: 11>\u001B[0;34m()\u001B[0m\n\u001B[1;32m     11\u001B[0m \u001B[38;5;28;01mfor\u001B[39;00m i \u001B[38;5;129;01min\u001B[39;00m \u001B[38;5;28mrange\u001B[39m(\u001B[38;5;28mlen\u001B[39m(gmaps_cities_r)):\n\u001B[1;32m     12\u001B[0m     \u001B[38;5;28;01mwith\u001B[39;00m conversion\u001B[38;5;241m.\u001B[39mlocalconverter(ro\u001B[38;5;241m.\u001B[39mdefault_converter \u001B[38;5;241m+\u001B[39m ro\u001B[38;5;241m.\u001B[39mpandas2ri\u001B[38;5;241m.\u001B[39mconverter):\n\u001B[0;32m---> 13\u001B[0m         python_dict \u001B[38;5;241m=\u001B[39m \u001B[43mconversion\u001B[49m\u001B[38;5;241;43m.\u001B[39;49m\u001B[43mrpy2py\u001B[49m\u001B[43m(\u001B[49m\u001B[43mgmaps_cities_r\u001B[49m\u001B[43m[\u001B[49m\u001B[43mi\u001B[49m\u001B[43m]\u001B[49m\u001B[43m)\u001B[49m\n\u001B[1;32m     14\u001B[0m         python_list\u001B[38;5;241m.\u001B[39mappend(python_dict)\n\u001B[1;32m     16\u001B[0m \u001B[38;5;66;03m# At this point, python_list is a list of Python dictionaries\u001B[39;00m\n\u001B[1;32m     17\u001B[0m \u001B[38;5;66;03m# You can now create a pandas DataFrame from it\u001B[39;00m\n",
      "File \u001B[0;32m~/opt/anaconda3/lib/python3.8/site-packages/rpy2/robjects/conversion.py:415\u001B[0m, in \u001B[0;36m_deprecated_rpy2py\u001B[0;34m(obj)\u001B[0m\n\u001B[1;32m    412\u001B[0m \u001B[38;5;28;01mdef\u001B[39;00m \u001B[38;5;21m_deprecated_rpy2py\u001B[39m(\n\u001B[1;32m    413\u001B[0m         obj: Any\n\u001B[1;32m    414\u001B[0m ) \u001B[38;5;241m-\u001B[39m\u001B[38;5;241m>\u001B[39m _rinterface_capi\u001B[38;5;241m.\u001B[39mSupportsSEXP:\n\u001B[0;32m--> 415\u001B[0m     \u001B[38;5;28;01mreturn\u001B[39;00m \u001B[43mconverter_ctx\u001B[49m\u001B[38;5;241;43m.\u001B[39;49m\u001B[43mget\u001B[49m\u001B[43m(\u001B[49m\u001B[38;5;124;43m'\u001B[39;49m\u001B[38;5;124;43mconverter\u001B[39;49m\u001B[38;5;124;43m'\u001B[39;49m\u001B[43m)\u001B[49m\u001B[38;5;241;43m.\u001B[39;49m\u001B[43mrpy2py\u001B[49m\u001B[43m(\u001B[49m\u001B[43mobj\u001B[49m\u001B[43m)\u001B[49m\n",
      "File \u001B[0;32m~/opt/anaconda3/lib/python3.8/functools.py:875\u001B[0m, in \u001B[0;36msingledispatch.<locals>.wrapper\u001B[0;34m(*args, **kw)\u001B[0m\n\u001B[1;32m    871\u001B[0m \u001B[38;5;28;01mif\u001B[39;00m \u001B[38;5;129;01mnot\u001B[39;00m args:\n\u001B[1;32m    872\u001B[0m     \u001B[38;5;28;01mraise\u001B[39;00m \u001B[38;5;167;01mTypeError\u001B[39;00m(\u001B[38;5;124mf\u001B[39m\u001B[38;5;124m'\u001B[39m\u001B[38;5;132;01m{\u001B[39;00mfuncname\u001B[38;5;132;01m}\u001B[39;00m\u001B[38;5;124m requires at least \u001B[39m\u001B[38;5;124m'\u001B[39m\n\u001B[1;32m    873\u001B[0m                     \u001B[38;5;124m'\u001B[39m\u001B[38;5;124m1 positional argument\u001B[39m\u001B[38;5;124m'\u001B[39m)\n\u001B[0;32m--> 875\u001B[0m \u001B[38;5;28;01mreturn\u001B[39;00m \u001B[43mdispatch\u001B[49m\u001B[43m(\u001B[49m\u001B[43margs\u001B[49m\u001B[43m[\u001B[49m\u001B[38;5;241;43m0\u001B[39;49m\u001B[43m]\u001B[49m\u001B[38;5;241;43m.\u001B[39;49m\u001B[38;5;18;43m__class__\u001B[39;49m\u001B[43m)\u001B[49m\u001B[43m(\u001B[49m\u001B[38;5;241;43m*\u001B[39;49m\u001B[43margs\u001B[49m\u001B[43m,\u001B[49m\u001B[43m \u001B[49m\u001B[38;5;241;43m*\u001B[39;49m\u001B[38;5;241;43m*\u001B[39;49m\u001B[43mkw\u001B[49m\u001B[43m)\u001B[49m\n",
      "File \u001B[0;32m~/opt/anaconda3/lib/python3.8/site-packages/rpy2/robjects/pandas2ri.py:332\u001B[0m, in \u001B[0;36mrpy2py_dataframe\u001B[0;34m(obj)\u001B[0m\n\u001B[1;32m    330\u001B[0m rpy2py \u001B[38;5;241m=\u001B[39m conversion\u001B[38;5;241m.\u001B[39mget_conversion()\u001B[38;5;241m.\u001B[39mrpy2py\n\u001B[1;32m    331\u001B[0m colnames_lst \u001B[38;5;241m=\u001B[39m []\n\u001B[0;32m--> 332\u001B[0m od \u001B[38;5;241m=\u001B[39m \u001B[43mOrderedDict\u001B[49m\u001B[43m(\u001B[49m\n\u001B[1;32m    333\u001B[0m \u001B[43m    \u001B[49m\u001B[43m(\u001B[49m\u001B[43mi\u001B[49m\u001B[43m,\u001B[49m\u001B[43m \u001B[49m\u001B[43mrpy2py\u001B[49m\u001B[43m(\u001B[49m\u001B[43mcol\u001B[49m\u001B[43m)\u001B[49m\u001B[43m \u001B[49m\u001B[38;5;28;43;01mif\u001B[39;49;00m\u001B[43m \u001B[49m\u001B[38;5;28;43misinstance\u001B[39;49m\u001B[43m(\u001B[49m\u001B[43mcol\u001B[49m\u001B[43m,\u001B[49m\u001B[43m \u001B[49m\u001B[43mrinterface\u001B[49m\u001B[38;5;241;43m.\u001B[39;49m\u001B[43mSexpVector\u001B[49m\u001B[43m)\u001B[49m\u001B[43m \u001B[49m\u001B[38;5;28;43;01melse\u001B[39;49;00m\u001B[43m \u001B[49m\u001B[43mcol\u001B[49m\u001B[43m)\u001B[49m\n\u001B[1;32m    334\u001B[0m \u001B[43m    \u001B[49m\u001B[38;5;28;43;01mfor\u001B[39;49;00m\u001B[43m \u001B[49m\u001B[43mi\u001B[49m\u001B[43m,\u001B[49m\u001B[43m \u001B[49m\u001B[43mcol\u001B[49m\u001B[43m \u001B[49m\u001B[38;5;129;43;01min\u001B[39;49;00m\u001B[43m \u001B[49m\u001B[38;5;28;43menumerate\u001B[39;49m\u001B[43m(\u001B[49m\u001B[43m_flatten_dataframe\u001B[49m\u001B[43m(\u001B[49m\u001B[43mobj\u001B[49m\u001B[43m,\u001B[49m\u001B[43m \u001B[49m\u001B[43mcolnames_lst\u001B[49m\u001B[43m)\u001B[49m\u001B[43m)\u001B[49m\n\u001B[1;32m    335\u001B[0m \u001B[43m\u001B[49m\u001B[43m)\u001B[49m\n\u001B[1;32m    337\u001B[0m res \u001B[38;5;241m=\u001B[39m pandas\u001B[38;5;241m.\u001B[39mDataFrame\u001B[38;5;241m.\u001B[39mfrom_dict(od)\n\u001B[1;32m    338\u001B[0m res\u001B[38;5;241m.\u001B[39mcolumns \u001B[38;5;241m=\u001B[39m \u001B[38;5;28mtuple\u001B[39m(\u001B[38;5;124m'\u001B[39m\u001B[38;5;124m.\u001B[39m\u001B[38;5;124m'\u001B[39m\u001B[38;5;241m.\u001B[39mjoin(_) \u001B[38;5;28;01mif\u001B[39;00m \u001B[38;5;28misinstance\u001B[39m(_, \u001B[38;5;28mlist\u001B[39m) \u001B[38;5;28;01melse\u001B[39;00m _ \u001B[38;5;28;01mfor\u001B[39;00m _ \u001B[38;5;129;01min\u001B[39;00m colnames_lst)\n",
      "File \u001B[0;32m~/opt/anaconda3/lib/python3.8/site-packages/rpy2/robjects/pandas2ri.py:332\u001B[0m, in \u001B[0;36m<genexpr>\u001B[0;34m(.0)\u001B[0m\n\u001B[1;32m    330\u001B[0m rpy2py \u001B[38;5;241m=\u001B[39m conversion\u001B[38;5;241m.\u001B[39mget_conversion()\u001B[38;5;241m.\u001B[39mrpy2py\n\u001B[1;32m    331\u001B[0m colnames_lst \u001B[38;5;241m=\u001B[39m []\n\u001B[0;32m--> 332\u001B[0m od \u001B[38;5;241m=\u001B[39m OrderedDict(\n\u001B[1;32m    333\u001B[0m     (i, rpy2py(col) \u001B[38;5;28;01mif\u001B[39;00m \u001B[38;5;28misinstance\u001B[39m(col, rinterface\u001B[38;5;241m.\u001B[39mSexpVector) \u001B[38;5;28;01melse\u001B[39;00m col)\n\u001B[1;32m    334\u001B[0m     \u001B[38;5;28;01mfor\u001B[39;00m i, col \u001B[38;5;129;01min\u001B[39;00m \u001B[38;5;28menumerate\u001B[39m(_flatten_dataframe(obj, colnames_lst))\n\u001B[1;32m    335\u001B[0m )\n\u001B[1;32m    337\u001B[0m res \u001B[38;5;241m=\u001B[39m pandas\u001B[38;5;241m.\u001B[39mDataFrame\u001B[38;5;241m.\u001B[39mfrom_dict(od)\n\u001B[1;32m    338\u001B[0m res\u001B[38;5;241m.\u001B[39mcolumns \u001B[38;5;241m=\u001B[39m \u001B[38;5;28mtuple\u001B[39m(\u001B[38;5;124m'\u001B[39m\u001B[38;5;124m.\u001B[39m\u001B[38;5;124m'\u001B[39m\u001B[38;5;241m.\u001B[39mjoin(_) \u001B[38;5;28;01mif\u001B[39;00m \u001B[38;5;28misinstance\u001B[39m(_, \u001B[38;5;28mlist\u001B[39m) \u001B[38;5;28;01melse\u001B[39;00m _ \u001B[38;5;28;01mfor\u001B[39;00m _ \u001B[38;5;129;01min\u001B[39;00m colnames_lst)\n",
      "File \u001B[0;32m~/opt/anaconda3/lib/python3.8/site-packages/rpy2/robjects/pandas2ri.py:316\u001B[0m, in \u001B[0;36m_flatten_dataframe\u001B[0;34m(obj, colnames_lst)\u001B[0m\n\u001B[1;32m    303\u001B[0m \u001B[38;5;28;01mdef\u001B[39;00m \u001B[38;5;21m_flatten_dataframe\u001B[39m(obj, colnames_lst):\n\u001B[1;32m    304\u001B[0m \u001B[38;5;250m    \u001B[39m\u001B[38;5;124;03m\"\"\"Make each element in a list of columns or group of\u001B[39;00m\n\u001B[1;32m    305\u001B[0m \u001B[38;5;124;03m    columns iterable.\u001B[39;00m\n\u001B[1;32m    306\u001B[0m \n\u001B[0;32m   (...)\u001B[0m\n\u001B[1;32m    314\u001B[0m \u001B[38;5;124;03m    column names.\u001B[39;00m\n\u001B[1;32m    315\u001B[0m \u001B[38;5;124;03m    \"\"\"\u001B[39;00m\n\u001B[0;32m--> 316\u001B[0m     \u001B[38;5;28;01mfor\u001B[39;00m i, n \u001B[38;5;129;01min\u001B[39;00m \u001B[38;5;28;43menumerate\u001B[39;49m\u001B[43m(\u001B[49m\u001B[43mobj\u001B[49m\u001B[38;5;241;43m.\u001B[39;49m\u001B[43mcolnames\u001B[49m\u001B[43m)\u001B[49m:\n\u001B[1;32m    317\u001B[0m         col \u001B[38;5;241m=\u001B[39m obj[i]\n\u001B[1;32m    318\u001B[0m         \u001B[38;5;28;01mif\u001B[39;00m \u001B[38;5;28misinstance\u001B[39m(col, ListSexpVector):\n",
      "\u001B[0;31mTypeError\u001B[0m: 'NULLType' object is not iterable"
     ]
    }
   ],
   "source": [
    "import rpy2.robjects as ro\n",
    "from rpy2.robjects import conversion\n",
    "\n",
    "# Load the R data\n",
    "gmaps_cities_r = ro.r('gmaps_cities')\n",
    "\n",
    "# Initialize an empty list to hold the converted Python dictionaries\n",
    "python_list = []\n",
    "\n",
    "# Convert each element of the R list to a Python dictionary\n",
    "for i in range(len(gmaps_cities_r)):\n",
    "    with conversion.localconverter(ro.default_converter + ro.pandas2ri.converter):\n",
    "        python_dict = conversion.rpy2py(gmaps_cities_r[i])\n",
    "        python_list.append(python_dict)\n",
    "\n",
    "# At this point, python_list is a list of Python dictionaries\n",
    "# You can now create a pandas DataFrame from it\n",
    "gmaps_cities_df = pd.DataFrame(python_list)\n",
    "\n"
   ],
   "metadata": {
    "collapsed": false,
    "ExecuteTime": {
     "end_time": "2023-11-02T03:19:20.971607Z",
     "start_time": "2023-11-02T03:19:20.543643Z"
    }
   },
   "id": "d5eef54bbfb02402"
  },
  {
   "cell_type": "code",
   "execution_count": 42,
   "outputs": [
    {
     "ename": "TypeError",
     "evalue": "'NULLType' object is not iterable",
     "output_type": "error",
     "traceback": [
      "\u001B[0;31m---------------------------------------------------------------------------\u001B[0m",
      "\u001B[0;31mTypeError\u001B[0m                                 Traceback (most recent call last)",
      "Input \u001B[0;32mIn [42]\u001B[0m, in \u001B[0;36m<cell line: 12>\u001B[0;34m()\u001B[0m\n\u001B[1;32m     17\u001B[0m     \u001B[38;5;66;03m# For non-NULL values, perform the conversion\u001B[39;00m\n\u001B[1;32m     18\u001B[0m     \u001B[38;5;28;01mwith\u001B[39;00m conversion\u001B[38;5;241m.\u001B[39mlocalconverter(ro\u001B[38;5;241m.\u001B[39mdefault_converter \u001B[38;5;241m+\u001B[39m ro\u001B[38;5;241m.\u001B[39mpandas2ri\u001B[38;5;241m.\u001B[39mconverter):\n\u001B[0;32m---> 19\u001B[0m         python_obj \u001B[38;5;241m=\u001B[39m \u001B[43mconversion\u001B[49m\u001B[38;5;241;43m.\u001B[39;49m\u001B[43mrpy2py\u001B[49m\u001B[43m(\u001B[49m\u001B[43mgmaps_cities_r\u001B[49m\u001B[43m[\u001B[49m\u001B[43mi\u001B[49m\u001B[43m]\u001B[49m\u001B[43m)\u001B[49m\n\u001B[1;32m     20\u001B[0m         python_list\u001B[38;5;241m.\u001B[39mappend(python_obj)\n\u001B[1;32m     22\u001B[0m \u001B[38;5;66;03m# Now, python_list is a list of Python objects, which you can convert to a pandas DataFrame\u001B[39;00m\n\u001B[1;32m     23\u001B[0m \u001B[38;5;66;03m# You may need additional processing depending on the structure of the objects\u001B[39;00m\n",
      "File \u001B[0;32m~/opt/anaconda3/lib/python3.8/site-packages/rpy2/robjects/conversion.py:415\u001B[0m, in \u001B[0;36m_deprecated_rpy2py\u001B[0;34m(obj)\u001B[0m\n\u001B[1;32m    412\u001B[0m \u001B[38;5;28;01mdef\u001B[39;00m \u001B[38;5;21m_deprecated_rpy2py\u001B[39m(\n\u001B[1;32m    413\u001B[0m         obj: Any\n\u001B[1;32m    414\u001B[0m ) \u001B[38;5;241m-\u001B[39m\u001B[38;5;241m>\u001B[39m _rinterface_capi\u001B[38;5;241m.\u001B[39mSupportsSEXP:\n\u001B[0;32m--> 415\u001B[0m     \u001B[38;5;28;01mreturn\u001B[39;00m \u001B[43mconverter_ctx\u001B[49m\u001B[38;5;241;43m.\u001B[39;49m\u001B[43mget\u001B[49m\u001B[43m(\u001B[49m\u001B[38;5;124;43m'\u001B[39;49m\u001B[38;5;124;43mconverter\u001B[39;49m\u001B[38;5;124;43m'\u001B[39;49m\u001B[43m)\u001B[49m\u001B[38;5;241;43m.\u001B[39;49m\u001B[43mrpy2py\u001B[49m\u001B[43m(\u001B[49m\u001B[43mobj\u001B[49m\u001B[43m)\u001B[49m\n",
      "File \u001B[0;32m~/opt/anaconda3/lib/python3.8/functools.py:875\u001B[0m, in \u001B[0;36msingledispatch.<locals>.wrapper\u001B[0;34m(*args, **kw)\u001B[0m\n\u001B[1;32m    871\u001B[0m \u001B[38;5;28;01mif\u001B[39;00m \u001B[38;5;129;01mnot\u001B[39;00m args:\n\u001B[1;32m    872\u001B[0m     \u001B[38;5;28;01mraise\u001B[39;00m \u001B[38;5;167;01mTypeError\u001B[39;00m(\u001B[38;5;124mf\u001B[39m\u001B[38;5;124m'\u001B[39m\u001B[38;5;132;01m{\u001B[39;00mfuncname\u001B[38;5;132;01m}\u001B[39;00m\u001B[38;5;124m requires at least \u001B[39m\u001B[38;5;124m'\u001B[39m\n\u001B[1;32m    873\u001B[0m                     \u001B[38;5;124m'\u001B[39m\u001B[38;5;124m1 positional argument\u001B[39m\u001B[38;5;124m'\u001B[39m)\n\u001B[0;32m--> 875\u001B[0m \u001B[38;5;28;01mreturn\u001B[39;00m \u001B[43mdispatch\u001B[49m\u001B[43m(\u001B[49m\u001B[43margs\u001B[49m\u001B[43m[\u001B[49m\u001B[38;5;241;43m0\u001B[39;49m\u001B[43m]\u001B[49m\u001B[38;5;241;43m.\u001B[39;49m\u001B[38;5;18;43m__class__\u001B[39;49m\u001B[43m)\u001B[49m\u001B[43m(\u001B[49m\u001B[38;5;241;43m*\u001B[39;49m\u001B[43margs\u001B[49m\u001B[43m,\u001B[49m\u001B[43m \u001B[49m\u001B[38;5;241;43m*\u001B[39;49m\u001B[38;5;241;43m*\u001B[39;49m\u001B[43mkw\u001B[49m\u001B[43m)\u001B[49m\n",
      "File \u001B[0;32m~/opt/anaconda3/lib/python3.8/site-packages/rpy2/robjects/pandas2ri.py:332\u001B[0m, in \u001B[0;36mrpy2py_dataframe\u001B[0;34m(obj)\u001B[0m\n\u001B[1;32m    330\u001B[0m rpy2py \u001B[38;5;241m=\u001B[39m conversion\u001B[38;5;241m.\u001B[39mget_conversion()\u001B[38;5;241m.\u001B[39mrpy2py\n\u001B[1;32m    331\u001B[0m colnames_lst \u001B[38;5;241m=\u001B[39m []\n\u001B[0;32m--> 332\u001B[0m od \u001B[38;5;241m=\u001B[39m \u001B[43mOrderedDict\u001B[49m\u001B[43m(\u001B[49m\n\u001B[1;32m    333\u001B[0m \u001B[43m    \u001B[49m\u001B[43m(\u001B[49m\u001B[43mi\u001B[49m\u001B[43m,\u001B[49m\u001B[43m \u001B[49m\u001B[43mrpy2py\u001B[49m\u001B[43m(\u001B[49m\u001B[43mcol\u001B[49m\u001B[43m)\u001B[49m\u001B[43m \u001B[49m\u001B[38;5;28;43;01mif\u001B[39;49;00m\u001B[43m \u001B[49m\u001B[38;5;28;43misinstance\u001B[39;49m\u001B[43m(\u001B[49m\u001B[43mcol\u001B[49m\u001B[43m,\u001B[49m\u001B[43m \u001B[49m\u001B[43mrinterface\u001B[49m\u001B[38;5;241;43m.\u001B[39;49m\u001B[43mSexpVector\u001B[49m\u001B[43m)\u001B[49m\u001B[43m \u001B[49m\u001B[38;5;28;43;01melse\u001B[39;49;00m\u001B[43m \u001B[49m\u001B[43mcol\u001B[49m\u001B[43m)\u001B[49m\n\u001B[1;32m    334\u001B[0m \u001B[43m    \u001B[49m\u001B[38;5;28;43;01mfor\u001B[39;49;00m\u001B[43m \u001B[49m\u001B[43mi\u001B[49m\u001B[43m,\u001B[49m\u001B[43m \u001B[49m\u001B[43mcol\u001B[49m\u001B[43m \u001B[49m\u001B[38;5;129;43;01min\u001B[39;49;00m\u001B[43m \u001B[49m\u001B[38;5;28;43menumerate\u001B[39;49m\u001B[43m(\u001B[49m\u001B[43m_flatten_dataframe\u001B[49m\u001B[43m(\u001B[49m\u001B[43mobj\u001B[49m\u001B[43m,\u001B[49m\u001B[43m \u001B[49m\u001B[43mcolnames_lst\u001B[49m\u001B[43m)\u001B[49m\u001B[43m)\u001B[49m\n\u001B[1;32m    335\u001B[0m \u001B[43m\u001B[49m\u001B[43m)\u001B[49m\n\u001B[1;32m    337\u001B[0m res \u001B[38;5;241m=\u001B[39m pandas\u001B[38;5;241m.\u001B[39mDataFrame\u001B[38;5;241m.\u001B[39mfrom_dict(od)\n\u001B[1;32m    338\u001B[0m res\u001B[38;5;241m.\u001B[39mcolumns \u001B[38;5;241m=\u001B[39m \u001B[38;5;28mtuple\u001B[39m(\u001B[38;5;124m'\u001B[39m\u001B[38;5;124m.\u001B[39m\u001B[38;5;124m'\u001B[39m\u001B[38;5;241m.\u001B[39mjoin(_) \u001B[38;5;28;01mif\u001B[39;00m \u001B[38;5;28misinstance\u001B[39m(_, \u001B[38;5;28mlist\u001B[39m) \u001B[38;5;28;01melse\u001B[39;00m _ \u001B[38;5;28;01mfor\u001B[39;00m _ \u001B[38;5;129;01min\u001B[39;00m colnames_lst)\n",
      "File \u001B[0;32m~/opt/anaconda3/lib/python3.8/site-packages/rpy2/robjects/pandas2ri.py:332\u001B[0m, in \u001B[0;36m<genexpr>\u001B[0;34m(.0)\u001B[0m\n\u001B[1;32m    330\u001B[0m rpy2py \u001B[38;5;241m=\u001B[39m conversion\u001B[38;5;241m.\u001B[39mget_conversion()\u001B[38;5;241m.\u001B[39mrpy2py\n\u001B[1;32m    331\u001B[0m colnames_lst \u001B[38;5;241m=\u001B[39m []\n\u001B[0;32m--> 332\u001B[0m od \u001B[38;5;241m=\u001B[39m OrderedDict(\n\u001B[1;32m    333\u001B[0m     (i, rpy2py(col) \u001B[38;5;28;01mif\u001B[39;00m \u001B[38;5;28misinstance\u001B[39m(col, rinterface\u001B[38;5;241m.\u001B[39mSexpVector) \u001B[38;5;28;01melse\u001B[39;00m col)\n\u001B[1;32m    334\u001B[0m     \u001B[38;5;28;01mfor\u001B[39;00m i, col \u001B[38;5;129;01min\u001B[39;00m \u001B[38;5;28menumerate\u001B[39m(_flatten_dataframe(obj, colnames_lst))\n\u001B[1;32m    335\u001B[0m )\n\u001B[1;32m    337\u001B[0m res \u001B[38;5;241m=\u001B[39m pandas\u001B[38;5;241m.\u001B[39mDataFrame\u001B[38;5;241m.\u001B[39mfrom_dict(od)\n\u001B[1;32m    338\u001B[0m res\u001B[38;5;241m.\u001B[39mcolumns \u001B[38;5;241m=\u001B[39m \u001B[38;5;28mtuple\u001B[39m(\u001B[38;5;124m'\u001B[39m\u001B[38;5;124m.\u001B[39m\u001B[38;5;124m'\u001B[39m\u001B[38;5;241m.\u001B[39mjoin(_) \u001B[38;5;28;01mif\u001B[39;00m \u001B[38;5;28misinstance\u001B[39m(_, \u001B[38;5;28mlist\u001B[39m) \u001B[38;5;28;01melse\u001B[39;00m _ \u001B[38;5;28;01mfor\u001B[39;00m _ \u001B[38;5;129;01min\u001B[39;00m colnames_lst)\n",
      "File \u001B[0;32m~/opt/anaconda3/lib/python3.8/site-packages/rpy2/robjects/pandas2ri.py:316\u001B[0m, in \u001B[0;36m_flatten_dataframe\u001B[0;34m(obj, colnames_lst)\u001B[0m\n\u001B[1;32m    303\u001B[0m \u001B[38;5;28;01mdef\u001B[39;00m \u001B[38;5;21m_flatten_dataframe\u001B[39m(obj, colnames_lst):\n\u001B[1;32m    304\u001B[0m \u001B[38;5;250m    \u001B[39m\u001B[38;5;124;03m\"\"\"Make each element in a list of columns or group of\u001B[39;00m\n\u001B[1;32m    305\u001B[0m \u001B[38;5;124;03m    columns iterable.\u001B[39;00m\n\u001B[1;32m    306\u001B[0m \n\u001B[0;32m   (...)\u001B[0m\n\u001B[1;32m    314\u001B[0m \u001B[38;5;124;03m    column names.\u001B[39;00m\n\u001B[1;32m    315\u001B[0m \u001B[38;5;124;03m    \"\"\"\u001B[39;00m\n\u001B[0;32m--> 316\u001B[0m     \u001B[38;5;28;01mfor\u001B[39;00m i, n \u001B[38;5;129;01min\u001B[39;00m \u001B[38;5;28;43menumerate\u001B[39;49m\u001B[43m(\u001B[49m\u001B[43mobj\u001B[49m\u001B[38;5;241;43m.\u001B[39;49m\u001B[43mcolnames\u001B[49m\u001B[43m)\u001B[49m:\n\u001B[1;32m    317\u001B[0m         col \u001B[38;5;241m=\u001B[39m obj[i]\n\u001B[1;32m    318\u001B[0m         \u001B[38;5;28;01mif\u001B[39;00m \u001B[38;5;28misinstance\u001B[39m(col, ListSexpVector):\n",
      "\u001B[0;31mTypeError\u001B[0m: 'NULLType' object is not iterable"
     ]
    }
   ],
   "source": [
    "import rpy2.robjects as ro\n",
    "from rpy2.robjects import conversion\n",
    "from rpy2.rinterface import NULL\n",
    "\n",
    "# Load the R data\n",
    "gmaps_cities_r = ro.r('gmaps_cities')\n",
    "\n",
    "# Initialize an empty list to hold the converted Python objects\n",
    "python_list = []\n",
    "\n",
    "# Convert each non-NULL element of the R list to a Python object\n",
    "for i in range(len(gmaps_cities_r)):\n",
    "    # Skip over NULL values in the R list\n",
    "    if gmaps_cities_r[i] is NULL:\n",
    "        continue\n",
    "\n",
    "    # For non-NULL values, perform the conversion\n",
    "    with conversion.localconverter(ro.default_converter + ro.pandas2ri.converter):\n",
    "        python_obj = conversion.rpy2py(gmaps_cities_r[i])\n",
    "        python_list.append(python_obj)\n",
    "\n",
    "# Now, python_list is a list of Python objects, which you can convert to a pandas DataFrame\n",
    "# You may need additional processing depending on the structure of the objects\n"
   ],
   "metadata": {
    "collapsed": false,
    "ExecuteTime": {
     "end_time": "2023-11-02T03:21:30.419318Z",
     "start_time": "2023-11-02T03:21:30.286883Z"
    }
   },
   "id": "27f7b958024abcf"
  },
  {
   "cell_type": "code",
   "execution_count": null,
   "outputs": [],
   "source": [],
   "metadata": {
    "collapsed": false
   },
   "id": "7f256e587aaf20ee"
  }
 ],
 "metadata": {
  "kernelspec": {
   "display_name": "Python 3",
   "language": "python",
   "name": "python3"
  },
  "language_info": {
   "codemirror_mode": {
    "name": "ipython",
    "version": 2
   },
   "file_extension": ".py",
   "mimetype": "text/x-python",
   "name": "python",
   "nbconvert_exporter": "python",
   "pygments_lexer": "ipython2",
   "version": "2.7.6"
  }
 },
 "nbformat": 4,
 "nbformat_minor": 5
}
